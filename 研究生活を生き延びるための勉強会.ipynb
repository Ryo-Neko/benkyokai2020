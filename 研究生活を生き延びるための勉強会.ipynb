{
  "nbformat": 4,
  "nbformat_minor": 0,
  "metadata": {
    "colab": {
      "name": "研究生活を生き延びるための勉強会.ipynb",
      "provenance": [],
      "collapsed_sections": [],
      "toc_visible": true,
      "mount_file_id": "10nc9ZRMrsCj8UYUv4u3eEGpc1SzdubrK",
      "authorship_tag": "ABX9TyPjV/X2iGGsdano/MN36av3",
      "include_colab_link": true
    },
    "kernelspec": {
      "name": "python3",
      "display_name": "Python 3"
    }
  },
  "cells": [
    {
      "cell_type": "markdown",
      "metadata": {
        "id": "view-in-github",
        "colab_type": "text"
      },
      "source": [
        "<a href=\"https://colab.research.google.com/github/Ryo-Neko/benkyokai2020/blob/master/%E7%A0%94%E7%A9%B6%E7%94%9F%E6%B4%BB%E3%82%92%E7%94%9F%E3%81%8D%E5%BB%B6%E3%81%B3%E3%82%8B%E3%81%9F%E3%82%81%E3%81%AE%E5%8B%89%E5%BC%B7%E4%BC%9A.ipynb\" target=\"_parent\"><img src=\"https://colab.research.google.com/assets/colab-badge.svg\" alt=\"Open In Colab\"/></a>"
      ]
    },
    {
      "cell_type": "markdown",
      "metadata": {
        "id": "pziDDeRfYlZ5",
        "colab_type": "text"
      },
      "source": [
        "# 1. コロナと戦う前にまず基本5本ノック\n",
        "たぶん勘でいけると思います。皆さんが入力する場所は、窓の左側に”[ ]”がついてある箇所です。勘でいいのです。パソコンは壊して覚えるのです。プロレーサーも車を潰して覚えるって言ってました。\n",
        "\n",
        "**10分以内に解いて下さい。**"
      ]
    },
    {
      "cell_type": "markdown",
      "metadata": {
        "id": "mikjQNvFY3q6",
        "colab_type": "text"
      },
      "source": [
        "## ①四則演算\n",
        "aに32(整数)、bに43．5（小数）を代入して、四則演算して答えを標準出力して下さい。\n",
        "\n",
        "---\n",
        "### 代入\n",
        "```python\n",
        "a = 数字等\n",
        "```\n",
        "aを変数といいます。\n",
        "\n",
        "### 四則演算\n",
        "```python\n",
        "数学のままです\n",
        "```\n",
        "\n",
        "### 標準出力\n",
        "```python\n",
        "print(a + b)\n",
        "```\n",
        " など画面に表示することをいいますね。\n",
        "\n",
        "---\n",
        "\n"
      ]
    },
    {
      "cell_type": "code",
      "metadata": {
        "id": "3F9PCaVIWflf",
        "colab_type": "code",
        "colab": {}
      },
      "source": [
        "# 答えを記述して下さい\n"
      ],
      "execution_count": 0,
      "outputs": []
    },
    {
      "cell_type": "markdown",
      "metadata": {
        "id": "TCX0MvL3Z7yn",
        "colab_type": "text"
      },
      "source": [
        "## ②文字列\n",
        "aに32（文字列）、bに43.5(小数)を代入して、それぞれ標準出力して下さい。\n",
        "\n",
        "さらに、その文字列を、それぞれ、2、3.5にスライスし標準出力して下さい。\n",
        "\n",
        "---\n",
        "### 文字列\n",
        "```python\n",
        "\"このように、シングルクオーテーションかダブルクオーテーションで囲われた英数字、日本語などのことを言います。\"\n",
        "```\n",
        "\n",
        "### スライス\n",
        "```python\n",
        "a = \"Kaneko\"\n",
        "a[1: 3] # -> an\n",
        "a[:3] # -> Kan\n",
        "```\n",
        "これをスライスと言います(\"基本的に\"文字列やリスト（後述）のみに使えます。)\n",
        "\n",
        "---"
      ]
    },
    {
      "cell_type": "code",
      "metadata": {
        "id": "huP4RzQyZs_7",
        "colab_type": "code",
        "colab": {}
      },
      "source": [
        "# 答えを記述して下さい\n"
      ],
      "execution_count": 0,
      "outputs": []
    },
    {
      "cell_type": "markdown",
      "metadata": {
        "id": "URUCmcM0c5c1",
        "colab_type": "text"
      },
      "source": [
        "## ③リスト\n",
        "aをリストとして定義して下さい。中身は順番に、1, 2, \"Kaneko\", 4, 5。これから、\"Kaneko\"と4を抽出し、標準出力して下さい。\n",
        "\n",
        "---\n",
        "### リスト\n",
        "```python\n",
        "a = ['Man', 'Name', 37, '男']\n",
        "```\n",
        "色んなものをまとめて入れておけます。\n",
        "\n",
        "### リストからの抽出\n",
        "```python\n",
        "a[1] # -> 'Nak'\n",
        "a[1: 3] # -> ['Nak', 37]\n",
        "```\n",
        "こんな感じで抽出できます(スライスです)"
      ]
    },
    {
      "cell_type": "code",
      "metadata": {
        "id": "COc93prYcj-5",
        "colab_type": "code",
        "colab": {}
      },
      "source": [
        "# 答えを記述して下さい\n"
      ],
      "execution_count": 0,
      "outputs": []
    },
    {
      "cell_type": "markdown",
      "metadata": {
        "id": "rmseinN_n4X7",
        "colab_type": "text"
      },
      "source": [
        "## ④forループ\n",
        "0から9までの数字をfor文で連続して順番に標準出力して下さい。\n",
        "\n",
        "---\n",
        "### forの書き方と挙動\n",
        "```python\n",
        "for 変数 in リスト:\n",
        "    処理内容\n",
        "    処理内容\n",
        "    処理内容\n",
        "    ...\n",
        "    ...\n",
        "```\n",
        "1. リスト内の要素を順番に変数に代入して処理。\n",
        "2. 一つの処理は同一レベル以下のインデント末尾まで。\n",
        "3. その後また最初まで戻る。\n",
        "4. 次のリストの要素を変数に代入して同一の処理\n",
        "5. リストの中身を全て参照し終えるまで続ける\n",
        "\n",
        "### ヒント： rangeの挙動\n",
        "この問題は、単純に以下でいける。\n",
        "```python\n",
        "for i in [0, 1, 2, 3, 4, 5, 6, 7, 8， 9]:\n",
        "    print(i)\n",
        "```\n",
        "しかし、リストの中身が100個ある場合に困る。この時につかるのが、rangeである。\n",
        "```python\n",
        "range(10) # -> [0, 1, 2, 3, 4, 5, 6, 7, 8， 9] これは厳密には挙動が違うが今の段階ではこの認識で良い。\n",
        "```\n",
        "---"
      ]
    },
    {
      "cell_type": "code",
      "metadata": {
        "id": "gk3VHO6gnwDJ",
        "colab_type": "code",
        "colab": {}
      },
      "source": [
        "# 答えを記述して下さい\n"
      ],
      "execution_count": 0,
      "outputs": []
    },
    {
      "cell_type": "markdown",
      "metadata": {
        "id": "kwRF-rVVrIbn",
        "colab_type": "text"
      },
      "source": [
        "## ⑤ if文\n",
        "リストaの中身のそれぞれが整数5であるか判断するプログラムを作って下さい。プログラムの書き始めはリストの定義から始めます。以下をコピペして1行目に書いてください。\n",
        "```python\n",
        "a = [1, 4, 3, 5, 30, \"M\", 5, \"Nak\", \"5\"]\n",
        "```\n",
        "---\n",
        "\n",
        "### if文\n",
        "簡単に書けばこうなります。\n",
        "\n",
        "```python\n",
        "if True:\n",
        "    print(\"True\"ならこれが表示されます。\"False\"ならスルー）\n",
        "```\n",
        "PythonにはTrue、Falseという特殊な数字が存在します（True=1, False=0）。これをifの隣に書いてあげると、if文の中の処理が行われます。\n",
        "\n",
        "### 条件式\n",
        "```python\n",
        "1 == 1 # -> True\n",
        "1 == 2 # -> Flase\n",
        "1 > 1 # -> False\n",
        "```\n",
        "---\n"
      ]
    },
    {
      "cell_type": "code",
      "metadata": {
        "id": "bor17GLsrD0J",
        "colab_type": "code",
        "colab": {}
      },
      "source": [
        "# 答えを記述して下さい\n"
      ],
      "execution_count": 0,
      "outputs": []
    },
    {
      "cell_type": "markdown",
      "metadata": {
        "id": "Iyav5tQTtMLC",
        "colab_type": "text"
      },
      "source": [
        "# 2. コロナウイルスデータを触ってみよう\n",
        "## 読み込み\n",
        "https://github.com/kaz-ogiwara/covid19/\n",
        "こちらからデータを頂いている。感謝します。"
      ]
    },
    {
      "cell_type": "code",
      "metadata": {
        "id": "Kw7KUA0LtOwi",
        "colab_type": "code",
        "colab": {}
      },
      "source": [
        "import pandas as pd"
      ],
      "execution_count": 0,
      "outputs": []
    },
    {
      "cell_type": "code",
      "metadata": {
        "id": "aTx6dJwstRNq",
        "colab_type": "code",
        "outputId": "d3f8e9c2-714b-4954-c2c0-5f4b8f0ecb62",
        "colab": {
          "base_uri": "https://localhost:8080/",
          "height": 235
        }
      },
      "source": [
        "df = pd.read_csv(\"/content/drive/My Drive/datasets/covid19/data.csv\", header=0, index_col=0)\n",
        "df.head()"
      ],
      "execution_count": 0,
      "outputs": [
        {
          "output_type": "execute_result",
          "data": {
            "text/html": [
              "<div>\n",
              "<style scoped>\n",
              "    .dataframe tbody tr th:only-of-type {\n",
              "        vertical-align: middle;\n",
              "    }\n",
              "\n",
              "    .dataframe tbody tr th {\n",
              "        vertical-align: top;\n",
              "    }\n",
              "\n",
              "    .dataframe thead th {\n",
              "        text-align: right;\n",
              "    }\n",
              "</style>\n",
              "<table border=\"1\" class=\"dataframe\">\n",
              "  <thead>\n",
              "    <tr style=\"text-align: right;\">\n",
              "      <th></th>\n",
              "      <th>旧No.</th>\n",
              "      <th>確定日</th>\n",
              "      <th>年代</th>\n",
              "      <th>性別</th>\n",
              "      <th>居住地</th>\n",
              "      <th>周囲の患者の発生※</th>\n",
              "      <th>濃厚接触者\\nの状況</th>\n",
              "    </tr>\n",
              "    <tr>\n",
              "      <th>新No.</th>\n",
              "      <th></th>\n",
              "      <th></th>\n",
              "      <th></th>\n",
              "      <th></th>\n",
              "      <th></th>\n",
              "      <th></th>\n",
              "      <th></th>\n",
              "    </tr>\n",
              "  </thead>\n",
              "  <tbody>\n",
              "    <tr>\n",
              "      <th>1</th>\n",
              "      <td>1</td>\n",
              "      <td>1/15</td>\n",
              "      <td>30代</td>\n",
              "      <td>男</td>\n",
              "      <td>神奈川県</td>\n",
              "      <td>なし</td>\n",
              "      <td>38名特定、健康観察終了</td>\n",
              "    </tr>\n",
              "    <tr>\n",
              "      <th>2</th>\n",
              "      <td>2</td>\n",
              "      <td>1/24</td>\n",
              "      <td>40代</td>\n",
              "      <td>男</td>\n",
              "      <td>中国（武漢市）</td>\n",
              "      <td>なし</td>\n",
              "      <td>32名特定、健康観察終了</td>\n",
              "    </tr>\n",
              "    <tr>\n",
              "      <th>3</th>\n",
              "      <td>3</td>\n",
              "      <td>1/25</td>\n",
              "      <td>30代</td>\n",
              "      <td>女</td>\n",
              "      <td>中国（武漢市）</td>\n",
              "      <td>なし</td>\n",
              "      <td>７名特定、健康観察終了</td>\n",
              "    </tr>\n",
              "    <tr>\n",
              "      <th>4</th>\n",
              "      <td>4</td>\n",
              "      <td>1/26</td>\n",
              "      <td>40代</td>\n",
              "      <td>男</td>\n",
              "      <td>中国（武漢市）</td>\n",
              "      <td>No.19</td>\n",
              "      <td>２名特定、健康観察終了</td>\n",
              "    </tr>\n",
              "    <tr>\n",
              "      <th>5</th>\n",
              "      <td>5</td>\n",
              "      <td>1/28</td>\n",
              "      <td>40代</td>\n",
              "      <td>男</td>\n",
              "      <td>中国（武漢市）</td>\n",
              "      <td>なし</td>\n",
              "      <td>３名特定、健康観察終了</td>\n",
              "    </tr>\n",
              "  </tbody>\n",
              "</table>\n",
              "</div>"
            ],
            "text/plain": [
              "      旧No.   確定日   年代 性別      居住地 周囲の患者の発生※    濃厚接触者\\nの状況\n",
              "新No.                                                     \n",
              "1        1  1/15  30代  男     神奈川県        なし  38名特定、健康観察終了\n",
              "2        2  1/24  40代  男  中国（武漢市）        なし  32名特定、健康観察終了\n",
              "3        3  1/25  30代  女  中国（武漢市）        なし   ７名特定、健康観察終了\n",
              "4        4  1/26  40代  男  中国（武漢市）     No.19   ２名特定、健康観察終了\n",
              "5        5  1/28  40代  男  中国（武漢市）        なし   ３名特定、健康観察終了"
            ]
          },
          "metadata": {
            "tags": []
          },
          "execution_count": 3
        }
      ]
    },
    {
      "cell_type": "markdown",
      "metadata": {
        "id": "puXwtsSytzIR",
        "colab_type": "text"
      },
      "source": [
        "## DataFrameを触ってみよう\n",
        "基本的に\n",
        "```python\n",
        "df[行, 列]\n",
        "```\n",
        "だねぇ。"
      ]
    },
    {
      "cell_type": "code",
      "metadata": {
        "id": "AwFOQfKltcKT",
        "colab_type": "code",
        "outputId": "d059edca-d823-43cf-9bf0-14e9157a4d27",
        "colab": {
          "base_uri": "https://localhost:8080/",
          "height": 153
        }
      },
      "source": [
        "df.iloc[1, :] # index location"
      ],
      "execution_count": 0,
      "outputs": [
        {
          "output_type": "execute_result",
          "data": {
            "text/plain": [
              "旧No.                     2\n",
              "確定日                   1/24\n",
              "年代                     40代\n",
              "性別                       男\n",
              "居住地                中国（武漢市）\n",
              "周囲の患者の発生※               なし\n",
              "濃厚接触者\\nの状況    32名特定、健康観察終了\n",
              "Name: 2, dtype: object"
            ]
          },
          "metadata": {
            "tags": []
          },
          "execution_count": 4
        }
      ]
    },
    {
      "cell_type": "code",
      "metadata": {
        "id": "3X0tEEeWvplw",
        "colab_type": "code",
        "outputId": "7efe065c-e898-4888-8575-1cd38d0c732e",
        "colab": {
          "base_uri": "https://localhost:8080/",
          "height": 238
        }
      },
      "source": [
        "df.iloc[:, 3] # index location"
      ],
      "execution_count": 0,
      "outputs": [
        {
          "output_type": "execute_result",
          "data": {
            "text/plain": [
              "新No.\n",
              "1      男\n",
              "2      男\n",
              "3      女\n",
              "4      男\n",
              "5      男\n",
              "      ..\n",
              "193    女\n",
              "194    男\n",
              "195    男\n",
              "196    男\n",
              "197    女\n",
              "Name: 性別, Length: 197, dtype: object"
            ]
          },
          "metadata": {
            "tags": []
          },
          "execution_count": 19
        }
      ]
    },
    {
      "cell_type": "code",
      "metadata": {
        "id": "3X2ls82euBnP",
        "colab_type": "code",
        "outputId": "70d1242b-fde0-47aa-a38e-58e5992994af",
        "colab": {
          "base_uri": "https://localhost:8080/",
          "height": 238
        }
      },
      "source": [
        "df.loc[:, \"性別\"] # location"
      ],
      "execution_count": 0,
      "outputs": [
        {
          "output_type": "execute_result",
          "data": {
            "text/plain": [
              "新No.\n",
              "1      男\n",
              "2      男\n",
              "3      女\n",
              "4      男\n",
              "5      男\n",
              "      ..\n",
              "193    女\n",
              "194    男\n",
              "195    男\n",
              "196    男\n",
              "197    女\n",
              "Name: 性別, Length: 197, dtype: object"
            ]
          },
          "metadata": {
            "tags": []
          },
          "execution_count": 15
        }
      ]
    },
    {
      "cell_type": "code",
      "metadata": {
        "id": "QqWBpeQWuNsD",
        "colab_type": "code",
        "outputId": "20a20585-c447-4039-a8be-a61db2bece18",
        "colab": {
          "base_uri": "https://localhost:8080/",
          "height": 238
        }
      },
      "source": [
        "df['年代']"
      ],
      "execution_count": 0,
      "outputs": [
        {
          "output_type": "execute_result",
          "data": {
            "text/plain": [
              "新No.\n",
              "1      30代\n",
              "2      40代\n",
              "3      30代\n",
              "4      40代\n",
              "5      40代\n",
              "      ... \n",
              "193    60代\n",
              "194    60代\n",
              "195    60代\n",
              "196    60代\n",
              "197    40代\n",
              "Name: 年代, Length: 197, dtype: object"
            ]
          },
          "metadata": {
            "tags": []
          },
          "execution_count": 7
        }
      ]
    },
    {
      "cell_type": "code",
      "metadata": {
        "id": "yPjP98vwuSnu",
        "colab_type": "code",
        "outputId": "989e64b4-5843-4075-fcf1-f3f87fc780f7",
        "colab": {
          "base_uri": "https://localhost:8080/",
          "height": 238
        }
      },
      "source": [
        "df['性別'] == \"男\""
      ],
      "execution_count": 0,
      "outputs": [
        {
          "output_type": "execute_result",
          "data": {
            "text/plain": [
              "新No.\n",
              "1       True\n",
              "2       True\n",
              "3      False\n",
              "4       True\n",
              "5       True\n",
              "       ...  \n",
              "193    False\n",
              "194     True\n",
              "195     True\n",
              "196     True\n",
              "197    False\n",
              "Name: 性別, Length: 197, dtype: bool"
            ]
          },
          "metadata": {
            "tags": []
          },
          "execution_count": 9
        }
      ]
    },
    {
      "cell_type": "code",
      "metadata": {
        "id": "zFlFCW5Fu6Bn",
        "colab_type": "code",
        "outputId": "1f4a0cd1-9398-4cbb-b891-b66dd071677b",
        "colab": {
          "base_uri": "https://localhost:8080/",
          "height": 450
        }
      },
      "source": [
        "df[df['性別'] == \"男\"] # Trueが抽出される"
      ],
      "execution_count": 0,
      "outputs": [
        {
          "output_type": "execute_result",
          "data": {
            "text/html": [
              "<div>\n",
              "<style scoped>\n",
              "    .dataframe tbody tr th:only-of-type {\n",
              "        vertical-align: middle;\n",
              "    }\n",
              "\n",
              "    .dataframe tbody tr th {\n",
              "        vertical-align: top;\n",
              "    }\n",
              "\n",
              "    .dataframe thead th {\n",
              "        text-align: right;\n",
              "    }\n",
              "</style>\n",
              "<table border=\"1\" class=\"dataframe\">\n",
              "  <thead>\n",
              "    <tr style=\"text-align: right;\">\n",
              "      <th></th>\n",
              "      <th>旧No.</th>\n",
              "      <th>確定日</th>\n",
              "      <th>年代</th>\n",
              "      <th>性別</th>\n",
              "      <th>居住地</th>\n",
              "      <th>周囲の患者の発生※</th>\n",
              "      <th>濃厚接触者\\nの状況</th>\n",
              "    </tr>\n",
              "    <tr>\n",
              "      <th>新No.</th>\n",
              "      <th></th>\n",
              "      <th></th>\n",
              "      <th></th>\n",
              "      <th></th>\n",
              "      <th></th>\n",
              "      <th></th>\n",
              "      <th></th>\n",
              "    </tr>\n",
              "  </thead>\n",
              "  <tbody>\n",
              "    <tr>\n",
              "      <th>1</th>\n",
              "      <td>1</td>\n",
              "      <td>1/15</td>\n",
              "      <td>30代</td>\n",
              "      <td>男</td>\n",
              "      <td>神奈川県</td>\n",
              "      <td>なし</td>\n",
              "      <td>38名特定、健康観察終了</td>\n",
              "    </tr>\n",
              "    <tr>\n",
              "      <th>2</th>\n",
              "      <td>2</td>\n",
              "      <td>1/24</td>\n",
              "      <td>40代</td>\n",
              "      <td>男</td>\n",
              "      <td>中国（武漢市）</td>\n",
              "      <td>なし</td>\n",
              "      <td>32名特定、健康観察終了</td>\n",
              "    </tr>\n",
              "    <tr>\n",
              "      <th>4</th>\n",
              "      <td>4</td>\n",
              "      <td>1/26</td>\n",
              "      <td>40代</td>\n",
              "      <td>男</td>\n",
              "      <td>中国（武漢市）</td>\n",
              "      <td>No.19</td>\n",
              "      <td>２名特定、健康観察終了</td>\n",
              "    </tr>\n",
              "    <tr>\n",
              "      <th>5</th>\n",
              "      <td>5</td>\n",
              "      <td>1/28</td>\n",
              "      <td>40代</td>\n",
              "      <td>男</td>\n",
              "      <td>中国（武漢市）</td>\n",
              "      <td>なし</td>\n",
              "      <td>３名特定、健康観察終了</td>\n",
              "    </tr>\n",
              "    <tr>\n",
              "      <th>6</th>\n",
              "      <td>6</td>\n",
              "      <td>1/28</td>\n",
              "      <td>60代</td>\n",
              "      <td>男</td>\n",
              "      <td>奈良県</td>\n",
              "      <td>No.８、No.13</td>\n",
              "      <td>22名特定、健康観察終了</td>\n",
              "    </tr>\n",
              "    <tr>\n",
              "      <th>...</th>\n",
              "      <td>...</td>\n",
              "      <td>...</td>\n",
              "      <td>...</td>\n",
              "      <td>...</td>\n",
              "      <td>...</td>\n",
              "      <td>...</td>\n",
              "      <td>...</td>\n",
              "    </tr>\n",
              "    <tr>\n",
              "      <th>191</th>\n",
              "      <td>202</td>\n",
              "      <td>2/28</td>\n",
              "      <td>40代</td>\n",
              "      <td>男</td>\n",
              "      <td>北海道</td>\n",
              "      <td>調査中</td>\n",
              "      <td>調査中</td>\n",
              "    </tr>\n",
              "    <tr>\n",
              "      <th>192</th>\n",
              "      <td>203</td>\n",
              "      <td>2/28</td>\n",
              "      <td>70代</td>\n",
              "      <td>男</td>\n",
              "      <td>北海道</td>\n",
              "      <td>調査中</td>\n",
              "      <td>調査中</td>\n",
              "    </tr>\n",
              "    <tr>\n",
              "      <th>194</th>\n",
              "      <td>205</td>\n",
              "      <td>2/28</td>\n",
              "      <td>60代</td>\n",
              "      <td>男</td>\n",
              "      <td>北海道</td>\n",
              "      <td>調査中</td>\n",
              "      <td>調査中</td>\n",
              "    </tr>\n",
              "    <tr>\n",
              "      <th>195</th>\n",
              "      <td>206</td>\n",
              "      <td>2/28</td>\n",
              "      <td>60代</td>\n",
              "      <td>男</td>\n",
              "      <td>北海道</td>\n",
              "      <td>調査中</td>\n",
              "      <td>調査中</td>\n",
              "    </tr>\n",
              "    <tr>\n",
              "      <th>196</th>\n",
              "      <td>207</td>\n",
              "      <td>2/28</td>\n",
              "      <td>60代</td>\n",
              "      <td>男</td>\n",
              "      <td>愛知県</td>\n",
              "      <td>調査中</td>\n",
              "      <td>調査中</td>\n",
              "    </tr>\n",
              "  </tbody>\n",
              "</table>\n",
              "<p>129 rows × 7 columns</p>\n",
              "</div>"
            ],
            "text/plain": [
              "      旧No.   確定日   年代 性別      居住地   周囲の患者の発生※    濃厚接触者\\nの状況\n",
              "新No.                                                       \n",
              "1        1  1/15  30代  男     神奈川県          なし  38名特定、健康観察終了\n",
              "2        2  1/24  40代  男  中国（武漢市）          なし  32名特定、健康観察終了\n",
              "4        4  1/26  40代  男  中国（武漢市）       No.19   ２名特定、健康観察終了\n",
              "5        5  1/28  40代  男  中国（武漢市）          なし   ３名特定、健康観察終了\n",
              "6        6  1/28  60代  男      奈良県  No.８、No.13  22名特定、健康観察終了\n",
              "...    ...   ...  ... ..      ...         ...           ...\n",
              "191    202  2/28  40代  男      北海道         調査中           調査中\n",
              "192    203  2/28  70代  男      北海道         調査中           調査中\n",
              "194    205  2/28  60代  男      北海道         調査中           調査中\n",
              "195    206  2/28  60代  男      北海道         調査中           調査中\n",
              "196    207  2/28  60代  男      愛知県         調査中           調査中\n",
              "\n",
              "[129 rows x 7 columns]"
            ]
          },
          "metadata": {
            "tags": []
          },
          "execution_count": 12
        }
      ]
    },
    {
      "cell_type": "code",
      "metadata": {
        "id": "9urEEgICvAn0",
        "colab_type": "code",
        "outputId": "fab01091-9cac-4412-aa17-b31cc55999c2",
        "colab": {
          "base_uri": "https://localhost:8080/",
          "height": 450
        }
      },
      "source": [
        "df[df['性別'] != \"男\"] # 女がTrueになる（わかるかな？)"
      ],
      "execution_count": 0,
      "outputs": [
        {
          "output_type": "execute_result",
          "data": {
            "text/html": [
              "<div>\n",
              "<style scoped>\n",
              "    .dataframe tbody tr th:only-of-type {\n",
              "        vertical-align: middle;\n",
              "    }\n",
              "\n",
              "    .dataframe tbody tr th {\n",
              "        vertical-align: top;\n",
              "    }\n",
              "\n",
              "    .dataframe thead th {\n",
              "        text-align: right;\n",
              "    }\n",
              "</style>\n",
              "<table border=\"1\" class=\"dataframe\">\n",
              "  <thead>\n",
              "    <tr style=\"text-align: right;\">\n",
              "      <th></th>\n",
              "      <th>旧No.</th>\n",
              "      <th>確定日</th>\n",
              "      <th>年代</th>\n",
              "      <th>性別</th>\n",
              "      <th>居住地</th>\n",
              "      <th>周囲の患者の発生※</th>\n",
              "      <th>濃厚接触者\\nの状況</th>\n",
              "    </tr>\n",
              "    <tr>\n",
              "      <th>新No.</th>\n",
              "      <th></th>\n",
              "      <th></th>\n",
              "      <th></th>\n",
              "      <th></th>\n",
              "      <th></th>\n",
              "      <th></th>\n",
              "      <th></th>\n",
              "    </tr>\n",
              "  </thead>\n",
              "  <tbody>\n",
              "    <tr>\n",
              "      <th>3</th>\n",
              "      <td>3</td>\n",
              "      <td>1/25</td>\n",
              "      <td>30代</td>\n",
              "      <td>女</td>\n",
              "      <td>中国（武漢市）</td>\n",
              "      <td>なし</td>\n",
              "      <td>７名特定、健康観察終了</td>\n",
              "    </tr>\n",
              "    <tr>\n",
              "      <th>7</th>\n",
              "      <td>7</td>\n",
              "      <td>1/28</td>\n",
              "      <td>40代</td>\n",
              "      <td>女</td>\n",
              "      <td>中国（武漢市）</td>\n",
              "      <td>なし</td>\n",
              "      <td>２名特定、健康観察終了</td>\n",
              "    </tr>\n",
              "    <tr>\n",
              "      <th>8</th>\n",
              "      <td>8</td>\n",
              "      <td>1/29</td>\n",
              "      <td>40代</td>\n",
              "      <td>女</td>\n",
              "      <td>大阪府</td>\n",
              "      <td>No.６</td>\n",
              "      <td>２名特定、健康観察終了</td>\n",
              "    </tr>\n",
              "    <tr>\n",
              "      <th>10</th>\n",
              "      <td>11</td>\n",
              "      <td>1/30</td>\n",
              "      <td>30代</td>\n",
              "      <td>女</td>\n",
              "      <td>中国（湖南省）</td>\n",
              "      <td>なし</td>\n",
              "      <td>４名特定、健康観察終了</td>\n",
              "    </tr>\n",
              "    <tr>\n",
              "      <th>11</th>\n",
              "      <td>12</td>\n",
              "      <td>1/30</td>\n",
              "      <td>20代</td>\n",
              "      <td>女</td>\n",
              "      <td>京都府</td>\n",
              "      <td>なし</td>\n",
              "      <td>なし</td>\n",
              "    </tr>\n",
              "    <tr>\n",
              "      <th>...</th>\n",
              "      <td>...</td>\n",
              "      <td>...</td>\n",
              "      <td>...</td>\n",
              "      <td>...</td>\n",
              "      <td>...</td>\n",
              "      <td>...</td>\n",
              "      <td>...</td>\n",
              "    </tr>\n",
              "    <tr>\n",
              "      <th>184</th>\n",
              "      <td>195</td>\n",
              "      <td>2/28</td>\n",
              "      <td>80代</td>\n",
              "      <td>女</td>\n",
              "      <td>北海道</td>\n",
              "      <td>調査中</td>\n",
              "      <td>調査中</td>\n",
              "    </tr>\n",
              "    <tr>\n",
              "      <th>187</th>\n",
              "      <td>198</td>\n",
              "      <td>2/28</td>\n",
              "      <td>60代</td>\n",
              "      <td>女</td>\n",
              "      <td>北海道</td>\n",
              "      <td>調査中</td>\n",
              "      <td>調査中</td>\n",
              "    </tr>\n",
              "    <tr>\n",
              "      <th>190</th>\n",
              "      <td>201</td>\n",
              "      <td>2/28</td>\n",
              "      <td>60代</td>\n",
              "      <td>女</td>\n",
              "      <td>北海道</td>\n",
              "      <td>調査中</td>\n",
              "      <td>調査中</td>\n",
              "    </tr>\n",
              "    <tr>\n",
              "      <th>193</th>\n",
              "      <td>204</td>\n",
              "      <td>2/28</td>\n",
              "      <td>60代</td>\n",
              "      <td>女</td>\n",
              "      <td>北海道</td>\n",
              "      <td>調査中</td>\n",
              "      <td>調査中</td>\n",
              "    </tr>\n",
              "    <tr>\n",
              "      <th>197</th>\n",
              "      <td>208</td>\n",
              "      <td>2/28</td>\n",
              "      <td>40代</td>\n",
              "      <td>女</td>\n",
              "      <td>大阪府</td>\n",
              "      <td>調査中</td>\n",
              "      <td>調査中</td>\n",
              "    </tr>\n",
              "  </tbody>\n",
              "</table>\n",
              "<p>68 rows × 7 columns</p>\n",
              "</div>"
            ],
            "text/plain": [
              "      旧No.   確定日   年代 性別      居住地 周囲の患者の発生※   濃厚接触者\\nの状況\n",
              "新No.                                                    \n",
              "3        3  1/25  30代  女  中国（武漢市）        なし  ７名特定、健康観察終了\n",
              "7        7  1/28  40代  女  中国（武漢市）        なし  ２名特定、健康観察終了\n",
              "8        8  1/29  40代  女      大阪府      No.６  ２名特定、健康観察終了\n",
              "10      11  1/30  30代  女  中国（湖南省）        なし  ４名特定、健康観察終了\n",
              "11      12  1/30  20代  女      京都府        なし           なし\n",
              "...    ...   ...  ... ..      ...       ...          ...\n",
              "184    195  2/28  80代  女      北海道       調査中          調査中\n",
              "187    198  2/28  60代  女      北海道       調査中          調査中\n",
              "190    201  2/28  60代  女      北海道       調査中          調査中\n",
              "193    204  2/28  60代  女      北海道       調査中          調査中\n",
              "197    208  2/28  40代  女      大阪府       調査中          調査中\n",
              "\n",
              "[68 rows x 7 columns]"
            ]
          },
          "metadata": {
            "tags": []
          },
          "execution_count": 14
        }
      ]
    },
    {
      "cell_type": "code",
      "metadata": {
        "id": "8IXVta47vJCX",
        "colab_type": "code",
        "colab": {}
      },
      "source": [
        "# お好きなように遊んでみてね。\n"
      ],
      "execution_count": 0,
      "outputs": []
    },
    {
      "cell_type": "markdown",
      "metadata": {
        "id": "SxvilasmwEQe",
        "colab_type": "text"
      },
      "source": [
        "## いよいよ簡単にデータを解析していきます\n",
        "あくまでとても簡単に。"
      ]
    },
    {
      "cell_type": "code",
      "metadata": {
        "id": "7EaVGyA7wrHP",
        "colab_type": "code",
        "outputId": "3eb15120-4dcb-4849-d324-d63150b5d890",
        "colab": {
          "base_uri": "https://localhost:8080/",
          "height": 207
        }
      },
      "source": [
        "!pip install japanize-matplotlib"
      ],
      "execution_count": 0,
      "outputs": [
        {
          "output_type": "stream",
          "text": [
            "Collecting japanize-matplotlib\n",
            "\u001b[?25l  Downloading https://files.pythonhosted.org/packages/aa/c0/b75d434be51a8cc11d2e9b36f2d7f93a1bcf63bde24dc79a61d329d60b2a/japanize-matplotlib-1.0.5.tar.gz (4.1MB)\n",
            "\u001b[K     |████████████████████████████████| 4.1MB 3.0MB/s \n",
            "\u001b[?25hBuilding wheels for collected packages: japanize-matplotlib\n",
            "  Building wheel for japanize-matplotlib (setup.py) ... \u001b[?25l\u001b[?25hdone\n",
            "  Created wheel for japanize-matplotlib: filename=japanize_matplotlib-1.0.5-cp36-none-any.whl size=4118721 sha256=eeafdb9423a8863a093d247c6150e8ba19f650aae0236692746c44c58b22a504\n",
            "  Stored in directory: /root/.cache/pip/wheels/6c/8a/08/4a784957da9f3c2b4839b4986be2fba2a481877318948be52c\n",
            "Successfully built japanize-matplotlib\n",
            "Installing collected packages: japanize-matplotlib\n",
            "Successfully installed japanize-matplotlib-1.0.5\n"
          ],
          "name": "stdout"
        }
      ]
    },
    {
      "cell_type": "code",
      "metadata": {
        "id": "RUpdel09wDbe",
        "colab_type": "code",
        "colab": {}
      },
      "source": [
        "import matplotlib.pyplot as plt\n",
        "import seaborn as sns\n",
        "\n",
        "import japanize_matplotlib"
      ],
      "execution_count": 0,
      "outputs": []
    },
    {
      "cell_type": "code",
      "metadata": {
        "id": "WN4wk2s4wLp9",
        "colab_type": "code",
        "outputId": "4f5654df-e410-415b-a798-34b766a282ca",
        "colab": {
          "base_uri": "https://localhost:8080/",
          "height": 295
        }
      },
      "source": [
        "sns.countplot(x='性別', data=df)"
      ],
      "execution_count": 0,
      "outputs": [
        {
          "output_type": "execute_result",
          "data": {
            "text/plain": [
              "<matplotlib.axes._subplots.AxesSubplot at 0x7fc0c32820b8>"
            ]
          },
          "metadata": {
            "tags": []
          },
          "execution_count": 27
        },
        {
          "output_type": "display_data",
          "data": {
            "image/png": "[encoded data removed]",
            "text/plain": [
              "<Figure size 432x288 with 1 Axes>"
            ]
          },
          "metadata": {
            "tags": []
          }
        }
      ]
    },
    {
      "cell_type": "code",
      "metadata": {
        "id": "qT6is32jwoub",
        "colab_type": "code",
        "outputId": "645c1717-f96c-4c37-d0aa-e27cf0272551",
        "colab": {
          "base_uri": "https://localhost:8080/",
          "height": 781
        }
      },
      "source": [
        "ax = sns.countplot(x='居住地', data=df)\n",
        "ax.set_xticklabels(ax.get_xticklabels(), rotation=90)"
      ],
      "execution_count": 0,
      "outputs": [
        {
          "output_type": "execute_result",
          "data": {
            "text/plain": [
              "[Text(0, 0, '神奈川県'),\n",
              " Text(0, 0, '中国（武漢市）'),\n",
              " Text(0, 0, '奈良県'),\n",
              " Text(0, 0, '大阪府'),\n",
              " Text(0, 0, '三重県'),\n",
              " Text(0, 0, '中国（湖南省）'),\n",
              " Text(0, 0, '京都府'),\n",
              " Text(0, 0, '千葉県'),\n",
              " Text(0, 0, '中国（湖北省）'),\n",
              " Text(0, 0, '東京都'),\n",
              " Text(0, 0, '和歌山県'),\n",
              " Text(0, 0, '和歌山'),\n",
              " Text(0, 0, '沖縄県'),\n",
              " Text(0, 0, '愛知県'),\n",
              " Text(0, 0, '北海道'),\n",
              " Text(0, 0, '調査中'),\n",
              " Text(0, 0, '神奈川'),\n",
              " Text(0, 0, '福岡県'),\n",
              " Text(0, 0, '埼玉県'),\n",
              " Text(0, 0, '石川県'),\n",
              " Text(0, 0, '熊本県'),\n",
              " Text(0, 0, '栃木県'),\n",
              " Text(0, 0, '長野県'),\n",
              " Text(0, 0, '岐阜県'),\n",
              " Text(0, 0, '滋賀県'),\n",
              " Text(0, 0, '静岡県')]"
            ]
          },
          "metadata": {
            "tags": []
          },
          "execution_count": 30
        },
        {
          "output_type": "display_data",
          "data": {
            "image/png": "[encoded data removed]",
            "text/plain": [
              "<Figure size 432x288 with 1 Axes>"
            ]
          },
          "metadata": {
            "tags": []
          }
        }
      ]
    },
    {
      "cell_type": "code",
      "metadata": {
        "id": "JO1wYob_xHgw",
        "colab_type": "code",
        "outputId": "119d0e6f-1fca-412f-ba49-fa2ece583158",
        "colab": {
          "base_uri": "https://localhost:8080/",
          "height": 279
        }
      },
      "source": [
        "ax = sns.countplot(x='年代', data=df)"
      ],
      "execution_count": 0,
      "outputs": [
        {
          "output_type": "display_data",
          "data": {
            "image/png": "[encoded data removed]",
            "text/plain": [
              "<Figure size 432x288 with 1 Axes>"
            ]
          },
          "metadata": {
            "tags": []
          }
        }
      ]
    },
    {
      "cell_type": "code",
      "metadata": {
        "id": "nBTw8R2Y1ApQ",
        "colab_type": "code",
        "colab": {}
      },
      "source": [
        "# 上の奴を年代順に並べ替えてくれ（下に答えが書いてあるが自分で調べてその調べた道筋を教えてくれ。）\n"
      ],
      "execution_count": 0,
      "outputs": []
    },
    {
      "cell_type": "code",
      "metadata": {
        "id": "3YxlhqPg1B7F",
        "colab_type": "code",
        "colab": {}
      },
      "source": [
        ""
      ],
      "execution_count": 0,
      "outputs": []
    },
    {
      "cell_type": "code",
      "metadata": {
        "id": "XrPATRX-1BzK",
        "colab_type": "code",
        "colab": {}
      },
      "source": [
        ""
      ],
      "execution_count": 0,
      "outputs": []
    },
    {
      "cell_type": "code",
      "metadata": {
        "id": "l_XEIfly1BoZ",
        "colab_type": "code",
        "colab": {}
      },
      "source": [
        ""
      ],
      "execution_count": 0,
      "outputs": []
    },
    {
      "cell_type": "code",
      "metadata": {
        "id": "qmLx-vja1BSv",
        "colab_type": "code",
        "colab": {}
      },
      "source": [
        ""
      ],
      "execution_count": 0,
      "outputs": []
    },
    {
      "cell_type": "code",
      "metadata": {
        "id": "984k9UUkzrwW",
        "colab_type": "code",
        "outputId": "cfce2c99-e9d7-4440-ed8d-af3380397ba6",
        "colab": {
          "base_uri": "https://localhost:8080/",
          "height": 278
        }
      },
      "source": [
        "ax = sns.countplot(x='年代', hue='性別', data=df) # hueを使うと面白い。"
      ],
      "execution_count": 0,
      "outputs": [
        {
          "output_type": "display_data",
          "data": {
            "image/png": "[encoded data removed]",
            "text/plain": [
              "<Figure size 432x288 with 1 Axes>"
            ]
          },
          "metadata": {
            "tags": []
          }
        }
      ]
    },
    {
      "cell_type": "code",
      "metadata": {
        "id": "BMAHuvEBzvHs",
        "colab_type": "code",
        "colab": {}
      },
      "source": [
        "labels = ['10歳未満', '10代', '20代', '30代', '40代', '50代', '60代', '70代', '80代']"
      ],
      "execution_count": 0,
      "outputs": []
    },
    {
      "cell_type": "code",
      "metadata": {
        "id": "L9G8CW1r0LrY",
        "colab_type": "code",
        "outputId": "56484526-0cd9-4d77-d859-3904d63af0b3",
        "colab": {
          "base_uri": "https://localhost:8080/",
          "height": 278
        }
      },
      "source": [
        "ax = sns.countplot(x='年代', hue='性別', data=df, order=labels)"
      ],
      "execution_count": 0,
      "outputs": [
        {
          "output_type": "display_data",
          "data": {
            "image/png": "[encoded data removed]",
            "text/plain": [
              "<Figure size 432x288 with 1 Axes>"
            ]
          },
          "metadata": {
            "tags": []
          }
        }
      ]
    },
    {
      "cell_type": "code",
      "metadata": {
        "id": "e-iMjGOV0OgP",
        "colab_type": "code",
        "outputId": "6f4d1c42-59f8-453a-90e8-c1d91f08c6b0",
        "colab": {
          "base_uri": "https://localhost:8080/",
          "height": 34
        }
      },
      "source": [
        "['10歳未満'] + [str(i) + '代' for i in range(10, 81, 10)] # これでもできる ->　リストの内包表記"
      ],
      "execution_count": 0,
      "outputs": [
        {
          "output_type": "execute_result",
          "data": {
            "text/plain": [
              "['10歳未満', '10代', '20代', '30代', '40代', '50代', '60代', '70代', '80代']"
            ]
          },
          "metadata": {
            "tags": []
          },
          "execution_count": 39
        }
      ]
    },
    {
      "cell_type": "code",
      "metadata": {
        "id": "acBKzf8Y0hE5",
        "colab_type": "code",
        "colab": {}
      },
      "source": [
        ""
      ],
      "execution_count": 0,
      "outputs": []
    }
  ]
}
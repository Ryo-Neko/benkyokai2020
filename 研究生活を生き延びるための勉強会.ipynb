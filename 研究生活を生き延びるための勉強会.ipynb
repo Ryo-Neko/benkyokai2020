{
  "nbformat": 4,
  "nbformat_minor": 0,
  "metadata": {
    "colab": {
      "name": "研究生活を生き延びるための勉強会.ipynb",
      "provenance": [],
      "collapsed_sections": [],
      "toc_visible": true,
      "mount_file_id": "10nc9ZRMrsCj8UYUv4u3eEGpc1SzdubrK",
      "authorship_tag": "ABX9TyN66VCWxo0xfNKwbuUtpvGm",
      "include_colab_link": true
    },
    "kernelspec": {
      "name": "python3",
      "display_name": "Python 3"
    }
  },
  "cells": [
    {
      "cell_type": "markdown",
      "metadata": {
        "id": "view-in-github",
        "colab_type": "text"
      },
      "source": [
        "<a href=\"https://colab.research.google.com/github/Ryo-Neko/benkyokai2020/blob/master/%E7%A0%94%E7%A9%B6%E7%94%9F%E6%B4%BB%E3%82%92%E7%94%9F%E3%81%8D%E5%BB%B6%E3%81%B3%E3%82%8B%E3%81%9F%E3%82%81%E3%81%AE%E5%8B%89%E5%BC%B7%E4%BC%9A.ipynb\" target=\"_parent\"><img src=\"https://colab.research.google.com/assets/colab-badge.svg\" alt=\"Open In Colab\"/></a>"
      ]
    },
    {
      "cell_type": "markdown",
      "metadata": {
        "id": "pziDDeRfYlZ5",
        "colab_type": "text"
      },
      "source": [
        "# 1. コロナと戦う前にまず基本5本ノック\n",
        "たぶん勘でいけると思います。皆さんが入力する場所は、窓の左側に”[ ]”がついてある箇所です。勘でいいのです。パソコンは壊して覚えるのです。プロレーサーも車を潰して覚えるって言ってました。\n",
        "\n",
        "**10分以内に解いて下さい。**"
      ]
    },
    {
      "cell_type": "markdown",
      "metadata": {
        "id": "mikjQNvFY3q6",
        "colab_type": "text"
      },
      "source": [
        "## ①四則演算\n",
        "aに32(整数)、bに43．5（小数）を代入して、四則演算して答えを標準出力して下さい。\n",
        "\n",
        "---\n",
        "### 代入\n",
        "```python\n",
        "a = 数字等\n",
        "```\n",
        "aを変数といいます。\n",
        "\n",
        "### 四則演算\n",
        "```python\n",
        "数学のままです\n",
        "```\n",
        "\n",
        "### 標準出力\n",
        "```python\n",
        "print(a + b)\n",
        "```\n",
        " など画面に表示することをいいますね。\n",
        "\n",
        "---\n",
        "\n"
      ]
    },
    {
      "cell_type": "code",
      "metadata": {
        "id": "3F9PCaVIWflf",
        "colab_type": "code",
        "colab": {}
      },
      "source": [
        "# 答えを記述して下さい\n"
      ],
      "execution_count": 0,
      "outputs": []
    },
    {
      "cell_type": "markdown",
      "metadata": {
        "id": "TCX0MvL3Z7yn",
        "colab_type": "text"
      },
      "source": [
        "## ②文字列\n",
        "aに32（文字列）、bに43.5(小数)を代入して、それぞれ標準出力して下さい。\n",
        "\n",
        "さらに、その文字列を、それぞれ、2、3.5にスライスし標準出力して下さい。\n",
        "\n",
        "---\n",
        "### 文字列\n",
        "```python\n",
        "\"このように、シングルクオーテーションかダブルクオーテーションで囲われた英数字、日本語などのことを言います。\"\n",
        "```\n",
        "\n",
        "### スライス\n",
        "```python\n",
        "a = \"Kaneko\"\n",
        "a[1: 3] # -> an\n",
        "a[:3] # -> Kan\n",
        "```\n",
        "これをスライスと言います(\"基本的に\"文字列やリスト（後述）のみに使えます。)\n",
        "\n",
        "---"
      ]
    },
    {
      "cell_type": "code",
      "metadata": {
        "id": "huP4RzQyZs_7",
        "colab_type": "code",
        "colab": {}
      },
      "source": [
        "# 答えを記述して下さい\n"
      ],
      "execution_count": 0,
      "outputs": []
    },
    {
      "cell_type": "markdown",
      "metadata": {
        "id": "URUCmcM0c5c1",
        "colab_type": "text"
      },
      "source": [
        "## ③リスト\n",
        "aをリストとして定義して下さい。中身は順番に、1, 2, \"Kaneko\", 4, 5。これから、\"Kaneko\"と4を抽出し、標準出力して下さい。\n",
        "\n",
        "---\n",
        "### リスト\n",
        "```python\n",
        "a = ['Man', 'Name', 37, '男']\n",
        "```\n",
        "色んなものをまとめて入れておけます。\n",
        "\n",
        "### リストからの抽出\n",
        "```python\n",
        "a[1] # -> 'Nak'\n",
        "a[1: 3] # -> ['Nak', 37]\n",
        "```\n",
        "こんな感じで抽出できます(スライスです)"
      ]
    },
    {
      "cell_type": "code",
      "metadata": {
        "id": "COc93prYcj-5",
        "colab_type": "code",
        "colab": {}
      },
      "source": [
        "# 答えを記述して下さい\n"
      ],
      "execution_count": 0,
      "outputs": []
    },
    {
      "cell_type": "markdown",
      "metadata": {
        "id": "rmseinN_n4X7",
        "colab_type": "text"
      },
      "source": [
        "## ④forループ\n",
        "0から9までの数字をfor文で連続して順番に標準出力して下さい。\n",
        "\n",
        "---\n",
        "### forの書き方と挙動\n",
        "```python\n",
        "for 変数 in リスト:\n",
        "    処理内容\n",
        "    処理内容\n",
        "    処理内容\n",
        "    ...\n",
        "    ...\n",
        "```\n",
        "1. リスト内の要素を順番に変数に代入して処理。\n",
        "2. 一つの処理は同一レベル以下のインデント末尾まで。\n",
        "3. その後また最初まで戻る。\n",
        "4. 次のリストの要素を変数に代入して同一の処理\n",
        "5. リストの中身を全て参照し終えるまで続ける\n",
        "\n",
        "### ヒント： rangeの挙動\n",
        "この問題は、単純に以下でいける。\n",
        "```python\n",
        "for i in [0, 1, 2, 3, 4, 5, 6, 7, 8， 9]:\n",
        "    print(i)\n",
        "```\n",
        "しかし、リストの中身が100個ある場合に困る。この時につかるのが、rangeである。\n",
        "```python\n",
        "range(10) # -> [0, 1, 2, 3, 4, 5, 6, 7, 8， 9] これは厳密には挙動が違うが今の段階ではこの認識で良い。\n",
        "```\n",
        "---"
      ]
    },
    {
      "cell_type": "code",
      "metadata": {
        "id": "gk3VHO6gnwDJ",
        "colab_type": "code",
        "colab": {}
      },
      "source": [
        "# 答えを記述して下さい\n"
      ],
      "execution_count": 0,
      "outputs": []
    },
    {
      "cell_type": "markdown",
      "metadata": {
        "id": "kwRF-rVVrIbn",
        "colab_type": "text"
      },
      "source": [
        "## ⑤ if文\n",
        "リストaの中身のそれぞれが整数5であるか判断するプログラムを作って下さい。プログラムの書き始めはリストの定義から始めます。以下をコピペして1行目に書いてください。\n",
        "```python\n",
        "a = [1, 4, 3, 5, 30, \"M\", 5, \"Nak\", \"5\"]\n",
        "```\n",
        "---\n",
        "\n",
        "### if文\n",
        "簡単に書けばこうなります。\n",
        "\n",
        "```python\n",
        "if True:\n",
        "    print(\"True\"ならこれが表示されます。\"False\"ならスルー）\n",
        "```\n",
        "PythonにはTrue、Falseという特殊な数字が存在します（True=1, False=0）。これをifの隣に書いてあげると、if文の中の処理が行われます。\n",
        "\n",
        "### 条件式\n",
        "```python\n",
        "1 == 1 # -> True\n",
        "1 == 2 # -> Flase\n",
        "1 > 1 # -> False\n",
        "```\n",
        "---\n"
      ]
    },
    {
      "cell_type": "code",
      "metadata": {
        "id": "bor17GLsrD0J",
        "colab_type": "code",
        "colab": {}
      },
      "source": [
        "# 答えを記述して下さい\n"
      ],
      "execution_count": 0,
      "outputs": []
    },
    {
      "cell_type": "markdown",
      "metadata": {
        "id": "nnzee0YjyRZG",
        "colab_type": "text"
      },
      "source": [
        "## ⑥辞書\n",
        "```python\n",
        "a = {'金子'： 27, 'MN': 37, 'TKG': 36, 'S': ???, 'Y': 50}\n",
        "\n",
        "a['金子'] # -> 27\n",
        "```"
      ]
    },
    {
      "cell_type": "markdown",
      "metadata": {
        "id": "Iyav5tQTtMLC",
        "colab_type": "text"
      },
      "source": [
        "# 2. コロナウイルスデータを触ってみよう\n",
        "## 読み込み\n",
        "https://github.com/kaz-ogiwara/covid19/\n",
        "こちらからデータを頂いている。感謝します。"
      ]
    },
    {
      "cell_type": "code",
      "metadata": {
        "id": "Kw7KUA0LtOwi",
        "colab_type": "code",
        "colab": {}
      },
      "source": [
        "import pandas as pd"
      ],
      "execution_count": 0,
      "outputs": []
    },
    {
      "cell_type": "code",
      "metadata": {
        "id": "aTx6dJwstRNq",
        "colab_type": "code",
        "outputId": "0e5cdccb-d1dd-4f9d-c133-bed5818e10ce",
        "colab": {
          "base_uri": "https://localhost:8080/",
          "height": 235
        }
      },
      "source": [
        "df = pd.read_csv(\"/content/drive/My Drive/datasets/covid19/data.csv\", header=0, index_col=0)\n",
        "df.head()"
      ],
      "execution_count": 0,
      "outputs": [
        {
          "output_type": "execute_result",
          "data": {
            "text/html": [
              "<div>\n",
              "<style scoped>\n",
              "    .dataframe tbody tr th:only-of-type {\n",
              "        vertical-align: middle;\n",
              "    }\n",
              "\n",
              "    .dataframe tbody tr th {\n",
              "        vertical-align: top;\n",
              "    }\n",
              "\n",
              "    .dataframe thead th {\n",
              "        text-align: right;\n",
              "    }\n",
              "</style>\n",
              "<table border=\"1\" class=\"dataframe\">\n",
              "  <thead>\n",
              "    <tr style=\"text-align: right;\">\n",
              "      <th></th>\n",
              "      <th>旧No.</th>\n",
              "      <th>確定日</th>\n",
              "      <th>年代</th>\n",
              "      <th>性別</th>\n",
              "      <th>居住地</th>\n",
              "      <th>周囲の患者の発生※</th>\n",
              "      <th>濃厚接触者\\nの状況</th>\n",
              "    </tr>\n",
              "    <tr>\n",
              "      <th>新No.</th>\n",
              "      <th></th>\n",
              "      <th></th>\n",
              "      <th></th>\n",
              "      <th></th>\n",
              "      <th></th>\n",
              "      <th></th>\n",
              "      <th></th>\n",
              "    </tr>\n",
              "  </thead>\n",
              "  <tbody>\n",
              "    <tr>\n",
              "      <th>1</th>\n",
              "      <td>1</td>\n",
              "      <td>1/15</td>\n",
              "      <td>30代</td>\n",
              "      <td>男</td>\n",
              "      <td>神奈川県</td>\n",
              "      <td>なし</td>\n",
              "      <td>38名特定、健康観察終了</td>\n",
              "    </tr>\n",
              "    <tr>\n",
              "      <th>2</th>\n",
              "      <td>2</td>\n",
              "      <td>1/24</td>\n",
              "      <td>40代</td>\n",
              "      <td>男</td>\n",
              "      <td>中国（武漢市）</td>\n",
              "      <td>なし</td>\n",
              "      <td>32名特定、健康観察終了</td>\n",
              "    </tr>\n",
              "    <tr>\n",
              "      <th>3</th>\n",
              "      <td>3</td>\n",
              "      <td>1/25</td>\n",
              "      <td>30代</td>\n",
              "      <td>女</td>\n",
              "      <td>中国（武漢市）</td>\n",
              "      <td>なし</td>\n",
              "      <td>７名特定、健康観察終了</td>\n",
              "    </tr>\n",
              "    <tr>\n",
              "      <th>4</th>\n",
              "      <td>4</td>\n",
              "      <td>1/26</td>\n",
              "      <td>40代</td>\n",
              "      <td>男</td>\n",
              "      <td>中国（武漢市）</td>\n",
              "      <td>No.19</td>\n",
              "      <td>２名特定、健康観察終了</td>\n",
              "    </tr>\n",
              "    <tr>\n",
              "      <th>5</th>\n",
              "      <td>5</td>\n",
              "      <td>1/28</td>\n",
              "      <td>40代</td>\n",
              "      <td>男</td>\n",
              "      <td>中国（武漢市）</td>\n",
              "      <td>なし</td>\n",
              "      <td>３名特定、健康観察終了</td>\n",
              "    </tr>\n",
              "  </tbody>\n",
              "</table>\n",
              "</div>"
            ],
            "text/plain": [
              "      旧No.   確定日   年代 性別      居住地 周囲の患者の発生※    濃厚接触者\\nの状況\n",
              "新No.                                                     \n",
              "1        1  1/15  30代  男     神奈川県        なし  38名特定、健康観察終了\n",
              "2        2  1/24  40代  男  中国（武漢市）        なし  32名特定、健康観察終了\n",
              "3        3  1/25  30代  女  中国（武漢市）        なし   ７名特定、健康観察終了\n",
              "4        4  1/26  40代  男  中国（武漢市）     No.19   ２名特定、健康観察終了\n",
              "5        5  1/28  40代  男  中国（武漢市）        なし   ３名特定、健康観察終了"
            ]
          },
          "metadata": {
            "tags": []
          },
          "execution_count": 59
        }
      ]
    },
    {
      "cell_type": "markdown",
      "metadata": {
        "id": "puXwtsSytzIR",
        "colab_type": "text"
      },
      "source": [
        "## DataFrameを触ってみよう\n",
        "基本的に\n",
        "```python\n",
        "df[行, 列]\n",
        "```\n",
        "だねぇ。"
      ]
    },
    {
      "cell_type": "code",
      "metadata": {
        "id": "TNWOkm-6O-n-",
        "colab_type": "code",
        "outputId": "943419f7-00ba-4226-9bb0-e524e9da0aa5",
        "colab": {
          "base_uri": "https://localhost:8080/",
          "height": 34
        }
      },
      "source": [
        "len(df)"
      ],
      "execution_count": 0,
      "outputs": [
        {
          "output_type": "execute_result",
          "data": {
            "text/plain": [
              "206"
            ]
          },
          "metadata": {
            "tags": []
          },
          "execution_count": 68
        }
      ]
    },
    {
      "cell_type": "code",
      "metadata": {
        "id": "AwFOQfKltcKT",
        "colab_type": "code",
        "outputId": "8762278d-db89-4107-9236-84847149fdde",
        "colab": {
          "base_uri": "https://localhost:8080/",
          "height": 153
        }
      },
      "source": [
        "df.iloc[1, :] # index location"
      ],
      "execution_count": 0,
      "outputs": [
        {
          "output_type": "execute_result",
          "data": {
            "text/plain": [
              "旧No.                     2\n",
              "確定日                   1/24\n",
              "年代                     40代\n",
              "性別                       男\n",
              "居住地                中国（武漢市）\n",
              "周囲の患者の発生※               なし\n",
              "濃厚接触者\\nの状況    32名特定、健康観察終了\n",
              "Name: 2, dtype: object"
            ]
          },
          "metadata": {
            "tags": []
          },
          "execution_count": 60
        }
      ]
    },
    {
      "cell_type": "code",
      "metadata": {
        "id": "3X0tEEeWvplw",
        "colab_type": "code",
        "outputId": "77ea4d9d-fbcb-4989-a13b-ef2d36183909",
        "colab": {
          "base_uri": "https://localhost:8080/",
          "height": 238
        }
      },
      "source": [
        "df.iloc[:, 3] # index location"
      ],
      "execution_count": 0,
      "outputs": [
        {
          "output_type": "execute_result",
          "data": {
            "text/plain": [
              "新No.\n",
              "1      男\n",
              "2      男\n",
              "3      女\n",
              "4      男\n",
              "5      男\n",
              "      ..\n",
              "202    女\n",
              "203    女\n",
              "204    女\n",
              "205    女\n",
              "206    女\n",
              "Name: 性別, Length: 206, dtype: object"
            ]
          },
          "metadata": {
            "tags": []
          },
          "execution_count": 61
        }
      ]
    },
    {
      "cell_type": "code",
      "metadata": {
        "id": "3X2ls82euBnP",
        "colab_type": "code",
        "outputId": "70d1242b-fde0-47aa-a38e-58e5992994af",
        "colab": {
          "base_uri": "https://localhost:8080/",
          "height": 238
        }
      },
      "source": [
        "df.loc[:, \"性別\"] # location"
      ],
      "execution_count": 0,
      "outputs": [
        {
          "output_type": "execute_result",
          "data": {
            "text/plain": [
              "新No.\n",
              "1      男\n",
              "2      男\n",
              "3      女\n",
              "4      男\n",
              "5      男\n",
              "      ..\n",
              "193    女\n",
              "194    男\n",
              "195    男\n",
              "196    男\n",
              "197    女\n",
              "Name: 性別, Length: 197, dtype: object"
            ]
          },
          "metadata": {
            "tags": []
          },
          "execution_count": 15
        }
      ]
    },
    {
      "cell_type": "code",
      "metadata": {
        "id": "QqWBpeQWuNsD",
        "colab_type": "code",
        "outputId": "20a20585-c447-4039-a8be-a61db2bece18",
        "colab": {
          "base_uri": "https://localhost:8080/",
          "height": 238
        }
      },
      "source": [
        "df['年代']"
      ],
      "execution_count": 0,
      "outputs": [
        {
          "output_type": "execute_result",
          "data": {
            "text/plain": [
              "新No.\n",
              "1      30代\n",
              "2      40代\n",
              "3      30代\n",
              "4      40代\n",
              "5      40代\n",
              "      ... \n",
              "193    60代\n",
              "194    60代\n",
              "195    60代\n",
              "196    60代\n",
              "197    40代\n",
              "Name: 年代, Length: 197, dtype: object"
            ]
          },
          "metadata": {
            "tags": []
          },
          "execution_count": 7
        }
      ]
    },
    {
      "cell_type": "code",
      "metadata": {
        "id": "yPjP98vwuSnu",
        "colab_type": "code",
        "outputId": "989e64b4-5843-4075-fcf1-f3f87fc780f7",
        "colab": {
          "base_uri": "https://localhost:8080/",
          "height": 238
        }
      },
      "source": [
        "df['性別'] == \"男\""
      ],
      "execution_count": 0,
      "outputs": [
        {
          "output_type": "execute_result",
          "data": {
            "text/plain": [
              "新No.\n",
              "1       True\n",
              "2       True\n",
              "3      False\n",
              "4       True\n",
              "5       True\n",
              "       ...  \n",
              "193    False\n",
              "194     True\n",
              "195     True\n",
              "196     True\n",
              "197    False\n",
              "Name: 性別, Length: 197, dtype: bool"
            ]
          },
          "metadata": {
            "tags": []
          },
          "execution_count": 9
        }
      ]
    },
    {
      "cell_type": "code",
      "metadata": {
        "id": "zFlFCW5Fu6Bn",
        "colab_type": "code",
        "outputId": "1f4a0cd1-9398-4cbb-b891-b66dd071677b",
        "colab": {
          "base_uri": "https://localhost:8080/",
          "height": 450
        }
      },
      "source": [
        "df[df['性別'] == \"男\"] # Trueが抽出される"
      ],
      "execution_count": 0,
      "outputs": [
        {
          "output_type": "execute_result",
          "data": {
            "text/html": [
              "<div>\n",
              "<style scoped>\n",
              "    .dataframe tbody tr th:only-of-type {\n",
              "        vertical-align: middle;\n",
              "    }\n",
              "\n",
              "    .dataframe tbody tr th {\n",
              "        vertical-align: top;\n",
              "    }\n",
              "\n",
              "    .dataframe thead th {\n",
              "        text-align: right;\n",
              "    }\n",
              "</style>\n",
              "<table border=\"1\" class=\"dataframe\">\n",
              "  <thead>\n",
              "    <tr style=\"text-align: right;\">\n",
              "      <th></th>\n",
              "      <th>旧No.</th>\n",
              "      <th>確定日</th>\n",
              "      <th>年代</th>\n",
              "      <th>性別</th>\n",
              "      <th>居住地</th>\n",
              "      <th>周囲の患者の発生※</th>\n",
              "      <th>濃厚接触者\\nの状況</th>\n",
              "    </tr>\n",
              "    <tr>\n",
              "      <th>新No.</th>\n",
              "      <th></th>\n",
              "      <th></th>\n",
              "      <th></th>\n",
              "      <th></th>\n",
              "      <th></th>\n",
              "      <th></th>\n",
              "      <th></th>\n",
              "    </tr>\n",
              "  </thead>\n",
              "  <tbody>\n",
              "    <tr>\n",
              "      <th>1</th>\n",
              "      <td>1</td>\n",
              "      <td>1/15</td>\n",
              "      <td>30代</td>\n",
              "      <td>男</td>\n",
              "      <td>神奈川県</td>\n",
              "      <td>なし</td>\n",
              "      <td>38名特定、健康観察終了</td>\n",
              "    </tr>\n",
              "    <tr>\n",
              "      <th>2</th>\n",
              "      <td>2</td>\n",
              "      <td>1/24</td>\n",
              "      <td>40代</td>\n",
              "      <td>男</td>\n",
              "      <td>中国（武漢市）</td>\n",
              "      <td>なし</td>\n",
              "      <td>32名特定、健康観察終了</td>\n",
              "    </tr>\n",
              "    <tr>\n",
              "      <th>4</th>\n",
              "      <td>4</td>\n",
              "      <td>1/26</td>\n",
              "      <td>40代</td>\n",
              "      <td>男</td>\n",
              "      <td>中国（武漢市）</td>\n",
              "      <td>No.19</td>\n",
              "      <td>２名特定、健康観察終了</td>\n",
              "    </tr>\n",
              "    <tr>\n",
              "      <th>5</th>\n",
              "      <td>5</td>\n",
              "      <td>1/28</td>\n",
              "      <td>40代</td>\n",
              "      <td>男</td>\n",
              "      <td>中国（武漢市）</td>\n",
              "      <td>なし</td>\n",
              "      <td>３名特定、健康観察終了</td>\n",
              "    </tr>\n",
              "    <tr>\n",
              "      <th>6</th>\n",
              "      <td>6</td>\n",
              "      <td>1/28</td>\n",
              "      <td>60代</td>\n",
              "      <td>男</td>\n",
              "      <td>奈良県</td>\n",
              "      <td>No.８、No.13</td>\n",
              "      <td>22名特定、健康観察終了</td>\n",
              "    </tr>\n",
              "    <tr>\n",
              "      <th>...</th>\n",
              "      <td>...</td>\n",
              "      <td>...</td>\n",
              "      <td>...</td>\n",
              "      <td>...</td>\n",
              "      <td>...</td>\n",
              "      <td>...</td>\n",
              "      <td>...</td>\n",
              "    </tr>\n",
              "    <tr>\n",
              "      <th>191</th>\n",
              "      <td>202</td>\n",
              "      <td>2/28</td>\n",
              "      <td>40代</td>\n",
              "      <td>男</td>\n",
              "      <td>北海道</td>\n",
              "      <td>調査中</td>\n",
              "      <td>調査中</td>\n",
              "    </tr>\n",
              "    <tr>\n",
              "      <th>192</th>\n",
              "      <td>203</td>\n",
              "      <td>2/28</td>\n",
              "      <td>70代</td>\n",
              "      <td>男</td>\n",
              "      <td>北海道</td>\n",
              "      <td>調査中</td>\n",
              "      <td>調査中</td>\n",
              "    </tr>\n",
              "    <tr>\n",
              "      <th>194</th>\n",
              "      <td>205</td>\n",
              "      <td>2/28</td>\n",
              "      <td>60代</td>\n",
              "      <td>男</td>\n",
              "      <td>北海道</td>\n",
              "      <td>調査中</td>\n",
              "      <td>調査中</td>\n",
              "    </tr>\n",
              "    <tr>\n",
              "      <th>195</th>\n",
              "      <td>206</td>\n",
              "      <td>2/28</td>\n",
              "      <td>60代</td>\n",
              "      <td>男</td>\n",
              "      <td>北海道</td>\n",
              "      <td>調査中</td>\n",
              "      <td>調査中</td>\n",
              "    </tr>\n",
              "    <tr>\n",
              "      <th>196</th>\n",
              "      <td>207</td>\n",
              "      <td>2/28</td>\n",
              "      <td>60代</td>\n",
              "      <td>男</td>\n",
              "      <td>愛知県</td>\n",
              "      <td>調査中</td>\n",
              "      <td>調査中</td>\n",
              "    </tr>\n",
              "  </tbody>\n",
              "</table>\n",
              "<p>129 rows × 7 columns</p>\n",
              "</div>"
            ],
            "text/plain": [
              "      旧No.   確定日   年代 性別      居住地   周囲の患者の発生※    濃厚接触者\\nの状況\n",
              "新No.                                                       \n",
              "1        1  1/15  30代  男     神奈川県          なし  38名特定、健康観察終了\n",
              "2        2  1/24  40代  男  中国（武漢市）          なし  32名特定、健康観察終了\n",
              "4        4  1/26  40代  男  中国（武漢市）       No.19   ２名特定、健康観察終了\n",
              "5        5  1/28  40代  男  中国（武漢市）          なし   ３名特定、健康観察終了\n",
              "6        6  1/28  60代  男      奈良県  No.８、No.13  22名特定、健康観察終了\n",
              "...    ...   ...  ... ..      ...         ...           ...\n",
              "191    202  2/28  40代  男      北海道         調査中           調査中\n",
              "192    203  2/28  70代  男      北海道         調査中           調査中\n",
              "194    205  2/28  60代  男      北海道         調査中           調査中\n",
              "195    206  2/28  60代  男      北海道         調査中           調査中\n",
              "196    207  2/28  60代  男      愛知県         調査中           調査中\n",
              "\n",
              "[129 rows x 7 columns]"
            ]
          },
          "metadata": {
            "tags": []
          },
          "execution_count": 12
        }
      ]
    },
    {
      "cell_type": "code",
      "metadata": {
        "id": "9urEEgICvAn0",
        "colab_type": "code",
        "outputId": "fab01091-9cac-4412-aa17-b31cc55999c2",
        "colab": {
          "base_uri": "https://localhost:8080/",
          "height": 450
        }
      },
      "source": [
        "df[df['性別'] != \"男\"] # 女がTrueになる（わかるかな？)"
      ],
      "execution_count": 0,
      "outputs": [
        {
          "output_type": "execute_result",
          "data": {
            "text/html": [
              "<div>\n",
              "<style scoped>\n",
              "    .dataframe tbody tr th:only-of-type {\n",
              "        vertical-align: middle;\n",
              "    }\n",
              "\n",
              "    .dataframe tbody tr th {\n",
              "        vertical-align: top;\n",
              "    }\n",
              "\n",
              "    .dataframe thead th {\n",
              "        text-align: right;\n",
              "    }\n",
              "</style>\n",
              "<table border=\"1\" class=\"dataframe\">\n",
              "  <thead>\n",
              "    <tr style=\"text-align: right;\">\n",
              "      <th></th>\n",
              "      <th>旧No.</th>\n",
              "      <th>確定日</th>\n",
              "      <th>年代</th>\n",
              "      <th>性別</th>\n",
              "      <th>居住地</th>\n",
              "      <th>周囲の患者の発生※</th>\n",
              "      <th>濃厚接触者\\nの状況</th>\n",
              "    </tr>\n",
              "    <tr>\n",
              "      <th>新No.</th>\n",
              "      <th></th>\n",
              "      <th></th>\n",
              "      <th></th>\n",
              "      <th></th>\n",
              "      <th></th>\n",
              "      <th></th>\n",
              "      <th></th>\n",
              "    </tr>\n",
              "  </thead>\n",
              "  <tbody>\n",
              "    <tr>\n",
              "      <th>3</th>\n",
              "      <td>3</td>\n",
              "      <td>1/25</td>\n",
              "      <td>30代</td>\n",
              "      <td>女</td>\n",
              "      <td>中国（武漢市）</td>\n",
              "      <td>なし</td>\n",
              "      <td>７名特定、健康観察終了</td>\n",
              "    </tr>\n",
              "    <tr>\n",
              "      <th>7</th>\n",
              "      <td>7</td>\n",
              "      <td>1/28</td>\n",
              "      <td>40代</td>\n",
              "      <td>女</td>\n",
              "      <td>中国（武漢市）</td>\n",
              "      <td>なし</td>\n",
              "      <td>２名特定、健康観察終了</td>\n",
              "    </tr>\n",
              "    <tr>\n",
              "      <th>8</th>\n",
              "      <td>8</td>\n",
              "      <td>1/29</td>\n",
              "      <td>40代</td>\n",
              "      <td>女</td>\n",
              "      <td>大阪府</td>\n",
              "      <td>No.６</td>\n",
              "      <td>２名特定、健康観察終了</td>\n",
              "    </tr>\n",
              "    <tr>\n",
              "      <th>10</th>\n",
              "      <td>11</td>\n",
              "      <td>1/30</td>\n",
              "      <td>30代</td>\n",
              "      <td>女</td>\n",
              "      <td>中国（湖南省）</td>\n",
              "      <td>なし</td>\n",
              "      <td>４名特定、健康観察終了</td>\n",
              "    </tr>\n",
              "    <tr>\n",
              "      <th>11</th>\n",
              "      <td>12</td>\n",
              "      <td>1/30</td>\n",
              "      <td>20代</td>\n",
              "      <td>女</td>\n",
              "      <td>京都府</td>\n",
              "      <td>なし</td>\n",
              "      <td>なし</td>\n",
              "    </tr>\n",
              "    <tr>\n",
              "      <th>...</th>\n",
              "      <td>...</td>\n",
              "      <td>...</td>\n",
              "      <td>...</td>\n",
              "      <td>...</td>\n",
              "      <td>...</td>\n",
              "      <td>...</td>\n",
              "      <td>...</td>\n",
              "    </tr>\n",
              "    <tr>\n",
              "      <th>184</th>\n",
              "      <td>195</td>\n",
              "      <td>2/28</td>\n",
              "      <td>80代</td>\n",
              "      <td>女</td>\n",
              "      <td>北海道</td>\n",
              "      <td>調査中</td>\n",
              "      <td>調査中</td>\n",
              "    </tr>\n",
              "    <tr>\n",
              "      <th>187</th>\n",
              "      <td>198</td>\n",
              "      <td>2/28</td>\n",
              "      <td>60代</td>\n",
              "      <td>女</td>\n",
              "      <td>北海道</td>\n",
              "      <td>調査中</td>\n",
              "      <td>調査中</td>\n",
              "    </tr>\n",
              "    <tr>\n",
              "      <th>190</th>\n",
              "      <td>201</td>\n",
              "      <td>2/28</td>\n",
              "      <td>60代</td>\n",
              "      <td>女</td>\n",
              "      <td>北海道</td>\n",
              "      <td>調査中</td>\n",
              "      <td>調査中</td>\n",
              "    </tr>\n",
              "    <tr>\n",
              "      <th>193</th>\n",
              "      <td>204</td>\n",
              "      <td>2/28</td>\n",
              "      <td>60代</td>\n",
              "      <td>女</td>\n",
              "      <td>北海道</td>\n",
              "      <td>調査中</td>\n",
              "      <td>調査中</td>\n",
              "    </tr>\n",
              "    <tr>\n",
              "      <th>197</th>\n",
              "      <td>208</td>\n",
              "      <td>2/28</td>\n",
              "      <td>40代</td>\n",
              "      <td>女</td>\n",
              "      <td>大阪府</td>\n",
              "      <td>調査中</td>\n",
              "      <td>調査中</td>\n",
              "    </tr>\n",
              "  </tbody>\n",
              "</table>\n",
              "<p>68 rows × 7 columns</p>\n",
              "</div>"
            ],
            "text/plain": [
              "      旧No.   確定日   年代 性別      居住地 周囲の患者の発生※   濃厚接触者\\nの状況\n",
              "新No.                                                    \n",
              "3        3  1/25  30代  女  中国（武漢市）        なし  ７名特定、健康観察終了\n",
              "7        7  1/28  40代  女  中国（武漢市）        なし  ２名特定、健康観察終了\n",
              "8        8  1/29  40代  女      大阪府      No.６  ２名特定、健康観察終了\n",
              "10      11  1/30  30代  女  中国（湖南省）        なし  ４名特定、健康観察終了\n",
              "11      12  1/30  20代  女      京都府        なし           なし\n",
              "...    ...   ...  ... ..      ...       ...          ...\n",
              "184    195  2/28  80代  女      北海道       調査中          調査中\n",
              "187    198  2/28  60代  女      北海道       調査中          調査中\n",
              "190    201  2/28  60代  女      北海道       調査中          調査中\n",
              "193    204  2/28  60代  女      北海道       調査中          調査中\n",
              "197    208  2/28  40代  女      大阪府       調査中          調査中\n",
              "\n",
              "[68 rows x 7 columns]"
            ]
          },
          "metadata": {
            "tags": []
          },
          "execution_count": 14
        }
      ]
    },
    {
      "cell_type": "code",
      "metadata": {
        "id": "8IXVta47vJCX",
        "colab_type": "code",
        "colab": {}
      },
      "source": [
        "# お好きなように遊んでみてね。\n"
      ],
      "execution_count": 0,
      "outputs": []
    },
    {
      "cell_type": "markdown",
      "metadata": {
        "id": "SxvilasmwEQe",
        "colab_type": "text"
      },
      "source": [
        "## いよいよ簡単にデータを解析していきます\n",
        "あくまでとても簡単に。"
      ]
    },
    {
      "cell_type": "code",
      "metadata": {
        "id": "7EaVGyA7wrHP",
        "colab_type": "code",
        "outputId": "dbf9db96-d6c7-42a0-a6bf-73a1777915e5",
        "colab": {
          "base_uri": "https://localhost:8080/",
          "height": 187
        }
      },
      "source": [
        "!pip install japanize-matplotlib"
      ],
      "execution_count": 0,
      "outputs": [
        {
          "output_type": "stream",
          "text": [
            "Collecting japanize-matplotlib\n",
            "\u001b[?25l  Downloading https://files.pythonhosted.org/packages/aa/c0/b75d434be51a8cc11d2e9b36f2d7f93a1bcf63bde24dc79a61d329d60b2a/japanize-matplotlib-1.0.5.tar.gz (4.1MB)\n",
            "\u001b[K     |████████████████████████████████| 4.1MB 2.8MB/s \n",
            "\u001b[?25hBuilding wheels for collected packages: japanize-matplotlib\n",
            "  Building wheel for japanize-matplotlib (setup.py) ... \u001b[?25l\u001b[?25hdone\n",
            "  Created wheel for japanize-matplotlib: filename=japanize_matplotlib-1.0.5-cp36-none-any.whl size=4118721 sha256=f46c136062951a77ee609fc50b998f18e4bc44cd32dbfd130ebb60638cc614b9\n",
            "  Stored in directory: /root/.cache/pip/wheels/6c/8a/08/4a784957da9f3c2b4839b4986be2fba2a481877318948be52c\n",
            "Successfully built japanize-matplotlib\n",
            "Installing collected packages: japanize-matplotlib\n",
            "Successfully installed japanize-matplotlib-1.0.5\n"
          ],
          "name": "stdout"
        }
      ]
    },
    {
      "cell_type": "code",
      "metadata": {
        "id": "RUpdel09wDbe",
        "colab_type": "code",
        "colab": {}
      },
      "source": [
        "import matplotlib.pyplot as plt\n",
        "import seaborn as sns\n",
        "\n",
        "import japanize_matplotlib"
      ],
      "execution_count": 0,
      "outputs": []
    },
    {
      "cell_type": "markdown",
      "metadata": {
        "id": "0LxfKJyKktYi",
        "colab_type": "text"
      },
      "source": [
        "## 男女別・国別・世代別など"
      ]
    },
    {
      "cell_type": "code",
      "metadata": {
        "id": "WN4wk2s4wLp9",
        "colab_type": "code",
        "outputId": "ef44d8ac-92d1-4049-97f4-53f41a18d9f4",
        "colab": {
          "base_uri": "https://localhost:8080/",
          "height": 295
        }
      },
      "source": [
        "sns.countplot(x='性別', data=df)"
      ],
      "execution_count": 0,
      "outputs": [
        {
          "output_type": "execute_result",
          "data": {
            "text/plain": [
              "<matplotlib.axes._subplots.AxesSubplot at 0x7f6bc98207b8>"
            ]
          },
          "metadata": {
            "tags": []
          },
          "execution_count": 62
        },
        {
          "output_type": "display_data",
          "data": {
            "image/png": "[encoded data removed]",
            "text/plain": [
              "<Figure size 432x288 with 1 Axes>"
            ]
          },
          "metadata": {
            "tags": []
          }
        }
      ]
    },
    {
      "cell_type": "code",
      "metadata": {
        "id": "qT6is32jwoub",
        "colab_type": "code",
        "outputId": "0e03fc5b-6a94-4a58-81d6-68992129bb70",
        "colab": {
          "base_uri": "https://localhost:8080/",
          "height": 834
        }
      },
      "source": [
        "ax = sns.countplot(x='居住地', data=df)\n",
        "ax.set_xticklabels(ax.get_xticklabels(), rotation=90)"
      ],
      "execution_count": 0,
      "outputs": [
        {
          "output_type": "execute_result",
          "data": {
            "text/plain": [
              "[Text(0, 0, '神奈川県'),\n",
              " Text(0, 0, '中国（武漢市）'),\n",
              " Text(0, 0, '奈良県'),\n",
              " Text(0, 0, '大阪府'),\n",
              " Text(0, 0, '三重県'),\n",
              " Text(0, 0, '中国（湖南省）'),\n",
              " Text(0, 0, '京都府'),\n",
              " Text(0, 0, '千葉県'),\n",
              " Text(0, 0, '中国（湖北省）'),\n",
              " Text(0, 0, '東京都'),\n",
              " Text(0, 0, '和歌山県'),\n",
              " Text(0, 0, '和歌山'),\n",
              " Text(0, 0, '沖縄県'),\n",
              " Text(0, 0, '愛知県'),\n",
              " Text(0, 0, '北海道'),\n",
              " Text(0, 0, '調査中'),\n",
              " Text(0, 0, '神奈川'),\n",
              " Text(0, 0, '福岡県'),\n",
              " Text(0, 0, '埼玉県'),\n",
              " Text(0, 0, '石川県'),\n",
              " Text(0, 0, '熊本県'),\n",
              " Text(0, 0, '栃木県'),\n",
              " Text(0, 0, '長野県'),\n",
              " Text(0, 0, '岐阜県'),\n",
              " Text(0, 0, '滋賀県'),\n",
              " Text(0, 0, '静岡県'),\n",
              " Text(0, 0, '高知県'),\n",
              " Text(0, 0, '新潟県'),\n",
              " Text(0, 0, '宮城県')]"
            ]
          },
          "metadata": {
            "tags": []
          },
          "execution_count": 63
        },
        {
          "output_type": "display_data",
          "data": {
            "image/png": "[encoded data removed]",
            "text/plain": [
              "<Figure size 432x288 with 1 Axes>"
            ]
          },
          "metadata": {
            "tags": []
          }
        }
      ]
    },
    {
      "cell_type": "code",
      "metadata": {
        "id": "JO1wYob_xHgw",
        "colab_type": "code",
        "outputId": "c62731d2-4acc-4426-cf33-55a88a39a9c2",
        "colab": {
          "base_uri": "https://localhost:8080/",
          "height": 278
        }
      },
      "source": [
        "ax = sns.countplot(x='年代', data=df)"
      ],
      "execution_count": 0,
      "outputs": [
        {
          "output_type": "display_data",
          "data": {
            "image/png": "[encoded data removed]",
            "text/plain": [
              "<Figure size 432x288 with 1 Axes>"
            ]
          },
          "metadata": {
            "tags": []
          }
        }
      ]
    },
    {
      "cell_type": "code",
      "metadata": {
        "id": "nBTw8R2Y1ApQ",
        "colab_type": "code",
        "colab": {}
      },
      "source": [
        "# 上の奴を年代順に並べ替えてくれ（下に答えが書いてあるが自分で調べてその調べた道筋を教えてくれ。）\n"
      ],
      "execution_count": 0,
      "outputs": []
    },
    {
      "cell_type": "code",
      "metadata": {
        "id": "3YxlhqPg1B7F",
        "colab_type": "code",
        "colab": {}
      },
      "source": [
        ""
      ],
      "execution_count": 0,
      "outputs": []
    },
    {
      "cell_type": "code",
      "metadata": {
        "id": "XrPATRX-1BzK",
        "colab_type": "code",
        "colab": {}
      },
      "source": [
        ""
      ],
      "execution_count": 0,
      "outputs": []
    },
    {
      "cell_type": "code",
      "metadata": {
        "id": "l_XEIfly1BoZ",
        "colab_type": "code",
        "colab": {}
      },
      "source": [
        ""
      ],
      "execution_count": 0,
      "outputs": []
    },
    {
      "cell_type": "code",
      "metadata": {
        "id": "qmLx-vja1BSv",
        "colab_type": "code",
        "colab": {}
      },
      "source": [
        ""
      ],
      "execution_count": 0,
      "outputs": []
    },
    {
      "cell_type": "code",
      "metadata": {
        "id": "984k9UUkzrwW",
        "colab_type": "code",
        "outputId": "0ff197f6-1bca-4f86-f59b-8b03e13b1517",
        "colab": {
          "base_uri": "https://localhost:8080/",
          "height": 278
        }
      },
      "source": [
        "ax = sns.countplot(x='年代', hue='性別', data=df) # hueを使うと面白い。"
      ],
      "execution_count": 0,
      "outputs": [
        {
          "output_type": "display_data",
          "data": {
            "image/png": "[encoded data removed]",
            "text/plain": [
              "<Figure size 432x288 with 1 Axes>"
            ]
          },
          "metadata": {
            "tags": []
          }
        }
      ]
    },
    {
      "cell_type": "code",
      "metadata": {
        "id": "BMAHuvEBzvHs",
        "colab_type": "code",
        "colab": {}
      },
      "source": [
        "labels = ['10歳未満', '10代', '20代', '30代', '40代', '50代', '60代', '70代', '80代']"
      ],
      "execution_count": 0,
      "outputs": []
    },
    {
      "cell_type": "code",
      "metadata": {
        "id": "L9G8CW1r0LrY",
        "colab_type": "code",
        "outputId": "ca35be07-d6e2-44af-ad92-14d78357769c",
        "colab": {
          "base_uri": "https://localhost:8080/",
          "height": 278
        }
      },
      "source": [
        "ax = sns.countplot(x='年代', hue='性別', data=df, order=labels)"
      ],
      "execution_count": 0,
      "outputs": [
        {
          "output_type": "display_data",
          "data": {
            "image/png": "[encoded data removed]",
            "text/plain": [
              "<Figure size 432x288 with 1 Axes>"
            ]
          },
          "metadata": {
            "tags": []
          }
        }
      ]
    },
    {
      "cell_type": "code",
      "metadata": {
        "id": "e-iMjGOV0OgP",
        "colab_type": "code",
        "outputId": "6f4d1c42-59f8-453a-90e8-c1d91f08c6b0",
        "colab": {
          "base_uri": "https://localhost:8080/",
          "height": 34
        }
      },
      "source": [
        "['10歳未満'] + [str(i) + '代' for i in range(10, 81, 10)] # これでもできる ->　リストの内包表記"
      ],
      "execution_count": 0,
      "outputs": [
        {
          "output_type": "execute_result",
          "data": {
            "text/plain": [
              "['10歳未満', '10代', '20代', '30代', '40代', '50代', '60代', '70代', '80代']"
            ]
          },
          "metadata": {
            "tags": []
          },
          "execution_count": 39
        }
      ]
    },
    {
      "cell_type": "code",
      "metadata": {
        "id": "acBKzf8Y0hE5",
        "colab_type": "code",
        "colab": {}
      },
      "source": [
        ""
      ],
      "execution_count": 0,
      "outputs": []
    },
    {
      "cell_type": "markdown",
      "metadata": {
        "id": "ZkQsMQJpk43v",
        "colab_type": "text"
      },
      "source": [
        "## 県別\n",
        "中国居住者は計算に入れないようにしましょう。調査中の人も。"
      ]
    },
    {
      "cell_type": "code",
      "metadata": {
        "id": "zxpEXDaKlGS8",
        "colab_type": "code",
        "outputId": "60508211-7e1e-4ebb-9a70-9df2ac265aaf",
        "colab": {
          "base_uri": "https://localhost:8080/",
          "height": 238
        }
      },
      "source": [
        "df['居住地']"
      ],
      "execution_count": 0,
      "outputs": [
        {
          "output_type": "execute_result",
          "data": {
            "text/plain": [
              "新No.\n",
              "1         神奈川県\n",
              "2      中国（武漢市）\n",
              "3      中国（武漢市）\n",
              "4      中国（武漢市）\n",
              "5      中国（武漢市）\n",
              "        ...   \n",
              "193        北海道\n",
              "194        北海道\n",
              "195        北海道\n",
              "196        愛知県\n",
              "197        大阪府\n",
              "Name: 居住地, Length: 197, dtype: object"
            ]
          },
          "metadata": {
            "tags": []
          },
          "execution_count": 16
        }
      ]
    },
    {
      "cell_type": "code",
      "metadata": {
        "id": "_hiyOOZvlaHp",
        "colab_type": "code",
        "outputId": "aa5f08e5-f74c-4434-f644-0015019225e1",
        "colab": {
          "base_uri": "https://localhost:8080/",
          "height": 450
        }
      },
      "source": [
        "df_japan = df[(df['居住地'] != \"中国（武漢市）\") & (df['居住地'] != \"中国（湖北省）\") & (df['居住地'] != \"中国（湖南省）\") & (df['居住地'] != \"調査中\")]\n",
        "df_japan\n"
      ],
      "execution_count": 0,
      "outputs": [
        {
          "output_type": "execute_result",
          "data": {
            "text/html": [
              "<div>\n",
              "<style scoped>\n",
              "    .dataframe tbody tr th:only-of-type {\n",
              "        vertical-align: middle;\n",
              "    }\n",
              "\n",
              "    .dataframe tbody tr th {\n",
              "        vertical-align: top;\n",
              "    }\n",
              "\n",
              "    .dataframe thead th {\n",
              "        text-align: right;\n",
              "    }\n",
              "</style>\n",
              "<table border=\"1\" class=\"dataframe\">\n",
              "  <thead>\n",
              "    <tr style=\"text-align: right;\">\n",
              "      <th></th>\n",
              "      <th>旧No.</th>\n",
              "      <th>確定日</th>\n",
              "      <th>年代</th>\n",
              "      <th>性別</th>\n",
              "      <th>居住地</th>\n",
              "      <th>周囲の患者の発生※</th>\n",
              "      <th>濃厚接触者\\nの状況</th>\n",
              "    </tr>\n",
              "    <tr>\n",
              "      <th>新No.</th>\n",
              "      <th></th>\n",
              "      <th></th>\n",
              "      <th></th>\n",
              "      <th></th>\n",
              "      <th></th>\n",
              "      <th></th>\n",
              "      <th></th>\n",
              "    </tr>\n",
              "  </thead>\n",
              "  <tbody>\n",
              "    <tr>\n",
              "      <th>1</th>\n",
              "      <td>1</td>\n",
              "      <td>1/15</td>\n",
              "      <td>30代</td>\n",
              "      <td>男</td>\n",
              "      <td>神奈川県</td>\n",
              "      <td>なし</td>\n",
              "      <td>38名特定、健康観察終了</td>\n",
              "    </tr>\n",
              "    <tr>\n",
              "      <th>6</th>\n",
              "      <td>6</td>\n",
              "      <td>1/28</td>\n",
              "      <td>60代</td>\n",
              "      <td>男</td>\n",
              "      <td>奈良県</td>\n",
              "      <td>No.８、No.13</td>\n",
              "      <td>22名特定、健康観察終了</td>\n",
              "    </tr>\n",
              "    <tr>\n",
              "      <th>8</th>\n",
              "      <td>8</td>\n",
              "      <td>1/29</td>\n",
              "      <td>40代</td>\n",
              "      <td>女</td>\n",
              "      <td>大阪府</td>\n",
              "      <td>No.６</td>\n",
              "      <td>２名特定、健康観察終了</td>\n",
              "    </tr>\n",
              "    <tr>\n",
              "      <th>9</th>\n",
              "      <td>10</td>\n",
              "      <td>1/30</td>\n",
              "      <td>50代</td>\n",
              "      <td>男</td>\n",
              "      <td>三重県</td>\n",
              "      <td>なし</td>\n",
              "      <td>３名特定、健康観察終了</td>\n",
              "    </tr>\n",
              "    <tr>\n",
              "      <th>11</th>\n",
              "      <td>12</td>\n",
              "      <td>1/30</td>\n",
              "      <td>20代</td>\n",
              "      <td>女</td>\n",
              "      <td>京都府</td>\n",
              "      <td>なし</td>\n",
              "      <td>なし</td>\n",
              "    </tr>\n",
              "    <tr>\n",
              "      <th>...</th>\n",
              "      <td>...</td>\n",
              "      <td>...</td>\n",
              "      <td>...</td>\n",
              "      <td>...</td>\n",
              "      <td>...</td>\n",
              "      <td>...</td>\n",
              "      <td>...</td>\n",
              "    </tr>\n",
              "    <tr>\n",
              "      <th>202</th>\n",
              "      <td>213</td>\n",
              "      <td>2/29</td>\n",
              "      <td>90代</td>\n",
              "      <td>女</td>\n",
              "      <td>北海道</td>\n",
              "      <td>調査中</td>\n",
              "      <td>調査中</td>\n",
              "    </tr>\n",
              "    <tr>\n",
              "      <th>203</th>\n",
              "      <td>214</td>\n",
              "      <td>2/29</td>\n",
              "      <td>60代</td>\n",
              "      <td>女</td>\n",
              "      <td>北海道</td>\n",
              "      <td>調査中</td>\n",
              "      <td>調査中</td>\n",
              "    </tr>\n",
              "    <tr>\n",
              "      <th>204</th>\n",
              "      <td>215</td>\n",
              "      <td>2/29</td>\n",
              "      <td>30代</td>\n",
              "      <td>女</td>\n",
              "      <td>北海道</td>\n",
              "      <td>調査中</td>\n",
              "      <td>調査中</td>\n",
              "    </tr>\n",
              "    <tr>\n",
              "      <th>205</th>\n",
              "      <td>216</td>\n",
              "      <td>2/29</td>\n",
              "      <td>20代</td>\n",
              "      <td>女</td>\n",
              "      <td>北海道</td>\n",
              "      <td>調査中</td>\n",
              "      <td>調査中</td>\n",
              "    </tr>\n",
              "    <tr>\n",
              "      <th>206</th>\n",
              "      <td>217</td>\n",
              "      <td>2/29</td>\n",
              "      <td>70代</td>\n",
              "      <td>女</td>\n",
              "      <td>愛知県</td>\n",
              "      <td>調査中</td>\n",
              "      <td>調査中</td>\n",
              "    </tr>\n",
              "  </tbody>\n",
              "</table>\n",
              "<p>195 rows × 7 columns</p>\n",
              "</div>"
            ],
            "text/plain": [
              "      旧No.   確定日   年代 性別   居住地   周囲の患者の発生※    濃厚接触者\\nの状況\n",
              "新No.                                                    \n",
              "1        1  1/15  30代  男  神奈川県          なし  38名特定、健康観察終了\n",
              "6        6  1/28  60代  男   奈良県  No.８、No.13  22名特定、健康観察終了\n",
              "8        8  1/29  40代  女   大阪府        No.６   ２名特定、健康観察終了\n",
              "9       10  1/30  50代  男   三重県          なし   ３名特定、健康観察終了\n",
              "11      12  1/30  20代  女   京都府          なし            なし\n",
              "...    ...   ...  ... ..   ...         ...           ...\n",
              "202    213  2/29  90代  女   北海道         調査中           調査中\n",
              "203    214  2/29  60代  女   北海道         調査中           調査中\n",
              "204    215  2/29  30代  女   北海道         調査中           調査中\n",
              "205    216  2/29  20代  女   北海道         調査中           調査中\n",
              "206    217  2/29  70代  女   愛知県         調査中           調査中\n",
              "\n",
              "[195 rows x 7 columns]"
            ]
          },
          "metadata": {
            "tags": []
          },
          "execution_count": 69
        }
      ]
    },
    {
      "cell_type": "code",
      "metadata": {
        "id": "6mLCXk_268OW",
        "colab_type": "code",
        "outputId": "ed69168b-5224-46cf-9e42-0b9a39f15db9",
        "colab": {
          "base_uri": "https://localhost:8080/",
          "height": 459
        }
      },
      "source": [
        "df_japan[\"居住地\"].value_counts()"
      ],
      "execution_count": 0,
      "outputs": [
        {
          "output_type": "execute_result",
          "data": {
            "text/plain": [
              "北海道     67\n",
              "愛知県     27\n",
              "東京都     27\n",
              "神奈川県    19\n",
              "千葉県     11\n",
              "和歌山県    10\n",
              "大阪府      6\n",
              "熊本県      5\n",
              "石川県      3\n",
              "沖縄県      3\n",
              "福岡県      2\n",
              "京都府      2\n",
              "和歌山      1\n",
              "栃木県      1\n",
              "岐阜県      1\n",
              "高知県      1\n",
              "長野県      1\n",
              "神奈川      1\n",
              "新潟県      1\n",
              "滋賀県      1\n",
              "奈良県      1\n",
              "埼玉県      1\n",
              "三重県      1\n",
              "宮城県      1\n",
              "静岡県      1\n",
              "Name: 居住地, dtype: int64"
            ]
          },
          "metadata": {
            "tags": []
          },
          "execution_count": 70
        }
      ]
    },
    {
      "cell_type": "code",
      "metadata": {
        "id": "k1E-kIWP7JQg",
        "colab_type": "code",
        "outputId": "0e5d7bad-5a15-4450-faa5-545cc9d776d0",
        "colab": {
          "base_uri": "https://localhost:8080/",
          "height": 736
        }
      },
      "source": [
        "ax = sns.countplot(x='居住地', data=df_japan, palette='rainbow', order=df_japan['居住地'].value_counts().sort_values().index)\n",
        "ax.set_xticklabels(ax.get_xticklabels(), rotation=90)"
      ],
      "execution_count": 0,
      "outputs": [
        {
          "output_type": "execute_result",
          "data": {
            "text/plain": [
              "[Text(0, 0, '和歌山'),\n",
              " Text(0, 0, '三重県'),\n",
              " Text(0, 0, '埼玉県'),\n",
              " Text(0, 0, '奈良県'),\n",
              " Text(0, 0, '滋賀県'),\n",
              " Text(0, 0, '新潟県'),\n",
              " Text(0, 0, '神奈川'),\n",
              " Text(0, 0, '長野県'),\n",
              " Text(0, 0, '高知県'),\n",
              " Text(0, 0, '岐阜県'),\n",
              " Text(0, 0, '栃木県'),\n",
              " Text(0, 0, '宮城県'),\n",
              " Text(0, 0, '静岡県'),\n",
              " Text(0, 0, '福岡県'),\n",
              " Text(0, 0, '京都府'),\n",
              " Text(0, 0, '沖縄県'),\n",
              " Text(0, 0, '石川県'),\n",
              " Text(0, 0, '熊本県'),\n",
              " Text(0, 0, '大阪府'),\n",
              " Text(0, 0, '和歌山県'),\n",
              " Text(0, 0, '千葉県'),\n",
              " Text(0, 0, '神奈川県'),\n",
              " Text(0, 0, '東京都'),\n",
              " Text(0, 0, '愛知県'),\n",
              " Text(0, 0, '北海道')]"
            ]
          },
          "metadata": {
            "tags": []
          },
          "execution_count": 71
        },
        {
          "output_type": "display_data",
          "data": {
            "image/png": "[encoded data removed]",
            "text/plain": [
              "<Figure size 432x288 with 1 Axes>"
            ]
          },
          "metadata": {
            "tags": []
          }
        }
      ]
    },
    {
      "cell_type": "markdown",
      "metadata": {
        "id": "LH7pkoiyKaCv",
        "colab_type": "text"
      },
      "source": [
        "## countplotにも飽きてきたので時系列解析"
      ]
    },
    {
      "cell_type": "code",
      "metadata": {
        "id": "Rd9bZgCeLuEO",
        "colab_type": "code",
        "outputId": "8fbbf04e-db34-4e1f-c834-dd5aab9424e3",
        "colab": {
          "base_uri": "https://localhost:8080/",
          "height": 855
        }
      },
      "source": [
        "df_japan.groupby('確定日').count()"
      ],
      "execution_count": 0,
      "outputs": [
        {
          "output_type": "execute_result",
          "data": {
            "text/html": [
              "<div>\n",
              "<style scoped>\n",
              "    .dataframe tbody tr th:only-of-type {\n",
              "        vertical-align: middle;\n",
              "    }\n",
              "\n",
              "    .dataframe tbody tr th {\n",
              "        vertical-align: top;\n",
              "    }\n",
              "\n",
              "    .dataframe thead th {\n",
              "        text-align: right;\n",
              "    }\n",
              "</style>\n",
              "<table border=\"1\" class=\"dataframe\">\n",
              "  <thead>\n",
              "    <tr style=\"text-align: right;\">\n",
              "      <th></th>\n",
              "      <th>旧No.</th>\n",
              "      <th>年代</th>\n",
              "      <th>性別</th>\n",
              "      <th>居住地</th>\n",
              "      <th>周囲の患者の発生※</th>\n",
              "      <th>濃厚接触者\\nの状況</th>\n",
              "    </tr>\n",
              "    <tr>\n",
              "      <th>確定日</th>\n",
              "      <th></th>\n",
              "      <th></th>\n",
              "      <th></th>\n",
              "      <th></th>\n",
              "      <th></th>\n",
              "      <th></th>\n",
              "    </tr>\n",
              "  </thead>\n",
              "  <tbody>\n",
              "    <tr>\n",
              "      <th>1/15</th>\n",
              "      <td>1</td>\n",
              "      <td>1</td>\n",
              "      <td>1</td>\n",
              "      <td>1</td>\n",
              "      <td>1</td>\n",
              "      <td>1</td>\n",
              "    </tr>\n",
              "    <tr>\n",
              "      <th>1/28</th>\n",
              "      <td>1</td>\n",
              "      <td>1</td>\n",
              "      <td>1</td>\n",
              "      <td>1</td>\n",
              "      <td>1</td>\n",
              "      <td>1</td>\n",
              "    </tr>\n",
              "    <tr>\n",
              "      <th>1/29</th>\n",
              "      <td>1</td>\n",
              "      <td>1</td>\n",
              "      <td>1</td>\n",
              "      <td>1</td>\n",
              "      <td>1</td>\n",
              "      <td>1</td>\n",
              "    </tr>\n",
              "    <tr>\n",
              "      <th>1/30</th>\n",
              "      <td>2</td>\n",
              "      <td>2</td>\n",
              "      <td>2</td>\n",
              "      <td>2</td>\n",
              "      <td>2</td>\n",
              "      <td>2</td>\n",
              "    </tr>\n",
              "    <tr>\n",
              "      <th>1/31</th>\n",
              "      <td>1</td>\n",
              "      <td>1</td>\n",
              "      <td>1</td>\n",
              "      <td>1</td>\n",
              "      <td>1</td>\n",
              "      <td>1</td>\n",
              "    </tr>\n",
              "    <tr>\n",
              "      <th>2/11</th>\n",
              "      <td>1</td>\n",
              "      <td>1</td>\n",
              "      <td>1</td>\n",
              "      <td>1</td>\n",
              "      <td>1</td>\n",
              "      <td>1</td>\n",
              "    </tr>\n",
              "    <tr>\n",
              "      <th>2/13</th>\n",
              "      <td>4</td>\n",
              "      <td>4</td>\n",
              "      <td>4</td>\n",
              "      <td>4</td>\n",
              "      <td>4</td>\n",
              "      <td>4</td>\n",
              "    </tr>\n",
              "    <tr>\n",
              "      <th>2/14</th>\n",
              "      <td>9</td>\n",
              "      <td>9</td>\n",
              "      <td>9</td>\n",
              "      <td>9</td>\n",
              "      <td>9</td>\n",
              "      <td>9</td>\n",
              "    </tr>\n",
              "    <tr>\n",
              "      <th>2/15</th>\n",
              "      <td>4</td>\n",
              "      <td>4</td>\n",
              "      <td>4</td>\n",
              "      <td>4</td>\n",
              "      <td>4</td>\n",
              "      <td>4</td>\n",
              "    </tr>\n",
              "    <tr>\n",
              "      <th>2/16</th>\n",
              "      <td>2</td>\n",
              "      <td>2</td>\n",
              "      <td>2</td>\n",
              "      <td>2</td>\n",
              "      <td>2</td>\n",
              "      <td>2</td>\n",
              "    </tr>\n",
              "    <tr>\n",
              "      <th>2/17</th>\n",
              "      <td>6</td>\n",
              "      <td>6</td>\n",
              "      <td>6</td>\n",
              "      <td>6</td>\n",
              "      <td>6</td>\n",
              "      <td>6</td>\n",
              "    </tr>\n",
              "    <tr>\n",
              "      <th>2/18</th>\n",
              "      <td>8</td>\n",
              "      <td>8</td>\n",
              "      <td>8</td>\n",
              "      <td>8</td>\n",
              "      <td>8</td>\n",
              "      <td>8</td>\n",
              "    </tr>\n",
              "    <tr>\n",
              "      <th>2/19</th>\n",
              "      <td>8</td>\n",
              "      <td>8</td>\n",
              "      <td>8</td>\n",
              "      <td>8</td>\n",
              "      <td>8</td>\n",
              "      <td>8</td>\n",
              "    </tr>\n",
              "    <tr>\n",
              "      <th>2/20</th>\n",
              "      <td>9</td>\n",
              "      <td>9</td>\n",
              "      <td>9</td>\n",
              "      <td>9</td>\n",
              "      <td>9</td>\n",
              "      <td>9</td>\n",
              "    </tr>\n",
              "    <tr>\n",
              "      <th>2/21</th>\n",
              "      <td>13</td>\n",
              "      <td>13</td>\n",
              "      <td>13</td>\n",
              "      <td>13</td>\n",
              "      <td>13</td>\n",
              "      <td>13</td>\n",
              "    </tr>\n",
              "    <tr>\n",
              "      <th>2/22</th>\n",
              "      <td>24</td>\n",
              "      <td>24</td>\n",
              "      <td>24</td>\n",
              "      <td>24</td>\n",
              "      <td>24</td>\n",
              "      <td>24</td>\n",
              "    </tr>\n",
              "    <tr>\n",
              "      <th>2/23</th>\n",
              "      <td>11</td>\n",
              "      <td>11</td>\n",
              "      <td>11</td>\n",
              "      <td>11</td>\n",
              "      <td>11</td>\n",
              "      <td>11</td>\n",
              "    </tr>\n",
              "    <tr>\n",
              "      <th>2/24</th>\n",
              "      <td>11</td>\n",
              "      <td>11</td>\n",
              "      <td>11</td>\n",
              "      <td>11</td>\n",
              "      <td>11</td>\n",
              "      <td>11</td>\n",
              "    </tr>\n",
              "    <tr>\n",
              "      <th>2/25</th>\n",
              "      <td>16</td>\n",
              "      <td>16</td>\n",
              "      <td>16</td>\n",
              "      <td>16</td>\n",
              "      <td>16</td>\n",
              "      <td>16</td>\n",
              "    </tr>\n",
              "    <tr>\n",
              "      <th>2/26</th>\n",
              "      <td>9</td>\n",
              "      <td>9</td>\n",
              "      <td>9</td>\n",
              "      <td>9</td>\n",
              "      <td>9</td>\n",
              "      <td>9</td>\n",
              "    </tr>\n",
              "    <tr>\n",
              "      <th>2/27</th>\n",
              "      <td>24</td>\n",
              "      <td>24</td>\n",
              "      <td>24</td>\n",
              "      <td>24</td>\n",
              "      <td>24</td>\n",
              "      <td>24</td>\n",
              "    </tr>\n",
              "    <tr>\n",
              "      <th>2/28</th>\n",
              "      <td>17</td>\n",
              "      <td>17</td>\n",
              "      <td>17</td>\n",
              "      <td>17</td>\n",
              "      <td>17</td>\n",
              "      <td>17</td>\n",
              "    </tr>\n",
              "    <tr>\n",
              "      <th>2/29</th>\n",
              "      <td>9</td>\n",
              "      <td>9</td>\n",
              "      <td>9</td>\n",
              "      <td>9</td>\n",
              "      <td>9</td>\n",
              "      <td>9</td>\n",
              "    </tr>\n",
              "    <tr>\n",
              "      <th>2/5</th>\n",
              "      <td>1</td>\n",
              "      <td>1</td>\n",
              "      <td>1</td>\n",
              "      <td>1</td>\n",
              "      <td>1</td>\n",
              "      <td>1</td>\n",
              "    </tr>\n",
              "    <tr>\n",
              "      <th>調査中</th>\n",
              "      <td>3</td>\n",
              "      <td>3</td>\n",
              "      <td>3</td>\n",
              "      <td>3</td>\n",
              "      <td>3</td>\n",
              "      <td>3</td>\n",
              "    </tr>\n",
              "  </tbody>\n",
              "</table>\n",
              "</div>"
            ],
            "text/plain": [
              "      旧No.  年代  性別  居住地  周囲の患者の発生※  濃厚接触者\\nの状況\n",
              "確定日                                           \n",
              "1/15     1   1   1    1          1           1\n",
              "1/28     1   1   1    1          1           1\n",
              "1/29     1   1   1    1          1           1\n",
              "1/30     2   2   2    2          2           2\n",
              "1/31     1   1   1    1          1           1\n",
              "2/11     1   1   1    1          1           1\n",
              "2/13     4   4   4    4          4           4\n",
              "2/14     9   9   9    9          9           9\n",
              "2/15     4   4   4    4          4           4\n",
              "2/16     2   2   2    2          2           2\n",
              "2/17     6   6   6    6          6           6\n",
              "2/18     8   8   8    8          8           8\n",
              "2/19     8   8   8    8          8           8\n",
              "2/20     9   9   9    9          9           9\n",
              "2/21    13  13  13   13         13          13\n",
              "2/22    24  24  24   24         24          24\n",
              "2/23    11  11  11   11         11          11\n",
              "2/24    11  11  11   11         11          11\n",
              "2/25    16  16  16   16         16          16\n",
              "2/26     9   9   9    9          9           9\n",
              "2/27    24  24  24   24         24          24\n",
              "2/28    17  17  17   17         17          17\n",
              "2/29     9   9   9    9          9           9\n",
              "2/5      1   1   1    1          1           1\n",
              "調査中      3   3   3    3          3           3"
            ]
          },
          "metadata": {
            "tags": []
          },
          "execution_count": 72
        }
      ]
    },
    {
      "cell_type": "code",
      "metadata": {
        "id": "NSiVY8evJlaK",
        "colab_type": "code",
        "outputId": "1cf1422c-2294-4ca1-fc18-29e33f663def",
        "colab": {
          "base_uri": "https://localhost:8080/",
          "height": 235
        }
      },
      "source": [
        "df_timeseries = df_japan.groupby('確定日').count()\n",
        "df_timeseries.tail()"
      ],
      "execution_count": 0,
      "outputs": [
        {
          "output_type": "execute_result",
          "data": {
            "text/html": [
              "<div>\n",
              "<style scoped>\n",
              "    .dataframe tbody tr th:only-of-type {\n",
              "        vertical-align: middle;\n",
              "    }\n",
              "\n",
              "    .dataframe tbody tr th {\n",
              "        vertical-align: top;\n",
              "    }\n",
              "\n",
              "    .dataframe thead th {\n",
              "        text-align: right;\n",
              "    }\n",
              "</style>\n",
              "<table border=\"1\" class=\"dataframe\">\n",
              "  <thead>\n",
              "    <tr style=\"text-align: right;\">\n",
              "      <th></th>\n",
              "      <th>旧No.</th>\n",
              "      <th>年代</th>\n",
              "      <th>性別</th>\n",
              "      <th>居住地</th>\n",
              "      <th>周囲の患者の発生※</th>\n",
              "      <th>濃厚接触者\\nの状況</th>\n",
              "    </tr>\n",
              "    <tr>\n",
              "      <th>確定日</th>\n",
              "      <th></th>\n",
              "      <th></th>\n",
              "      <th></th>\n",
              "      <th></th>\n",
              "      <th></th>\n",
              "      <th></th>\n",
              "    </tr>\n",
              "  </thead>\n",
              "  <tbody>\n",
              "    <tr>\n",
              "      <th>2/27</th>\n",
              "      <td>24</td>\n",
              "      <td>24</td>\n",
              "      <td>24</td>\n",
              "      <td>24</td>\n",
              "      <td>24</td>\n",
              "      <td>24</td>\n",
              "    </tr>\n",
              "    <tr>\n",
              "      <th>2/28</th>\n",
              "      <td>17</td>\n",
              "      <td>17</td>\n",
              "      <td>17</td>\n",
              "      <td>17</td>\n",
              "      <td>17</td>\n",
              "      <td>17</td>\n",
              "    </tr>\n",
              "    <tr>\n",
              "      <th>2/29</th>\n",
              "      <td>9</td>\n",
              "      <td>9</td>\n",
              "      <td>9</td>\n",
              "      <td>9</td>\n",
              "      <td>9</td>\n",
              "      <td>9</td>\n",
              "    </tr>\n",
              "    <tr>\n",
              "      <th>2/5</th>\n",
              "      <td>1</td>\n",
              "      <td>1</td>\n",
              "      <td>1</td>\n",
              "      <td>1</td>\n",
              "      <td>1</td>\n",
              "      <td>1</td>\n",
              "    </tr>\n",
              "    <tr>\n",
              "      <th>調査中</th>\n",
              "      <td>3</td>\n",
              "      <td>3</td>\n",
              "      <td>3</td>\n",
              "      <td>3</td>\n",
              "      <td>3</td>\n",
              "      <td>3</td>\n",
              "    </tr>\n",
              "  </tbody>\n",
              "</table>\n",
              "</div>"
            ],
            "text/plain": [
              "      旧No.  年代  性別  居住地  周囲の患者の発生※  濃厚接触者\\nの状況\n",
              "確定日                                           \n",
              "2/27    24  24  24   24         24          24\n",
              "2/28    17  17  17   17         17          17\n",
              "2/29     9   9   9    9          9           9\n",
              "2/5      1   1   1    1          1           1\n",
              "調査中      3   3   3    3          3           3"
            ]
          },
          "metadata": {
            "tags": []
          },
          "execution_count": 73
        }
      ]
    },
    {
      "cell_type": "code",
      "metadata": {
        "id": "4ghifmeWKy43",
        "colab_type": "code",
        "colab": {}
      },
      "source": [
        "# 確定日とその時の人数だけがわかれば良い。調査中もいらない。\n",
        "df_timeseries = df_timeseries.drop('調査中')\n",
        "df_timeseries['確定人数'] = df_timeseries['年代'] # 適当な列を選んでやる。"
      ],
      "execution_count": 0,
      "outputs": []
    },
    {
      "cell_type": "code",
      "metadata": {
        "id": "lrN5m0w1MFtr",
        "colab_type": "code",
        "outputId": "268d40dd-14ff-4cc8-a9a7-e39cec8a2a33",
        "colab": {
          "base_uri": "https://localhost:8080/",
          "height": 824
        }
      },
      "source": [
        "df_timeseries"
      ],
      "execution_count": 0,
      "outputs": [
        {
          "output_type": "execute_result",
          "data": {
            "text/html": [
              "<div>\n",
              "<style scoped>\n",
              "    .dataframe tbody tr th:only-of-type {\n",
              "        vertical-align: middle;\n",
              "    }\n",
              "\n",
              "    .dataframe tbody tr th {\n",
              "        vertical-align: top;\n",
              "    }\n",
              "\n",
              "    .dataframe thead th {\n",
              "        text-align: right;\n",
              "    }\n",
              "</style>\n",
              "<table border=\"1\" class=\"dataframe\">\n",
              "  <thead>\n",
              "    <tr style=\"text-align: right;\">\n",
              "      <th></th>\n",
              "      <th>旧No.</th>\n",
              "      <th>年代</th>\n",
              "      <th>性別</th>\n",
              "      <th>居住地</th>\n",
              "      <th>周囲の患者の発生※</th>\n",
              "      <th>濃厚接触者\\nの状況</th>\n",
              "      <th>確定人数</th>\n",
              "    </tr>\n",
              "    <tr>\n",
              "      <th>確定日</th>\n",
              "      <th></th>\n",
              "      <th></th>\n",
              "      <th></th>\n",
              "      <th></th>\n",
              "      <th></th>\n",
              "      <th></th>\n",
              "      <th></th>\n",
              "    </tr>\n",
              "  </thead>\n",
              "  <tbody>\n",
              "    <tr>\n",
              "      <th>1/15</th>\n",
              "      <td>1</td>\n",
              "      <td>1</td>\n",
              "      <td>1</td>\n",
              "      <td>1</td>\n",
              "      <td>1</td>\n",
              "      <td>1</td>\n",
              "      <td>1</td>\n",
              "    </tr>\n",
              "    <tr>\n",
              "      <th>1/28</th>\n",
              "      <td>1</td>\n",
              "      <td>1</td>\n",
              "      <td>1</td>\n",
              "      <td>1</td>\n",
              "      <td>1</td>\n",
              "      <td>1</td>\n",
              "      <td>1</td>\n",
              "    </tr>\n",
              "    <tr>\n",
              "      <th>1/29</th>\n",
              "      <td>1</td>\n",
              "      <td>1</td>\n",
              "      <td>1</td>\n",
              "      <td>1</td>\n",
              "      <td>1</td>\n",
              "      <td>1</td>\n",
              "      <td>1</td>\n",
              "    </tr>\n",
              "    <tr>\n",
              "      <th>1/30</th>\n",
              "      <td>2</td>\n",
              "      <td>2</td>\n",
              "      <td>2</td>\n",
              "      <td>2</td>\n",
              "      <td>2</td>\n",
              "      <td>2</td>\n",
              "      <td>2</td>\n",
              "    </tr>\n",
              "    <tr>\n",
              "      <th>1/31</th>\n",
              "      <td>1</td>\n",
              "      <td>1</td>\n",
              "      <td>1</td>\n",
              "      <td>1</td>\n",
              "      <td>1</td>\n",
              "      <td>1</td>\n",
              "      <td>1</td>\n",
              "    </tr>\n",
              "    <tr>\n",
              "      <th>2/11</th>\n",
              "      <td>1</td>\n",
              "      <td>1</td>\n",
              "      <td>1</td>\n",
              "      <td>1</td>\n",
              "      <td>1</td>\n",
              "      <td>1</td>\n",
              "      <td>1</td>\n",
              "    </tr>\n",
              "    <tr>\n",
              "      <th>2/13</th>\n",
              "      <td>4</td>\n",
              "      <td>4</td>\n",
              "      <td>4</td>\n",
              "      <td>4</td>\n",
              "      <td>4</td>\n",
              "      <td>4</td>\n",
              "      <td>4</td>\n",
              "    </tr>\n",
              "    <tr>\n",
              "      <th>2/14</th>\n",
              "      <td>9</td>\n",
              "      <td>9</td>\n",
              "      <td>9</td>\n",
              "      <td>9</td>\n",
              "      <td>9</td>\n",
              "      <td>9</td>\n",
              "      <td>9</td>\n",
              "    </tr>\n",
              "    <tr>\n",
              "      <th>2/15</th>\n",
              "      <td>4</td>\n",
              "      <td>4</td>\n",
              "      <td>4</td>\n",
              "      <td>4</td>\n",
              "      <td>4</td>\n",
              "      <td>4</td>\n",
              "      <td>4</td>\n",
              "    </tr>\n",
              "    <tr>\n",
              "      <th>2/16</th>\n",
              "      <td>2</td>\n",
              "      <td>2</td>\n",
              "      <td>2</td>\n",
              "      <td>2</td>\n",
              "      <td>2</td>\n",
              "      <td>2</td>\n",
              "      <td>2</td>\n",
              "    </tr>\n",
              "    <tr>\n",
              "      <th>2/17</th>\n",
              "      <td>6</td>\n",
              "      <td>6</td>\n",
              "      <td>6</td>\n",
              "      <td>6</td>\n",
              "      <td>6</td>\n",
              "      <td>6</td>\n",
              "      <td>6</td>\n",
              "    </tr>\n",
              "    <tr>\n",
              "      <th>2/18</th>\n",
              "      <td>8</td>\n",
              "      <td>8</td>\n",
              "      <td>8</td>\n",
              "      <td>8</td>\n",
              "      <td>8</td>\n",
              "      <td>8</td>\n",
              "      <td>8</td>\n",
              "    </tr>\n",
              "    <tr>\n",
              "      <th>2/19</th>\n",
              "      <td>8</td>\n",
              "      <td>8</td>\n",
              "      <td>8</td>\n",
              "      <td>8</td>\n",
              "      <td>8</td>\n",
              "      <td>8</td>\n",
              "      <td>8</td>\n",
              "    </tr>\n",
              "    <tr>\n",
              "      <th>2/20</th>\n",
              "      <td>9</td>\n",
              "      <td>9</td>\n",
              "      <td>9</td>\n",
              "      <td>9</td>\n",
              "      <td>9</td>\n",
              "      <td>9</td>\n",
              "      <td>9</td>\n",
              "    </tr>\n",
              "    <tr>\n",
              "      <th>2/21</th>\n",
              "      <td>13</td>\n",
              "      <td>13</td>\n",
              "      <td>13</td>\n",
              "      <td>13</td>\n",
              "      <td>13</td>\n",
              "      <td>13</td>\n",
              "      <td>13</td>\n",
              "    </tr>\n",
              "    <tr>\n",
              "      <th>2/22</th>\n",
              "      <td>24</td>\n",
              "      <td>24</td>\n",
              "      <td>24</td>\n",
              "      <td>24</td>\n",
              "      <td>24</td>\n",
              "      <td>24</td>\n",
              "      <td>24</td>\n",
              "    </tr>\n",
              "    <tr>\n",
              "      <th>2/23</th>\n",
              "      <td>11</td>\n",
              "      <td>11</td>\n",
              "      <td>11</td>\n",
              "      <td>11</td>\n",
              "      <td>11</td>\n",
              "      <td>11</td>\n",
              "      <td>11</td>\n",
              "    </tr>\n",
              "    <tr>\n",
              "      <th>2/24</th>\n",
              "      <td>11</td>\n",
              "      <td>11</td>\n",
              "      <td>11</td>\n",
              "      <td>11</td>\n",
              "      <td>11</td>\n",
              "      <td>11</td>\n",
              "      <td>11</td>\n",
              "    </tr>\n",
              "    <tr>\n",
              "      <th>2/25</th>\n",
              "      <td>16</td>\n",
              "      <td>16</td>\n",
              "      <td>16</td>\n",
              "      <td>16</td>\n",
              "      <td>16</td>\n",
              "      <td>16</td>\n",
              "      <td>16</td>\n",
              "    </tr>\n",
              "    <tr>\n",
              "      <th>2/26</th>\n",
              "      <td>9</td>\n",
              "      <td>9</td>\n",
              "      <td>9</td>\n",
              "      <td>9</td>\n",
              "      <td>9</td>\n",
              "      <td>9</td>\n",
              "      <td>9</td>\n",
              "    </tr>\n",
              "    <tr>\n",
              "      <th>2/27</th>\n",
              "      <td>24</td>\n",
              "      <td>24</td>\n",
              "      <td>24</td>\n",
              "      <td>24</td>\n",
              "      <td>24</td>\n",
              "      <td>24</td>\n",
              "      <td>24</td>\n",
              "    </tr>\n",
              "    <tr>\n",
              "      <th>2/28</th>\n",
              "      <td>17</td>\n",
              "      <td>17</td>\n",
              "      <td>17</td>\n",
              "      <td>17</td>\n",
              "      <td>17</td>\n",
              "      <td>17</td>\n",
              "      <td>17</td>\n",
              "    </tr>\n",
              "    <tr>\n",
              "      <th>2/29</th>\n",
              "      <td>9</td>\n",
              "      <td>9</td>\n",
              "      <td>9</td>\n",
              "      <td>9</td>\n",
              "      <td>9</td>\n",
              "      <td>9</td>\n",
              "      <td>9</td>\n",
              "    </tr>\n",
              "    <tr>\n",
              "      <th>2/5</th>\n",
              "      <td>1</td>\n",
              "      <td>1</td>\n",
              "      <td>1</td>\n",
              "      <td>1</td>\n",
              "      <td>1</td>\n",
              "      <td>1</td>\n",
              "      <td>1</td>\n",
              "    </tr>\n",
              "  </tbody>\n",
              "</table>\n",
              "</div>"
            ],
            "text/plain": [
              "      旧No.  年代  性別  居住地  周囲の患者の発生※  濃厚接触者\\nの状況  確定人数\n",
              "確定日                                                 \n",
              "1/15     1   1   1    1          1           1     1\n",
              "1/28     1   1   1    1          1           1     1\n",
              "1/29     1   1   1    1          1           1     1\n",
              "1/30     2   2   2    2          2           2     2\n",
              "1/31     1   1   1    1          1           1     1\n",
              "2/11     1   1   1    1          1           1     1\n",
              "2/13     4   4   4    4          4           4     4\n",
              "2/14     9   9   9    9          9           9     9\n",
              "2/15     4   4   4    4          4           4     4\n",
              "2/16     2   2   2    2          2           2     2\n",
              "2/17     6   6   6    6          6           6     6\n",
              "2/18     8   8   8    8          8           8     8\n",
              "2/19     8   8   8    8          8           8     8\n",
              "2/20     9   9   9    9          9           9     9\n",
              "2/21    13  13  13   13         13          13    13\n",
              "2/22    24  24  24   24         24          24    24\n",
              "2/23    11  11  11   11         11          11    11\n",
              "2/24    11  11  11   11         11          11    11\n",
              "2/25    16  16  16   16         16          16    16\n",
              "2/26     9   9   9    9          9           9     9\n",
              "2/27    24  24  24   24         24          24    24\n",
              "2/28    17  17  17   17         17          17    17\n",
              "2/29     9   9   9    9          9           9     9\n",
              "2/5      1   1   1    1          1           1     1"
            ]
          },
          "metadata": {
            "tags": []
          },
          "execution_count": 75
        }
      ]
    },
    {
      "cell_type": "code",
      "metadata": {
        "id": "2YqZNabAMGx2",
        "colab_type": "code",
        "outputId": "ab9bfa98-1bf4-4391-b098-4ed2cb2b0765",
        "colab": {
          "base_uri": "https://localhost:8080/",
          "height": 459
        }
      },
      "source": [
        "# 確定人数以外の列は不要\n",
        "df_timeseries = df_timeseries['確定人数']\n",
        "df_timeseries"
      ],
      "execution_count": 0,
      "outputs": [
        {
          "output_type": "execute_result",
          "data": {
            "text/plain": [
              "確定日\n",
              "1/15     1\n",
              "1/28     1\n",
              "1/29     1\n",
              "1/30     2\n",
              "1/31     1\n",
              "2/11     1\n",
              "2/13     4\n",
              "2/14     9\n",
              "2/15     4\n",
              "2/16     2\n",
              "2/17     6\n",
              "2/18     8\n",
              "2/19     8\n",
              "2/20     9\n",
              "2/21    13\n",
              "2/22    24\n",
              "2/23    11\n",
              "2/24    11\n",
              "2/25    16\n",
              "2/26     9\n",
              "2/27    24\n",
              "2/28    17\n",
              "2/29     9\n",
              "2/5      1\n",
              "Name: 確定人数, dtype: int64"
            ]
          },
          "metadata": {
            "tags": []
          },
          "execution_count": 76
        }
      ]
    },
    {
      "cell_type": "code",
      "metadata": {
        "id": "015YWqfDNgVx",
        "colab_type": "code",
        "outputId": "a17265df-4c10-4269-ead1-912068103d2a",
        "colab": {
          "base_uri": "https://localhost:8080/",
          "height": 297
        }
      },
      "source": [
        "df_timeseries.plot() # 実はデータフレーム（これは　Seriesというその類いですが）はこれでもプロットできる。"
      ],
      "execution_count": 0,
      "outputs": [
        {
          "output_type": "execute_result",
          "data": {
            "text/plain": [
              "<matplotlib.axes._subplots.AxesSubplot at 0x7f6bca089d30>"
            ]
          },
          "metadata": {
            "tags": []
          },
          "execution_count": 77
        },
        {
          "output_type": "display_data",
          "data": {
            "image/png": "[encoded data removed]",
            "text/plain": [
              "<Figure size 432x288 with 1 Axes>"
            ]
          },
          "metadata": {
            "tags": []
          }
        }
      ]
    },
    {
      "cell_type": "code",
      "metadata": {
        "id": "3MnKq32fNrMk",
        "colab_type": "code",
        "outputId": "a18d5603-71d5-487c-e8ee-3954a31c4e55",
        "colab": {
          "base_uri": "https://localhost:8080/",
          "height": 459
        }
      },
      "source": [
        "# 累積してみよう\n",
        "df_timeseries.cumsum()"
      ],
      "execution_count": 0,
      "outputs": [
        {
          "output_type": "execute_result",
          "data": {
            "text/plain": [
              "確定日\n",
              "1/15      1\n",
              "1/28      2\n",
              "1/29      3\n",
              "1/30      5\n",
              "1/31      6\n",
              "2/11      7\n",
              "2/13     11\n",
              "2/14     20\n",
              "2/15     24\n",
              "2/16     26\n",
              "2/17     32\n",
              "2/18     40\n",
              "2/19     48\n",
              "2/20     57\n",
              "2/21     70\n",
              "2/22     94\n",
              "2/23    105\n",
              "2/24    116\n",
              "2/25    132\n",
              "2/26    141\n",
              "2/27    165\n",
              "2/28    182\n",
              "2/29    191\n",
              "2/5     192\n",
              "Name: 確定人数, dtype: int64"
            ]
          },
          "metadata": {
            "tags": []
          },
          "execution_count": 78
        }
      ]
    },
    {
      "cell_type": "code",
      "metadata": {
        "id": "WUd9tFfxOHyF",
        "colab_type": "code",
        "outputId": "f2ede93e-aad3-400e-cfd7-32437b4e1845",
        "colab": {
          "base_uri": "https://localhost:8080/",
          "height": 296
        }
      },
      "source": [
        "df_timeseries.cumsum().plot()"
      ],
      "execution_count": 0,
      "outputs": [
        {
          "output_type": "execute_result",
          "data": {
            "text/plain": [
              "<matplotlib.axes._subplots.AxesSubplot at 0x7f6bc9272c50>"
            ]
          },
          "metadata": {
            "tags": []
          },
          "execution_count": 79
        },
        {
          "output_type": "display_data",
          "data": {
            "image/png": "[encoded data removed]",
            "text/plain": [
              "<Figure size 432x288 with 1 Axes>"
            ]
          },
          "metadata": {
            "tags": []
          }
        }
      ]
    },
    {
      "cell_type": "markdown",
      "metadata": {
        "id": "hyUO_tbDPoww",
        "colab_type": "text"
      },
      "source": [
        "## 上の解析で何かおかしいところがあるのに気が付きましたか？"
      ]
    },
    {
      "cell_type": "code",
      "metadata": {
        "id": "huF70cIcOKAo",
        "colab_type": "code",
        "colab": {}
      },
      "source": [
        "# さて、ここからは自分でやってみよう👍"
      ],
      "execution_count": 0,
      "outputs": []
    },
    {
      "cell_type": "code",
      "metadata": {
        "id": "mPRXK_6S2sSV",
        "colab_type": "code",
        "colab": {}
      },
      "source": [
        "# 面倒くさくなったとはいっていない。"
      ],
      "execution_count": 0,
      "outputs": []
    },
    {
      "cell_type": "code",
      "metadata": {
        "id": "Mt79-CmF2v1J",
        "colab_type": "code",
        "colab": {}
      },
      "source": [
        ""
      ],
      "execution_count": 0,
      "outputs": []
    }
  ]
}
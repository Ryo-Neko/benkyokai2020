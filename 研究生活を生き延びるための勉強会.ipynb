{
  "nbformat": 4,
  "nbformat_minor": 0,
  "metadata": {
    "colab": {
      "name": "研究生活を生き延びるための勉強会.ipynb",
      "provenance": [],
      "collapsed_sections": [],
      "toc_visible": true,
      "mount_file_id": "10nc9ZRMrsCj8UYUv4u3eEGpc1SzdubrK",
      "authorship_tag": "ABX9TyPoU90wDASgTpArFaIw3ghR",
      "include_colab_link": true
    },
    "kernelspec": {
      "name": "python3",
      "display_name": "Python 3"
    }
  },
  "cells": [
    {
      "cell_type": "markdown",
      "metadata": {
        "id": "view-in-github",
        "colab_type": "text"
      },
      "source": [
        "<a href=\"https://colab.research.google.com/github/Ryo-Neko/benkyokai2020/blob/master/%E7%A0%94%E7%A9%B6%E7%94%9F%E6%B4%BB%E3%82%92%E7%94%9F%E3%81%8D%E5%BB%B6%E3%81%B3%E3%82%8B%E3%81%9F%E3%82%81%E3%81%AE%E5%8B%89%E5%BC%B7%E4%BC%9A.ipynb\" target=\"_parent\"><img src=\"https://colab.research.google.com/assets/colab-badge.svg\" alt=\"Open In Colab\"/></a>"
      ]
    },
    {
      "cell_type": "markdown",
      "metadata": {
        "id": "pziDDeRfYlZ5",
        "colab_type": "text"
      },
      "source": [
        "# 1. コロナと戦う前にまず基本5本ノック\n",
        "たぶん勘でいけると思います。皆さんが入力する場所は、窓の左側に”[ ]”がついてある箇所です。勘でいいのです。パソコンは壊して覚えるのです。プロレーサーも車を潰して覚えるって言ってました。\n",
        "\n",
        "**10分以内に解いて下さい。**"
      ]
    },
    {
      "cell_type": "markdown",
      "metadata": {
        "id": "mikjQNvFY3q6",
        "colab_type": "text"
      },
      "source": [
        "## ①四則演算\n",
        "aに32(整数)、bに43．5（小数）を代入して、四則演算して答えを標準出力して下さい。\n",
        "\n",
        "---\n",
        "### 代入\n",
        "```python\n",
        "a = 数字等\n",
        "```\n",
        "aを変数といいます。\n",
        "\n",
        "### 四則演算\n",
        "```python\n",
        "数学のままです\n",
        "```\n",
        "\n",
        "### 標準出力\n",
        "```python\n",
        "print(a + b)\n",
        "```\n",
        " など画面に表示することをいいますね。\n",
        "\n",
        "---\n",
        "\n"
      ]
    },
    {
      "cell_type": "code",
      "metadata": {
        "id": "3F9PCaVIWflf",
        "colab_type": "code",
        "colab": {}
      },
      "source": [
        "# 答えを記述して下さい\n"
      ],
      "execution_count": 0,
      "outputs": []
    },
    {
      "cell_type": "markdown",
      "metadata": {
        "id": "TCX0MvL3Z7yn",
        "colab_type": "text"
      },
      "source": [
        "## ②文字列\n",
        "aに32（文字列）、bに43.5(小数)を代入して、それぞれ標準出力して下さい。\n",
        "\n",
        "さらに、その文字列を、それぞれ、2、3.5にスライスし標準出力して下さい。\n",
        "\n",
        "---\n",
        "### 文字列\n",
        "```python\n",
        "\"このように、シングルクオーテーションかダブルクオーテーションで囲われた英数字、日本語などのことを言います。\"\n",
        "```\n",
        "\n",
        "### スライス\n",
        "```python\n",
        "a = \"Kaneko\"\n",
        "a[1: 3] # -> an\n",
        "a[:3] # -> Kan\n",
        "```\n",
        "これをスライスと言います(\"基本的に\"文字列やリスト（後述）のみに使えます。)\n",
        "\n",
        "---"
      ]
    },
    {
      "cell_type": "code",
      "metadata": {
        "id": "huP4RzQyZs_7",
        "colab_type": "code",
        "colab": {}
      },
      "source": [
        "# 答えを記述して下さい\n"
      ],
      "execution_count": 0,
      "outputs": []
    },
    {
      "cell_type": "markdown",
      "metadata": {
        "id": "URUCmcM0c5c1",
        "colab_type": "text"
      },
      "source": [
        "## ③リスト\n",
        "aをリストとして定義して下さい。中身は順番に、1, 2, \"Kaneko\", 4, 5。これから、\"Kaneko\"と4を抽出し、標準出力して下さい。\n",
        "\n",
        "---\n",
        "### リスト\n",
        "```python\n",
        "a = ['Man', 'Name', 37, '男']\n",
        "```\n",
        "色んなものをまとめて入れておけます。\n",
        "\n",
        "### リストからの抽出\n",
        "```python\n",
        "a[1] # -> 'Nak'\n",
        "a[1: 3] # -> ['Nak', 37]\n",
        "```\n",
        "こんな感じで抽出できます(スライスです)"
      ]
    },
    {
      "cell_type": "code",
      "metadata": {
        "id": "COc93prYcj-5",
        "colab_type": "code",
        "colab": {}
      },
      "source": [
        "# 答えを記述して下さい\n"
      ],
      "execution_count": 0,
      "outputs": []
    },
    {
      "cell_type": "markdown",
      "metadata": {
        "id": "rmseinN_n4X7",
        "colab_type": "text"
      },
      "source": [
        "## ④ループその1\n",
        "0から9までの数字をfor文で連続して順番に標準出力して下さい。\n",
        "\n",
        "---\n",
        "### forの書き方と挙動\n",
        "```python\n",
        "for 変数 in リスト:\n",
        "    処理内容\n",
        "    処理内容\n",
        "    処理内容\n",
        "    ...\n",
        "    ...\n",
        "```\n",
        "1. リスト内の要素を順番に変数に代入して処理。\n",
        "2. 一つの処理は同一レベル以下のインデント末尾まで。\n",
        "3. その後また最初まで戻る。\n",
        "4. 次のリストの要素を変数に代入して同一の処理\n",
        "5. リストの中身を全て参照し終えるまで続ける\n",
        "\n",
        "### ヒント： rangeの挙動\n",
        "この問題は、単純に以下でいける。\n",
        "```python\n",
        "for i in [0, 1, 2, 3, 4, 5, 6, 7, 8， 9]:\n",
        "    print(i)\n",
        "```\n",
        "しかし、リストの中身が100個ある場合に困る。この時につかるのが、rangeである。\n",
        "```python\n",
        "range(10) # -> [0, 1, 2, 3, 4, 5, 6, 7, 8， 9] これは厳密には挙動が違うが今の段階ではこの認識で良い。\n",
        "```\n",
        "---"
      ]
    },
    {
      "cell_type": "code",
      "metadata": {
        "id": "gk3VHO6gnwDJ",
        "colab_type": "code",
        "colab": {}
      },
      "source": [
        "# 答えを記述して下さい\n"
      ],
      "execution_count": 0,
      "outputs": []
    },
    {
      "cell_type": "markdown",
      "metadata": {
        "id": "kwRF-rVVrIbn",
        "colab_type": "text"
      },
      "source": [
        "## ⑤ if文\n",
        "リストaの中身のそれぞれが整数5であるか判断するプログラムを作って下さい。プログラムの書き始めはリストの定義から始めます。以下をコピペして1行目に書いてください。\n",
        "```python\n",
        "a = [1, 4, 3, 5, 30, \"M\", 5, \"Nak\", \"5\"]\n",
        "```\n",
        "---\n",
        "\n",
        "### if文\n",
        "簡単に書けばこうなります。\n",
        "\n",
        "```python\n",
        "if True:\n",
        "    print(\"True\"ならこれが表示されます。\"False\"ならスルー）\n",
        "```\n",
        "PythonにはTrue、Falseという特殊な数字が存在します（True=0, False=1）。これをifの隣に書いてあげると、if文の中の処理が行われます。\n",
        "\n",
        "### 条件式\n",
        "```python\n",
        "1 == 1 # -> True\n",
        "1 == 2 # -> Flase\n",
        "1 > 1 # -> False\n",
        "```\n",
        "---\n"
      ]
    },
    {
      "cell_type": "code",
      "metadata": {
        "id": "bor17GLsrD0J",
        "colab_type": "code",
        "colab": {}
      },
      "source": [
        "# 答えを記述して下さい\n"
      ],
      "execution_count": 0,
      "outputs": []
    },
    {
      "cell_type": "code",
      "metadata": {
        "id": "kbTNBM0Hs6UL",
        "colab_type": "code",
        "colab": {}
      },
      "source": [
        ""
      ],
      "execution_count": 0,
      "outputs": []
    },
    {
      "cell_type": "markdown",
      "metadata": {
        "id": "Iyav5tQTtMLC",
        "colab_type": "text"
      },
      "source": [
        "# 2. コロナウイルスデータを読み込もう\n",
        "https://github.com/kaz-ogiwara/covid19/\n",
        "こちらからデータを頂いている。感謝します。"
      ]
    },
    {
      "cell_type": "code",
      "metadata": {
        "id": "Kw7KUA0LtOwi",
        "colab_type": "code",
        "colab": {}
      },
      "source": [
        "import pandas as pd"
      ],
      "execution_count": 0,
      "outputs": []
    },
    {
      "cell_type": "code",
      "metadata": {
        "id": "aTx6dJwstRNq",
        "colab_type": "code",
        "colab": {
          "base_uri": "https://localhost:8080/",
          "height": 235
        },
        "outputId": "b89f2102-78eb-4d2b-a217-9e4847904854"
      },
      "source": [
        "df = pd.read_csv(\"/content/drive/My Drive/datasets/covid19/data.csv\", header=0, index_col=0)\n",
        "df.head()"
      ],
      "execution_count": 11,
      "outputs": [
        {
          "output_type": "execute_result",
          "data": {
            "text/html": [
              "<div>\n",
              "<style scoped>\n",
              "    .dataframe tbody tr th:only-of-type {\n",
              "        vertical-align: middle;\n",
              "    }\n",
              "\n",
              "    .dataframe tbody tr th {\n",
              "        vertical-align: top;\n",
              "    }\n",
              "\n",
              "    .dataframe thead th {\n",
              "        text-align: right;\n",
              "    }\n",
              "</style>\n",
              "<table border=\"1\" class=\"dataframe\">\n",
              "  <thead>\n",
              "    <tr style=\"text-align: right;\">\n",
              "      <th></th>\n",
              "      <th>旧No.</th>\n",
              "      <th>確定日</th>\n",
              "      <th>年代</th>\n",
              "      <th>性別</th>\n",
              "      <th>居住地</th>\n",
              "      <th>周囲の患者の発生※</th>\n",
              "      <th>濃厚接触者\\nの状況</th>\n",
              "    </tr>\n",
              "    <tr>\n",
              "      <th>新No.</th>\n",
              "      <th></th>\n",
              "      <th></th>\n",
              "      <th></th>\n",
              "      <th></th>\n",
              "      <th></th>\n",
              "      <th></th>\n",
              "      <th></th>\n",
              "    </tr>\n",
              "  </thead>\n",
              "  <tbody>\n",
              "    <tr>\n",
              "      <th>1</th>\n",
              "      <td>1</td>\n",
              "      <td>1/15</td>\n",
              "      <td>30代</td>\n",
              "      <td>男</td>\n",
              "      <td>神奈川県</td>\n",
              "      <td>なし</td>\n",
              "      <td>38名特定、健康観察終了</td>\n",
              "    </tr>\n",
              "    <tr>\n",
              "      <th>2</th>\n",
              "      <td>2</td>\n",
              "      <td>1/24</td>\n",
              "      <td>40代</td>\n",
              "      <td>男</td>\n",
              "      <td>中国（武漢市）</td>\n",
              "      <td>なし</td>\n",
              "      <td>32名特定、健康観察終了</td>\n",
              "    </tr>\n",
              "    <tr>\n",
              "      <th>3</th>\n",
              "      <td>3</td>\n",
              "      <td>1/25</td>\n",
              "      <td>30代</td>\n",
              "      <td>女</td>\n",
              "      <td>中国（武漢市）</td>\n",
              "      <td>なし</td>\n",
              "      <td>７名特定、健康観察終了</td>\n",
              "    </tr>\n",
              "    <tr>\n",
              "      <th>4</th>\n",
              "      <td>4</td>\n",
              "      <td>1/26</td>\n",
              "      <td>40代</td>\n",
              "      <td>男</td>\n",
              "      <td>中国（武漢市）</td>\n",
              "      <td>No.19</td>\n",
              "      <td>２名特定、健康観察終了</td>\n",
              "    </tr>\n",
              "    <tr>\n",
              "      <th>5</th>\n",
              "      <td>5</td>\n",
              "      <td>1/28</td>\n",
              "      <td>40代</td>\n",
              "      <td>男</td>\n",
              "      <td>中国（武漢市）</td>\n",
              "      <td>なし</td>\n",
              "      <td>３名特定、健康観察終了</td>\n",
              "    </tr>\n",
              "  </tbody>\n",
              "</table>\n",
              "</div>"
            ],
            "text/plain": [
              "      旧No.   確定日   年代 性別      居住地 周囲の患者の発生※    濃厚接触者\\nの状況\n",
              "新No.                                                     \n",
              "1        1  1/15  30代  男     神奈川県        なし  38名特定、健康観察終了\n",
              "2        2  1/24  40代  男  中国（武漢市）        なし  32名特定、健康観察終了\n",
              "3        3  1/25  30代  女  中国（武漢市）        なし   ７名特定、健康観察終了\n",
              "4        4  1/26  40代  男  中国（武漢市）     No.19   ２名特定、健康観察終了\n",
              "5        5  1/28  40代  男  中国（武漢市）        なし   ３名特定、健康観察終了"
            ]
          },
          "metadata": {
            "tags": []
          },
          "execution_count": 11
        }
      ]
    },
    {
      "cell_type": "code",
      "metadata": {
        "id": "AwFOQfKltcKT",
        "colab_type": "code",
        "colab": {}
      },
      "source": [
        ""
      ],
      "execution_count": 0,
      "outputs": []
    }
  ]
}
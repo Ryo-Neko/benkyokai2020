{
  "nbformat": 4,
  "nbformat_minor": 0,
  "metadata": {
    "colab": {
      "name": "研究生活を生き延びるための勉強会part2.ipynb",
      "provenance": [],
      "collapsed_sections": [],
      "mount_file_id": "13eOTQlqGPca5k-8nlxTXIyjuyGRfN0Im",
      "authorship_tag": "ABX9TyPAqk5D4BB9SSPJwN1CTGf0",
      "include_colab_link": true
    },
    "kernelspec": {
      "name": "python3",
      "display_name": "Python 3"
    }
  },
  "cells": [
    {
      "cell_type": "markdown",
      "metadata": {
        "id": "view-in-github",
        "colab_type": "text"
      },
      "source": [
        "<a href=\"https://colab.research.google.com/github/Ryo-Neko/benkyokai2020/blob/master/%E7%A0%94%E7%A9%B6%E7%94%9F%E6%B4%BB%E3%82%92%E7%94%9F%E3%81%8D%E5%BB%B6%E3%81%B3%E3%82%8B%E3%81%9F%E3%82%81%E3%81%AE%E5%8B%89%E5%BC%B7%E4%BC%9Apart2.ipynb\" target=\"_parent\"><img src=\"https://colab.research.google.com/assets/colab-badge.svg\" alt=\"Open In Colab\"/></a>"
      ]
    },
    {
      "cell_type": "markdown",
      "metadata": {
        "id": "5Dnu3eX-ODQi",
        "colab_type": "text"
      },
      "source": [
        "# おすすめ\n",
        "わからなかったらとりあえず調べる。これが鉄則です。覚える必要はないです。私もよく使うもの以外はすぐ忘れます。。。"
      ]
    },
    {
      "cell_type": "markdown",
      "metadata": {
        "id": "ggraLosgJ5Tb",
        "colab_type": "text"
      },
      "source": [
        "# ライブラリーの読み込み\n",
        "\"#\"以下はココメント文になります。コメント文はプログラムとして認識されないので好き勝手書くことができます。\n",
        "\n",
        "例\n",
        "\n",
        "```python\n",
        "\n",
        "a = 3 + 2 # うんこうんこうんこうんこうんこうんこうんこうんこうんこ\n",
        "print(a) # ＼(^o^)/\n",
        "\n",
        "```\n",
        "この場合、aの値（この場合は5）のみが出力されエラーにはなりません。\n",
        "くれぐれも見られて恥ずかしい言葉を書かないようにしましょう。\n"
      ]
    },
    {
      "cell_type": "code",
      "metadata": {
        "id": "kKbLWYSDH1nH",
        "colab_type": "code",
        "colab": {
          "base_uri": "https://localhost:8080/",
          "height": 187
        },
        "outputId": "cf93a1a6-bb0c-4ca0-d7ed-412fb63a0599"
      },
      "source": [
        "# !からはじまるコマンドは、シェルのコマンドの一つです（Pythonではない）。参考：シェル、　pip\n",
        "!pip install japanize_matplotlib # 図面が文字化け（豆腐化）しなくなる"
      ],
      "execution_count": 1,
      "outputs": [
        {
          "output_type": "stream",
          "text": [
            "Collecting japanize_matplotlib\n",
            "\u001b[?25l  Downloading https://files.pythonhosted.org/packages/aa/c0/b75d434be51a8cc11d2e9b36f2d7f93a1bcf63bde24dc79a61d329d60b2a/japanize-matplotlib-1.0.5.tar.gz (4.1MB)\n",
            "\u001b[K     |████████████████████████████████| 4.1MB 3.3MB/s \n",
            "\u001b[?25hBuilding wheels for collected packages: japanize-matplotlib\n",
            "  Building wheel for japanize-matplotlib (setup.py) ... \u001b[?25l\u001b[?25hdone\n",
            "  Created wheel for japanize-matplotlib: filename=japanize_matplotlib-1.0.5-cp36-none-any.whl size=4118721 sha256=72b515fb8fbb0e1286bdeef32bf169249d1252ab58764824bb9d09eb90edd9bc\n",
            "  Stored in directory: /root/.cache/pip/wheels/6c/8a/08/4a784957da9f3c2b4839b4986be2fba2a481877318948be52c\n",
            "Successfully built japanize-matplotlib\n",
            "Installing collected packages: japanize-matplotlib\n",
            "Successfully installed japanize-matplotlib-1.0.5\n"
          ],
          "name": "stdout"
        }
      ]
    },
    {
      "cell_type": "code",
      "metadata": {
        "id": "sfLCnozlIcXP",
        "colab_type": "code",
        "colab": {
          "base_uri": "https://localhost:8080/",
          "height": 68
        },
        "outputId": "1797a5ce-93b3-4a68-b56e-90ff2fcf2384"
      },
      "source": [
        "# 以下、調べて見るとできることがわかるのでオススメです。\n",
        "\n",
        "import pandas as pd # Pythonでデータ解析をするならこれ！\n",
        "import numpy as np # Pythonで数値計算するならこれ！!\n",
        "\n",
        "import matplotlib.pyplot as plt # matplotlibはPythonで図面を書くときの基本\n",
        "import seaborn as sns # seabornはmatplotlibを拡張して色んなことができるようにしたもの。便利だが個人的にはちょっと不便。楽しんで使いたいならオススメ。\n",
        "import japanize_matplotlib # 上でインストールしたもの。"
      ],
      "execution_count": 2,
      "outputs": [
        {
          "output_type": "stream",
          "text": [
            "/usr/local/lib/python3.6/dist-packages/japanize_matplotlib/__init__.py:13: MatplotlibDeprecationWarning: \n",
            "The createFontList function was deprecated in Matplotlib 3.2 and will be removed two minor releases later. Use FontManager.addfont instead.\n",
            "  font_list = font_manager.createFontList(font_files)\n"
          ],
          "name": "stderr"
        }
      ]
    },
    {
      "cell_type": "markdown",
      "metadata": {
        "id": "ViUMKl3mLwVZ",
        "colab_type": "text"
      },
      "source": [
        "# データの読み込み"
      ]
    },
    {
      "cell_type": "code",
      "metadata": {
        "id": "fMEggIF0Lrmo",
        "colab_type": "code",
        "colab": {
          "base_uri": "https://localhost:8080/",
          "height": 1000
        },
        "outputId": "8d6ddc65-515d-407b-f951-97f51b88889f"
      },
      "source": [
        "df = pd.read_csv(\"/content/drive/My Drive/datasets/signate/covid19/罹患者.csv\", header=0, index_col=None) # 適宜ファイルの場所は変更しましょう\n",
        "df.head(3)"
      ],
      "execution_count": 29,
      "outputs": [
        {
          "output_type": "execute_result",
          "data": {
            "text/html": [
              "<div>\n",
              "<style scoped>\n",
              "    .dataframe tbody tr th:only-of-type {\n",
              "        vertical-align: middle;\n",
              "    }\n",
              "\n",
              "    .dataframe tbody tr th {\n",
              "        vertical-align: top;\n",
              "    }\n",
              "\n",
              "    .dataframe thead th {\n",
              "        text-align: right;\n",
              "    }\n",
              "</style>\n",
              "<table border=\"1\" class=\"dataframe\">\n",
              "  <thead>\n",
              "    <tr style=\"text-align: right;\">\n",
              "      <th></th>\n",
              "      <th>罹患者id</th>\n",
              "      <th>都道府県コード</th>\n",
              "      <th>都道府県別罹患者No</th>\n",
              "      <th>発熱観察日</th>\n",
              "      <th>受診日</th>\n",
              "      <th>公表日</th>\n",
              "      <th>回復日</th>\n",
              "      <th>死亡日</th>\n",
              "      <th>受診都道府県</th>\n",
              "      <th>受診都道府県緯度</th>\n",
              "      <th>受診都道府県経度</th>\n",
              "      <th>居住地</th>\n",
              "      <th>居住地緯度</th>\n",
              "      <th>居住地経度</th>\n",
              "      <th>年代</th>\n",
              "      <th>性別</th>\n",
              "      <th>職業</th>\n",
              "      <th>海外渡航歴ﾌﾗｸﾞ</th>\n",
              "      <th>海外渡航先</th>\n",
              "      <th>帰国日</th>\n",
              "      <th>ﾀﾞｲﾔﾓﾝﾄﾞﾌﾟﾘﾝｾｽ号乗船ﾌﾗｸﾞ</th>\n",
              "      <th>症状・経過</th>\n",
              "      <th>行動歴</th>\n",
              "      <th>濃厚接触者状況</th>\n",
              "      <th>情報源</th>\n",
              "      <th>Unnamed: 25</th>\n",
              "      <th>Unnamed: 26</th>\n",
              "      <th>Unnamed: 27</th>\n",
              "      <th>Unnamed: 28</th>\n",
              "      <th>Unnamed: 29</th>\n",
              "      <th>Unnamed: 30</th>\n",
              "      <th>Unnamed: 31</th>\n",
              "    </tr>\n",
              "  </thead>\n",
              "  <tbody>\n",
              "    <tr>\n",
              "      <th>0</th>\n",
              "      <td>1-1</td>\n",
              "      <td>1.0</td>\n",
              "      <td>1.0</td>\n",
              "      <td>2020/01/26</td>\n",
              "      <td>2020/01/27</td>\n",
              "      <td>2020/01/28</td>\n",
              "      <td>NaN</td>\n",
              "      <td>NaN</td>\n",
              "      <td>北海道</td>\n",
              "      <td>#NAME?</td>\n",
              "      <td>#NAME?</td>\n",
              "      <td>中国（武漢市）</td>\n",
              "      <td>#NAME?</td>\n",
              "      <td>#NAME?</td>\n",
              "      <td>40代</td>\n",
              "      <td>女性</td>\n",
              "      <td>NaN</td>\n",
              "      <td>1</td>\n",
              "      <td>NaN</td>\n",
              "      <td>NaN</td>\n",
              "      <td>0.0</td>\n",
              "      <td>1月21日に来日し、22日より北海道を観光。\\n1月26日 体調不良のため外出せず。夜間に咳...</td>\n",
              "      <td>1月21日、２名で来日し東京都内の知人宅に宿泊。\\n1月22日、３名で東京から北海道に移動し...</td>\n",
              "      <td>濃厚接触者を特定し\\n健康観察終了</td>\n",
              "      <td>http://www.pref.hokkaido.lg.jp/hf/kth/kak/hass...</td>\n",
              "      <td>NaN</td>\n",
              "      <td>NaN</td>\n",
              "      <td>NaN</td>\n",
              "      <td>NaN</td>\n",
              "      <td>NaN</td>\n",
              "      <td>NaN</td>\n",
              "      <td>NaN</td>\n",
              "    </tr>\n",
              "    <tr>\n",
              "      <th>1</th>\n",
              "      <td>1-2</td>\n",
              "      <td>1.0</td>\n",
              "      <td>2.0</td>\n",
              "      <td>2020/01/31</td>\n",
              "      <td>2020/02/03</td>\n",
              "      <td>2020/02/14</td>\n",
              "      <td>NaN</td>\n",
              "      <td>NaN</td>\n",
              "      <td>北海道</td>\n",
              "      <td>#NAME?</td>\n",
              "      <td>#NAME?</td>\n",
              "      <td>札幌市</td>\n",
              "      <td>#NAME?</td>\n",
              "      <td>#NAME?</td>\n",
              "      <td>50代</td>\n",
              "      <td>男性</td>\n",
              "      <td>自営業</td>\n",
              "      <td>0</td>\n",
              "      <td>NaN</td>\n",
              "      <td>NaN</td>\n",
              "      <td>0.0</td>\n",
              "      <td>1月31日 発熱、咳、倦怠感が出現。\\n2月 3日 石狩振興局管内の医療機関Aを受診。\\n2...</td>\n",
              "      <td>1月21日、２名で来日し東京都内の知人宅に宿泊。\\n1月22日、３名で東京から北海道に移動し...</td>\n",
              "      <td>健康観察実施中</td>\n",
              "      <td>http://www.pref.hokkaido.lg.jp/hf/kth/kak/hass...</td>\n",
              "      <td>NaN</td>\n",
              "      <td>NaN</td>\n",
              "      <td>NaN</td>\n",
              "      <td>NaN</td>\n",
              "      <td>NaN</td>\n",
              "      <td>NaN</td>\n",
              "      <td>NaN</td>\n",
              "    </tr>\n",
              "    <tr>\n",
              "      <th>2</th>\n",
              "      <td>1-3</td>\n",
              "      <td>1.0</td>\n",
              "      <td>3.0</td>\n",
              "      <td>2020/02/12</td>\n",
              "      <td>2020/02/15</td>\n",
              "      <td>2020/02/19</td>\n",
              "      <td>NaN</td>\n",
              "      <td>NaN</td>\n",
              "      <td>北海道</td>\n",
              "      <td>#NAME?</td>\n",
              "      <td>#NAME?</td>\n",
              "      <td>札幌市</td>\n",
              "      <td>#NAME?</td>\n",
              "      <td>#NAME?</td>\n",
              "      <td>40代</td>\n",
              "      <td>男性</td>\n",
              "      <td>会社員</td>\n",
              "      <td>0</td>\n",
              "      <td>NaN</td>\n",
              "      <td>NaN</td>\n",
              "      <td>0.0</td>\n",
              "      <td>2月 8日 倦怠感、筋肉痛、関節痛が出現\\n2月12日 発熱、咳が出現\\n2月13日 札幌市...</td>\n",
              "      <td>2月1日から2月12日までの期間、No.5の男性（2月19日感染判明）とともに、雪まつり大通...</td>\n",
              "      <td>札幌市公表中</td>\n",
              "      <td>http://www.pref.hokkaido.lg.jp/hf/kth/kak/hass...</td>\n",
              "      <td>NaN</td>\n",
              "      <td>NaN</td>\n",
              "      <td>NaN</td>\n",
              "      <td>NaN</td>\n",
              "      <td>NaN</td>\n",
              "      <td>NaN</td>\n",
              "      <td>NaN</td>\n",
              "    </tr>\n",
              "  </tbody>\n",
              "</table>\n",
              "</div>"
            ],
            "text/plain": [
              "  罹患者id  都道府県コード  都道府県別罹患者No  ... Unnamed: 29 Unnamed: 30 Unnamed: 31\n",
              "0   1-1      1.0         1.0  ...         NaN         NaN         NaN\n",
              "1   1-2      1.0         2.0  ...         NaN         NaN         NaN\n",
              "2   1-3      1.0         3.0  ...         NaN         NaN         NaN\n",
              "\n",
              "[3 rows x 32 columns]"
            ]
          },
          "metadata": {
            "tags": []
          },
          "execution_count": 29
        }
      ]
    },
    {
      "cell_type": "code",
      "metadata": {
        "id": "pJ9Nm5H6OTGg",
        "colab_type": "code",
        "colab": {
          "base_uri": "https://localhost:8080/",
          "height": 142
        },
        "outputId": "c5cc0639-a327-457a-f666-030a440755a1"
      },
      "source": [
        "df_info = pd.read_csv(\"/content/drive/My Drive/datasets/signate/covid19/罹患者関係.csv\", header=0, index_col=None)\n",
        "df_info.head(3)"
      ],
      "execution_count": 30,
      "outputs": [
        {
          "output_type": "execute_result",
          "data": {
            "text/html": [
              "<div>\n",
              "<style scoped>\n",
              "    .dataframe tbody tr th:only-of-type {\n",
              "        vertical-align: middle;\n",
              "    }\n",
              "\n",
              "    .dataframe tbody tr th {\n",
              "        vertical-align: top;\n",
              "    }\n",
              "\n",
              "    .dataframe thead th {\n",
              "        text-align: right;\n",
              "    }\n",
              "</style>\n",
              "<table border=\"1\" class=\"dataframe\">\n",
              "  <thead>\n",
              "    <tr style=\"text-align: right;\">\n",
              "      <th></th>\n",
              "      <th>罹患者id1</th>\n",
              "      <th>罹患者id2</th>\n",
              "      <th>関係性</th>\n",
              "      <th>都道府県</th>\n",
              "      <th>場所</th>\n",
              "      <th>場所緯度</th>\n",
              "      <th>場所経度</th>\n",
              "      <th>情報源</th>\n",
              "    </tr>\n",
              "  </thead>\n",
              "  <tbody>\n",
              "    <tr>\n",
              "      <th>0</th>\n",
              "      <td>1-3</td>\n",
              "      <td>1-5</td>\n",
              "      <td>不明</td>\n",
              "      <td>兵庫県</td>\n",
              "      <td>さっぽろ雪まつり</td>\n",
              "      <td>#NAME?</td>\n",
              "      <td>#NAME?</td>\n",
              "      <td>http://www.pref.hokkaido.lg.jp/hf/kth/kak/hass...</td>\n",
              "    </tr>\n",
              "    <tr>\n",
              "      <th>1</th>\n",
              "      <td>28-5</td>\n",
              "      <td>20-2</td>\n",
              "      <td>不明</td>\n",
              "      <td>兵庫県</td>\n",
              "      <td>Soap opera classics-Umeda</td>\n",
              "      <td>NaN</td>\n",
              "      <td>NaN</td>\n",
              "      <td>https://www.city.himeji.lg.jp/emergencyinfo/cm...</td>\n",
              "    </tr>\n",
              "    <tr>\n",
              "      <th>2</th>\n",
              "      <td>28-24</td>\n",
              "      <td>20-2</td>\n",
              "      <td>不明</td>\n",
              "      <td>兵庫県</td>\n",
              "      <td>Soap opera classics-Umeda</td>\n",
              "      <td>NaN</td>\n",
              "      <td>NaN</td>\n",
              "      <td>https://www.city.kobe.lg.jp/a57337/kenko/healt...</td>\n",
              "    </tr>\n",
              "  </tbody>\n",
              "</table>\n",
              "</div>"
            ],
            "text/plain": [
              "  罹患者id1 罹患者id2  ...    場所経度                                                情報源\n",
              "0    1-3    1-5  ...  #NAME?  http://www.pref.hokkaido.lg.jp/hf/kth/kak/hass...\n",
              "1   28-5   20-2  ...     NaN  https://www.city.himeji.lg.jp/emergencyinfo/cm...\n",
              "2  28-24   20-2  ...     NaN  https://www.city.kobe.lg.jp/a57337/kenko/healt...\n",
              "\n",
              "[3 rows x 8 columns]"
            ]
          },
          "metadata": {
            "tags": []
          },
          "execution_count": 30
        }
      ]
    },
    {
      "cell_type": "markdown",
      "metadata": {
        "id": "A3NQe-0POkP5",
        "colab_type": "text"
      },
      "source": [
        "# データの整理"
      ]
    },
    {
      "cell_type": "code",
      "metadata": {
        "id": "W76Xj0RpObvV",
        "colab_type": "code",
        "colab": {}
      },
      "source": [
        "# Excelのエラーである\"#NAME?\"(数式のエラー？)をnanに置き換えます。\n",
        "df = df.replace(\"#NAME?\", np.nan)\n",
        "df_info = df_info.replace(\"#NAME?\", np.nan)"
      ],
      "execution_count": 0,
      "outputs": []
    },
    {
      "cell_type": "code",
      "metadata": {
        "id": "ezXiyPp8PAOq",
        "colab_type": "code",
        "colab": {}
      },
      "source": [
        "# 行方向に全てNaNの行を削除\n",
        "# axis=0は削除が行方向なことを意味します。\n",
        "# inplace=Trueは、いちいち再代入しなくてもdfを上書きすることを意味します（これはわからなければスルーでOKです）\n",
        "df.dropna(how='all', axis=0, inplace=True)\n",
        "df_info.dropna(how='all', axis=0, inplace=True)\n",
        "\n",
        "\n",
        "# 列方向に全てNaNの列を削除\n",
        "# axis=1は削除が列方向なことを意味します。\n",
        "df.dropna(how='all', axis=1, inplace=True)\n",
        "df_info.dropna(how='all', axis=1, inplace=True)"
      ],
      "execution_count": 0,
      "outputs": []
    },
    {
      "cell_type": "code",
      "metadata": {
        "id": "qFVTfBVcalST",
        "colab_type": "code",
        "colab": {
          "base_uri": "https://localhost:8080/",
          "height": 697
        },
        "outputId": "95af5a61-8e17-4759-82dc-3ad88a37a1b1"
      },
      "source": [
        "# idがnanの場合は今回は扱わないことに（罹患者数が変わるので本当はいけないがmergeの便宜上）\n",
        "df = df[~df['罹患者id'].isnull()] # \"isnull()\" は\"ＮａＮ\"を探します。\"~\"(チルダ)は\"not\"を意味します。 疑問な人はdf['罹患者id'].isnull()を他のウィンドウでやって出力を確認しましょう。.\n",
        "df_info = df_info[~df_info['罹患者id1'].isnull()]\n",
        "df.tail()"
      ],
      "execution_count": 56,
      "outputs": [
        {
          "output_type": "execute_result",
          "data": {
            "text/html": [
              "<div>\n",
              "<style scoped>\n",
              "    .dataframe tbody tr th:only-of-type {\n",
              "        vertical-align: middle;\n",
              "    }\n",
              "\n",
              "    .dataframe tbody tr th {\n",
              "        vertical-align: top;\n",
              "    }\n",
              "\n",
              "    .dataframe thead th {\n",
              "        text-align: right;\n",
              "    }\n",
              "</style>\n",
              "<table border=\"1\" class=\"dataframe\">\n",
              "  <thead>\n",
              "    <tr style=\"text-align: right;\">\n",
              "      <th></th>\n",
              "      <th>罹患者id</th>\n",
              "      <th>都道府県コード</th>\n",
              "      <th>都道府県別罹患者No</th>\n",
              "      <th>発熱観察日</th>\n",
              "      <th>受診日</th>\n",
              "      <th>公表日</th>\n",
              "      <th>回復日</th>\n",
              "      <th>死亡日</th>\n",
              "      <th>受診都道府県</th>\n",
              "      <th>受診都道府県緯度</th>\n",
              "      <th>受診都道府県経度</th>\n",
              "      <th>居住地</th>\n",
              "      <th>年代</th>\n",
              "      <th>性別</th>\n",
              "      <th>職業</th>\n",
              "      <th>海外渡航歴ﾌﾗｸﾞ</th>\n",
              "      <th>海外渡航先</th>\n",
              "      <th>帰国日</th>\n",
              "      <th>ﾀﾞｲﾔﾓﾝﾄﾞﾌﾟﾘﾝｾｽ号乗船ﾌﾗｸﾞ</th>\n",
              "      <th>症状・経過</th>\n",
              "      <th>行動歴</th>\n",
              "      <th>濃厚接触者状況</th>\n",
              "      <th>情報源</th>\n",
              "    </tr>\n",
              "  </thead>\n",
              "  <tbody>\n",
              "    <tr>\n",
              "      <th>926</th>\n",
              "      <td>45-2</td>\n",
              "      <td>45.0</td>\n",
              "      <td>2.0</td>\n",
              "      <td>2020/03/15</td>\n",
              "      <td>2020/03/16</td>\n",
              "      <td>2020/03/17</td>\n",
              "      <td>NaN</td>\n",
              "      <td>NaN</td>\n",
              "      <td>宮崎県</td>\n",
              "      <td>NaN</td>\n",
              "      <td>NaN</td>\n",
              "      <td>国外</td>\n",
              "      <td>20代</td>\n",
              "      <td>男性</td>\n",
              "      <td>会社員</td>\n",
              "      <td>1</td>\n",
              "      <td>NaN</td>\n",
              "      <td>NaN</td>\n",
              "      <td>0.0</td>\n",
              "      <td>3月15日\\n37.5度の発熱と咳嗽あり。解熱剤使用。\\n3月16日\\n39度の発熱継続する...</td>\n",
              "      <td>3月12日\\n国外を出発。\\n3月13日\\n成田空港到着後東京滞在。\\n3月15日\\n横浜市...</td>\n",
              "      <td>友人1人（経過観察期間：3月31日まで）\\n3月18日PCR検査陰性\\n現在症状なし\\nレン...</td>\n",
              "      <td>https://www.pref.miyazaki.lg.jp/kohosenryaku/k...</td>\n",
              "    </tr>\n",
              "    <tr>\n",
              "      <th>927</th>\n",
              "      <td>45-3</td>\n",
              "      <td>45.0</td>\n",
              "      <td>3.0</td>\n",
              "      <td>2020/03/07</td>\n",
              "      <td>2020/03/11</td>\n",
              "      <td>2020/03/17</td>\n",
              "      <td>NaN</td>\n",
              "      <td>NaN</td>\n",
              "      <td>宮崎県</td>\n",
              "      <td>NaN</td>\n",
              "      <td>NaN</td>\n",
              "      <td>高千穂町</td>\n",
              "      <td>40代</td>\n",
              "      <td>男性</td>\n",
              "      <td>郵便局員</td>\n",
              "      <td>0</td>\n",
              "      <td>NaN</td>\n",
              "      <td>NaN</td>\n",
              "      <td>0.0</td>\n",
              "      <td>3月7日\\n37.5度の発熱、咳、節々の痛み、目と頭の痛み。\\n3月9日\\n39.1度の発熱...</td>\n",
              "      <td>3月5日\\n熊本県訪問\\n3月7日から\\n自宅安静</td>\n",
              "      <td>・同居家族（妻）（経過観察期間：3月31日まで）\\n　3月18日PCR検査陰性\\n　現在症状...</td>\n",
              "      <td>https://www.pref.miyazaki.lg.jp/kohosenryaku/k...</td>\n",
              "    </tr>\n",
              "    <tr>\n",
              "      <th>928</th>\n",
              "      <td>47-1</td>\n",
              "      <td>47.0</td>\n",
              "      <td>1.0</td>\n",
              "      <td>2020/02/05</td>\n",
              "      <td>2020/02/12</td>\n",
              "      <td>2020/02/14</td>\n",
              "      <td>NaN</td>\n",
              "      <td>NaN</td>\n",
              "      <td>沖縄県</td>\n",
              "      <td>NaN</td>\n",
              "      <td>NaN</td>\n",
              "      <td>島尻郡</td>\n",
              "      <td>60代</td>\n",
              "      <td>女性</td>\n",
              "      <td>タクシー運転手</td>\n",
              "      <td>0</td>\n",
              "      <td>NaN</td>\n",
              "      <td>NaN</td>\n",
              "      <td>0.0</td>\n",
              "      <td>・２月１日 ：ダイヤモンドプリンセス号に乗船していた４名を乗車。\\n・２月５日 ：咳がひどく...</td>\n",
              "      <td>調査中</td>\n",
              "      <td>調査中</td>\n",
              "      <td>https://www.pref.okinawa.jp/site/hoken/chiikih...</td>\n",
              "    </tr>\n",
              "    <tr>\n",
              "      <th>929</th>\n",
              "      <td>47-2</td>\n",
              "      <td>47.0</td>\n",
              "      <td>2.0</td>\n",
              "      <td>2020/02/10</td>\n",
              "      <td>2020/02/18</td>\n",
              "      <td>2020/02/19</td>\n",
              "      <td>NaN</td>\n",
              "      <td>NaN</td>\n",
              "      <td>沖縄県</td>\n",
              "      <td>NaN</td>\n",
              "      <td>NaN</td>\n",
              "      <td>那覇市</td>\n",
              "      <td>60代</td>\n",
              "      <td>男性</td>\n",
              "      <td>タクシー運転手</td>\n",
              "      <td>0</td>\n",
              "      <td>NaN</td>\n",
              "      <td>NaN</td>\n",
              "      <td>0.0</td>\n",
              "      <td>・２月１日 ：ダイヤモンドプリンセス号に乗船していた乗客を乗車。\\n・２月 10 日 ：倦怠...</td>\n",
              "      <td>調査中</td>\n",
              "      <td>調査中</td>\n",
              "      <td>https://www.pref.okinawa.jp/site/hoken/chiikih...</td>\n",
              "    </tr>\n",
              "    <tr>\n",
              "      <th>930</th>\n",
              "      <td>47-3</td>\n",
              "      <td>47.0</td>\n",
              "      <td>3.0</td>\n",
              "      <td>2020/02/17</td>\n",
              "      <td>2020/02/20</td>\n",
              "      <td>2020/02/20</td>\n",
              "      <td>NaN</td>\n",
              "      <td>NaN</td>\n",
              "      <td>沖縄県</td>\n",
              "      <td>NaN</td>\n",
              "      <td>NaN</td>\n",
              "      <td>豊見城市</td>\n",
              "      <td>80代</td>\n",
              "      <td>男性</td>\n",
              "      <td>農業</td>\n",
              "      <td>0</td>\n",
              "      <td>NaN</td>\n",
              "      <td>NaN</td>\n",
              "      <td>0.0</td>\n",
              "      <td>・２月６日 ：微熱あり、咳なし、風邪気味。\\n・２月 17 日 ：発熱 36.8 ℃、倦怠感...</td>\n",
              "      <td>調査中</td>\n",
              "      <td>調査中</td>\n",
              "      <td>https://www.pref.okinawa.jp/site/hoken/chiikih...</td>\n",
              "    </tr>\n",
              "  </tbody>\n",
              "</table>\n",
              "</div>"
            ],
            "text/plain": [
              "    罹患者id  ...                                                情報源\n",
              "926  45-2  ...  https://www.pref.miyazaki.lg.jp/kohosenryaku/k...\n",
              "927  45-3  ...  https://www.pref.miyazaki.lg.jp/kohosenryaku/k...\n",
              "928  47-1  ...  https://www.pref.okinawa.jp/site/hoken/chiikih...\n",
              "929  47-2  ...  https://www.pref.okinawa.jp/site/hoken/chiikih...\n",
              "930  47-3  ...  https://www.pref.okinawa.jp/site/hoken/chiikih...\n",
              "\n",
              "[5 rows x 23 columns]"
            ]
          },
          "metadata": {
            "tags": []
          },
          "execution_count": 56
        }
      ]
    },
    {
      "cell_type": "code",
      "metadata": {
        "id": "SkEx__j2cvh8",
        "colab_type": "code",
        "colab": {
          "base_uri": "https://localhost:8080/",
          "height": 419
        },
        "outputId": "ff417b38-da32-40fe-ba67-753de2ee42f8"
      },
      "source": [
        "df_info[df_info[\"罹患者id1\"].duplicated()]"
      ],
      "execution_count": 62,
      "outputs": [
        {
          "output_type": "execute_result",
          "data": {
            "text/html": [
              "<div>\n",
              "<style scoped>\n",
              "    .dataframe tbody tr th:only-of-type {\n",
              "        vertical-align: middle;\n",
              "    }\n",
              "\n",
              "    .dataframe tbody tr th {\n",
              "        vertical-align: top;\n",
              "    }\n",
              "\n",
              "    .dataframe thead th {\n",
              "        text-align: right;\n",
              "    }\n",
              "</style>\n",
              "<table border=\"1\" class=\"dataframe\">\n",
              "  <thead>\n",
              "    <tr style=\"text-align: right;\">\n",
              "      <th></th>\n",
              "      <th>罹患者id1</th>\n",
              "      <th>罹患者id2</th>\n",
              "      <th>関係性</th>\n",
              "      <th>都道府県</th>\n",
              "      <th>場所</th>\n",
              "      <th>情報源</th>\n",
              "    </tr>\n",
              "  </thead>\n",
              "  <tbody>\n",
              "    <tr>\n",
              "      <th>13</th>\n",
              "      <td>1-17</td>\n",
              "      <td>1-43</td>\n",
              "      <td>不明</td>\n",
              "      <td>北海道</td>\n",
              "      <td>生活関連商品の展示会</td>\n",
              "      <td>http://www.pref.hokkaido.lg.jp/hf/kth/kak/sing...</td>\n",
              "    </tr>\n",
              "    <tr>\n",
              "      <th>20</th>\n",
              "      <td>1-27</td>\n",
              "      <td>1-31</td>\n",
              "      <td>不明</td>\n",
              "      <td>北海道</td>\n",
              "      <td>不明</td>\n",
              "      <td>http://www.pref.hokkaido.lg.jp/hf/kth/kak/sing...</td>\n",
              "    </tr>\n",
              "    <tr>\n",
              "      <th>22</th>\n",
              "      <td>1-28</td>\n",
              "      <td>1-41</td>\n",
              "      <td>不明</td>\n",
              "      <td>北海道</td>\n",
              "      <td>不明</td>\n",
              "      <td>http://www.pref.hokkaido.lg.jp/hf/kth/kak/kisy...</td>\n",
              "    </tr>\n",
              "    <tr>\n",
              "      <th>23</th>\n",
              "      <td>1-28</td>\n",
              "      <td>1-43</td>\n",
              "      <td>不明</td>\n",
              "      <td>北海道</td>\n",
              "      <td>生活関連商品の展示会</td>\n",
              "      <td>http://www.pref.hokkaido.lg.jp/hf/kth/kak/sing...</td>\n",
              "    </tr>\n",
              "    <tr>\n",
              "      <th>24</th>\n",
              "      <td>1-28</td>\n",
              "      <td>1-72</td>\n",
              "      <td>不明</td>\n",
              "      <td>北海道</td>\n",
              "      <td>不明</td>\n",
              "      <td>http://www.pref.hokkaido.lg.jp/hf/kth/kak/sing...</td>\n",
              "    </tr>\n",
              "    <tr>\n",
              "      <th>...</th>\n",
              "      <td>...</td>\n",
              "      <td>...</td>\n",
              "      <td>...</td>\n",
              "      <td>...</td>\n",
              "      <td>...</td>\n",
              "      <td>...</td>\n",
              "    </tr>\n",
              "    <tr>\n",
              "      <th>436</th>\n",
              "      <td>27-76</td>\n",
              "      <td>27-5</td>\n",
              "      <td>ライブハウス滞在 (2/19 Soap opera classics -Umeda)</td>\n",
              "      <td>大阪府</td>\n",
              "      <td>ライブハウスSoap opera classics –Umeda</td>\n",
              "      <td>http://www.pref.osaka.lg.jp/hodo/attach/hodo-3...</td>\n",
              "    </tr>\n",
              "    <tr>\n",
              "      <th>437</th>\n",
              "      <td>27-77</td>\n",
              "      <td>27-46</td>\n",
              "      <td>濃厚接触者</td>\n",
              "      <td>大阪府</td>\n",
              "      <td>不明</td>\n",
              "      <td>http://www.pref.osaka.lg.jp/hodo/attach/hodo-3...</td>\n",
              "    </tr>\n",
              "    <tr>\n",
              "      <th>438</th>\n",
              "      <td>27-77</td>\n",
              "      <td>27-5</td>\n",
              "      <td>ライブハウス滞在 (2/19 Soap opera classics -Umeda)</td>\n",
              "      <td>大阪府</td>\n",
              "      <td>ライブハウスSoap opera classics –Umeda</td>\n",
              "      <td>http://www.pref.osaka.lg.jp/hodo/attach/hodo-3...</td>\n",
              "    </tr>\n",
              "    <tr>\n",
              "      <th>440</th>\n",
              "      <td>27-80</td>\n",
              "      <td>27-12</td>\n",
              "      <td>ライブハウス滞在 (2/18 Live House Rumio)</td>\n",
              "      <td>大阪府</td>\n",
              "      <td>ライブハウスLIVE HOUSE Rumio</td>\n",
              "      <td>http://www.pref.osaka.lg.jp/hodo/attach/hodo-3...</td>\n",
              "    </tr>\n",
              "    <tr>\n",
              "      <th>441</th>\n",
              "      <td>27-80</td>\n",
              "      <td>27-5</td>\n",
              "      <td>ライブハウス滞在 (2/24 Soap opera classics -Umeda)</td>\n",
              "      <td>大阪府</td>\n",
              "      <td>ライブハウスSoap opera classics –Umeda</td>\n",
              "      <td>http://www.pref.osaka.lg.jp/hodo/attach/hodo-3...</td>\n",
              "    </tr>\n",
              "  </tbody>\n",
              "</table>\n",
              "<p>129 rows × 6 columns</p>\n",
              "</div>"
            ],
            "text/plain": [
              "    罹患者id1  ...                                                情報源\n",
              "13    1-17  ...  http://www.pref.hokkaido.lg.jp/hf/kth/kak/sing...\n",
              "20    1-27  ...  http://www.pref.hokkaido.lg.jp/hf/kth/kak/sing...\n",
              "22    1-28  ...  http://www.pref.hokkaido.lg.jp/hf/kth/kak/kisy...\n",
              "23    1-28  ...  http://www.pref.hokkaido.lg.jp/hf/kth/kak/sing...\n",
              "24    1-28  ...  http://www.pref.hokkaido.lg.jp/hf/kth/kak/sing...\n",
              "..     ...  ...                                                ...\n",
              "436  27-76  ...  http://www.pref.osaka.lg.jp/hodo/attach/hodo-3...\n",
              "437  27-77  ...  http://www.pref.osaka.lg.jp/hodo/attach/hodo-3...\n",
              "438  27-77  ...  http://www.pref.osaka.lg.jp/hodo/attach/hodo-3...\n",
              "440  27-80  ...  http://www.pref.osaka.lg.jp/hodo/attach/hodo-3...\n",
              "441  27-80  ...  http://www.pref.osaka.lg.jp/hodo/attach/hodo-3...\n",
              "\n",
              "[129 rows x 6 columns]"
            ]
          },
          "metadata": {
            "tags": []
          },
          "execution_count": 62
        }
      ]
    },
    {
      "cell_type": "code",
      "metadata": {
        "id": "9X_yP3n-PesQ",
        "colab_type": "code",
        "colab": {
          "base_uri": "https://localhost:8080/",
          "height": 1000
        },
        "outputId": "21efe6e7-2760-4460-e8be-1336ea49c3c7"
      },
      "source": [
        "# この場合how=\"left\"が正しそうです。 左のデータフレーム（今回はdf）に揃えます。\n",
        "# 参考 -> https://qiita.com/hikaru_/items/e9c1356f674f2baa9e64\n",
        "df_merge = pd.merge(left=df, right=df_info, how='left', left_on=\"罹患者id\", right_on=\"罹患者id1\")\n",
        "df_merge"
      ],
      "execution_count": 64,
      "outputs": [
        {
          "output_type": "execute_result",
          "data": {
            "text/html": [
              "<div>\n",
              "<style scoped>\n",
              "    .dataframe tbody tr th:only-of-type {\n",
              "        vertical-align: middle;\n",
              "    }\n",
              "\n",
              "    .dataframe tbody tr th {\n",
              "        vertical-align: top;\n",
              "    }\n",
              "\n",
              "    .dataframe thead th {\n",
              "        text-align: right;\n",
              "    }\n",
              "</style>\n",
              "<table border=\"1\" class=\"dataframe\">\n",
              "  <thead>\n",
              "    <tr style=\"text-align: right;\">\n",
              "      <th></th>\n",
              "      <th>罹患者id</th>\n",
              "      <th>都道府県コード</th>\n",
              "      <th>都道府県別罹患者No</th>\n",
              "      <th>発熱観察日</th>\n",
              "      <th>受診日</th>\n",
              "      <th>公表日</th>\n",
              "      <th>回復日</th>\n",
              "      <th>死亡日</th>\n",
              "      <th>受診都道府県</th>\n",
              "      <th>受診都道府県緯度</th>\n",
              "      <th>受診都道府県経度</th>\n",
              "      <th>居住地</th>\n",
              "      <th>年代</th>\n",
              "      <th>性別</th>\n",
              "      <th>職業</th>\n",
              "      <th>海外渡航歴ﾌﾗｸﾞ</th>\n",
              "      <th>海外渡航先</th>\n",
              "      <th>帰国日</th>\n",
              "      <th>ﾀﾞｲﾔﾓﾝﾄﾞﾌﾟﾘﾝｾｽ号乗船ﾌﾗｸﾞ</th>\n",
              "      <th>症状・経過</th>\n",
              "      <th>行動歴</th>\n",
              "      <th>濃厚接触者状況</th>\n",
              "      <th>情報源_x</th>\n",
              "      <th>罹患者id1</th>\n",
              "      <th>罹患者id2</th>\n",
              "      <th>関係性</th>\n",
              "      <th>都道府県</th>\n",
              "      <th>場所</th>\n",
              "      <th>情報源_y</th>\n",
              "    </tr>\n",
              "  </thead>\n",
              "  <tbody>\n",
              "    <tr>\n",
              "      <th>0</th>\n",
              "      <td>1-1</td>\n",
              "      <td>1.0</td>\n",
              "      <td>1.0</td>\n",
              "      <td>2020/01/26</td>\n",
              "      <td>2020/01/27</td>\n",
              "      <td>2020/01/28</td>\n",
              "      <td>NaN</td>\n",
              "      <td>NaN</td>\n",
              "      <td>北海道</td>\n",
              "      <td>NaN</td>\n",
              "      <td>NaN</td>\n",
              "      <td>中国（武漢市）</td>\n",
              "      <td>40代</td>\n",
              "      <td>女性</td>\n",
              "      <td>NaN</td>\n",
              "      <td>1</td>\n",
              "      <td>NaN</td>\n",
              "      <td>NaN</td>\n",
              "      <td>0.0</td>\n",
              "      <td>1月21日に来日し、22日より北海道を観光。\\n1月26日 体調不良のため外出せず。夜間に咳...</td>\n",
              "      <td>1月21日、２名で来日し東京都内の知人宅に宿泊。\\n1月22日、３名で東京から北海道に移動し...</td>\n",
              "      <td>濃厚接触者を特定し\\n健康観察終了</td>\n",
              "      <td>http://www.pref.hokkaido.lg.jp/hf/kth/kak/hass...</td>\n",
              "      <td>NaN</td>\n",
              "      <td>NaN</td>\n",
              "      <td>NaN</td>\n",
              "      <td>NaN</td>\n",
              "      <td>NaN</td>\n",
              "      <td>NaN</td>\n",
              "    </tr>\n",
              "    <tr>\n",
              "      <th>1</th>\n",
              "      <td>1-2</td>\n",
              "      <td>1.0</td>\n",
              "      <td>2.0</td>\n",
              "      <td>2020/01/31</td>\n",
              "      <td>2020/02/03</td>\n",
              "      <td>2020/02/14</td>\n",
              "      <td>NaN</td>\n",
              "      <td>NaN</td>\n",
              "      <td>北海道</td>\n",
              "      <td>NaN</td>\n",
              "      <td>NaN</td>\n",
              "      <td>札幌市</td>\n",
              "      <td>50代</td>\n",
              "      <td>男性</td>\n",
              "      <td>自営業</td>\n",
              "      <td>0</td>\n",
              "      <td>NaN</td>\n",
              "      <td>NaN</td>\n",
              "      <td>0.0</td>\n",
              "      <td>1月31日 発熱、咳、倦怠感が出現。\\n2月 3日 石狩振興局管内の医療機関Aを受診。\\n2...</td>\n",
              "      <td>1月21日、２名で来日し東京都内の知人宅に宿泊。\\n1月22日、３名で東京から北海道に移動し...</td>\n",
              "      <td>健康観察実施中</td>\n",
              "      <td>http://www.pref.hokkaido.lg.jp/hf/kth/kak/hass...</td>\n",
              "      <td>NaN</td>\n",
              "      <td>NaN</td>\n",
              "      <td>NaN</td>\n",
              "      <td>NaN</td>\n",
              "      <td>NaN</td>\n",
              "      <td>NaN</td>\n",
              "    </tr>\n",
              "    <tr>\n",
              "      <th>2</th>\n",
              "      <td>1-3</td>\n",
              "      <td>1.0</td>\n",
              "      <td>3.0</td>\n",
              "      <td>2020/02/12</td>\n",
              "      <td>2020/02/15</td>\n",
              "      <td>2020/02/19</td>\n",
              "      <td>NaN</td>\n",
              "      <td>NaN</td>\n",
              "      <td>北海道</td>\n",
              "      <td>NaN</td>\n",
              "      <td>NaN</td>\n",
              "      <td>札幌市</td>\n",
              "      <td>40代</td>\n",
              "      <td>男性</td>\n",
              "      <td>会社員</td>\n",
              "      <td>0</td>\n",
              "      <td>NaN</td>\n",
              "      <td>NaN</td>\n",
              "      <td>0.0</td>\n",
              "      <td>2月 8日 倦怠感、筋肉痛、関節痛が出現\\n2月12日 発熱、咳が出現\\n2月13日 札幌市...</td>\n",
              "      <td>2月1日から2月12日までの期間、No.5の男性（2月19日感染判明）とともに、雪まつり大通...</td>\n",
              "      <td>札幌市公表中</td>\n",
              "      <td>http://www.pref.hokkaido.lg.jp/hf/kth/kak/hass...</td>\n",
              "      <td>1-3</td>\n",
              "      <td>1-5</td>\n",
              "      <td>不明</td>\n",
              "      <td>兵庫県</td>\n",
              "      <td>さっぽろ雪まつり</td>\n",
              "      <td>http://www.pref.hokkaido.lg.jp/hf/kth/kak/hass...</td>\n",
              "    </tr>\n",
              "    <tr>\n",
              "      <th>3</th>\n",
              "      <td>1-4</td>\n",
              "      <td>1.0</td>\n",
              "      <td>4.0</td>\n",
              "      <td>2020/02/03</td>\n",
              "      <td>2020/02/07</td>\n",
              "      <td>2020/02/19</td>\n",
              "      <td>NaN</td>\n",
              "      <td>NaN</td>\n",
              "      <td>北海道</td>\n",
              "      <td>NaN</td>\n",
              "      <td>NaN</td>\n",
              "      <td>渡島総合振興局管内\\n（七飯町）</td>\n",
              "      <td>60代</td>\n",
              "      <td>男性</td>\n",
              "      <td>議会議員</td>\n",
              "      <td>0</td>\n",
              "      <td>NaN</td>\n",
              "      <td>NaN</td>\n",
              "      <td>0.0</td>\n",
              "      <td>2月 3日 微熱、咽頭痛。\\n2月 7日 渡島総合振興局管内の医療機関Aを受診。\\n2月13...</td>\n",
              "      <td>本人からの申告によれば、海外渡航歴は無し。\\n濃厚接触者48名について保健所が健康観察を行う...</td>\n",
              "      <td>濃厚接触者を特定し\\n健康観察終了</td>\n",
              "      <td>http://www.pref.hokkaido.lg.jp/hf/kth/kak/hass...</td>\n",
              "      <td>1-4</td>\n",
              "      <td>1-12</td>\n",
              "      <td>不明</td>\n",
              "      <td>北海道</td>\n",
              "      <td>不明</td>\n",
              "      <td>http://www.pref.hokkaido.lg.jp/hf/kth/kak/kisy...</td>\n",
              "    </tr>\n",
              "    <tr>\n",
              "      <th>4</th>\n",
              "      <td>1-5</td>\n",
              "      <td>1.0</td>\n",
              "      <td>5.0</td>\n",
              "      <td>2020/02/18</td>\n",
              "      <td>2020/02/19</td>\n",
              "      <td>2020/02/20</td>\n",
              "      <td>NaN</td>\n",
              "      <td>NaN</td>\n",
              "      <td>北海道</td>\n",
              "      <td>NaN</td>\n",
              "      <td>NaN</td>\n",
              "      <td>札幌市</td>\n",
              "      <td>40代</td>\n",
              "      <td>男性</td>\n",
              "      <td>会社員</td>\n",
              "      <td>0</td>\n",
              "      <td>NaN</td>\n",
              "      <td>NaN</td>\n",
              "      <td>0.0</td>\n",
              "      <td>2月15日 悪寒、発汗、倦怠感、筋肉痛、関節痛が出現。\\n2月18日 発熱、筋肉痛、咳、痰が...</td>\n",
              "      <td>2月1日から2月12日までの期間、No.3の男性（2月18日感染判明）とともに、雪まつり大通...</td>\n",
              "      <td>札幌市公表中</td>\n",
              "      <td>http://www.pref.hokkaido.lg.jp/hf/kth/kak/hass...</td>\n",
              "      <td>1-5</td>\n",
              "      <td>1-3</td>\n",
              "      <td>不明</td>\n",
              "      <td>北海道</td>\n",
              "      <td>さっぽろ雪まつり</td>\n",
              "      <td>http://www.pref.hokkaido.lg.jp/hf/kth/kak/hass...</td>\n",
              "    </tr>\n",
              "    <tr>\n",
              "      <th>...</th>\n",
              "      <td>...</td>\n",
              "      <td>...</td>\n",
              "      <td>...</td>\n",
              "      <td>...</td>\n",
              "      <td>...</td>\n",
              "      <td>...</td>\n",
              "      <td>...</td>\n",
              "      <td>...</td>\n",
              "      <td>...</td>\n",
              "      <td>...</td>\n",
              "      <td>...</td>\n",
              "      <td>...</td>\n",
              "      <td>...</td>\n",
              "      <td>...</td>\n",
              "      <td>...</td>\n",
              "      <td>...</td>\n",
              "      <td>...</td>\n",
              "      <td>...</td>\n",
              "      <td>...</td>\n",
              "      <td>...</td>\n",
              "      <td>...</td>\n",
              "      <td>...</td>\n",
              "      <td>...</td>\n",
              "      <td>...</td>\n",
              "      <td>...</td>\n",
              "      <td>...</td>\n",
              "      <td>...</td>\n",
              "      <td>...</td>\n",
              "      <td>...</td>\n",
              "    </tr>\n",
              "    <tr>\n",
              "      <th>1055</th>\n",
              "      <td>45-2</td>\n",
              "      <td>45.0</td>\n",
              "      <td>2.0</td>\n",
              "      <td>2020/03/15</td>\n",
              "      <td>2020/03/16</td>\n",
              "      <td>2020/03/17</td>\n",
              "      <td>NaN</td>\n",
              "      <td>NaN</td>\n",
              "      <td>宮崎県</td>\n",
              "      <td>NaN</td>\n",
              "      <td>NaN</td>\n",
              "      <td>国外</td>\n",
              "      <td>20代</td>\n",
              "      <td>男性</td>\n",
              "      <td>会社員</td>\n",
              "      <td>1</td>\n",
              "      <td>NaN</td>\n",
              "      <td>NaN</td>\n",
              "      <td>0.0</td>\n",
              "      <td>3月15日\\n37.5度の発熱と咳嗽あり。解熱剤使用。\\n3月16日\\n39度の発熱継続する...</td>\n",
              "      <td>3月12日\\n国外を出発。\\n3月13日\\n成田空港到着後東京滞在。\\n3月15日\\n横浜市...</td>\n",
              "      <td>友人1人（経過観察期間：3月31日まで）\\n3月18日PCR検査陰性\\n現在症状なし\\nレン...</td>\n",
              "      <td>https://www.pref.miyazaki.lg.jp/kohosenryaku/k...</td>\n",
              "      <td>NaN</td>\n",
              "      <td>NaN</td>\n",
              "      <td>NaN</td>\n",
              "      <td>NaN</td>\n",
              "      <td>NaN</td>\n",
              "      <td>NaN</td>\n",
              "    </tr>\n",
              "    <tr>\n",
              "      <th>1056</th>\n",
              "      <td>45-3</td>\n",
              "      <td>45.0</td>\n",
              "      <td>3.0</td>\n",
              "      <td>2020/03/07</td>\n",
              "      <td>2020/03/11</td>\n",
              "      <td>2020/03/17</td>\n",
              "      <td>NaN</td>\n",
              "      <td>NaN</td>\n",
              "      <td>宮崎県</td>\n",
              "      <td>NaN</td>\n",
              "      <td>NaN</td>\n",
              "      <td>高千穂町</td>\n",
              "      <td>40代</td>\n",
              "      <td>男性</td>\n",
              "      <td>郵便局員</td>\n",
              "      <td>0</td>\n",
              "      <td>NaN</td>\n",
              "      <td>NaN</td>\n",
              "      <td>0.0</td>\n",
              "      <td>3月7日\\n37.5度の発熱、咳、節々の痛み、目と頭の痛み。\\n3月9日\\n39.1度の発熱...</td>\n",
              "      <td>3月5日\\n熊本県訪問\\n3月7日から\\n自宅安静</td>\n",
              "      <td>・同居家族（妻）（経過観察期間：3月31日まで）\\n　3月18日PCR検査陰性\\n　現在症状...</td>\n",
              "      <td>https://www.pref.miyazaki.lg.jp/kohosenryaku/k...</td>\n",
              "      <td>NaN</td>\n",
              "      <td>NaN</td>\n",
              "      <td>NaN</td>\n",
              "      <td>NaN</td>\n",
              "      <td>NaN</td>\n",
              "      <td>NaN</td>\n",
              "    </tr>\n",
              "    <tr>\n",
              "      <th>1057</th>\n",
              "      <td>47-1</td>\n",
              "      <td>47.0</td>\n",
              "      <td>1.0</td>\n",
              "      <td>2020/02/05</td>\n",
              "      <td>2020/02/12</td>\n",
              "      <td>2020/02/14</td>\n",
              "      <td>NaN</td>\n",
              "      <td>NaN</td>\n",
              "      <td>沖縄県</td>\n",
              "      <td>NaN</td>\n",
              "      <td>NaN</td>\n",
              "      <td>島尻郡</td>\n",
              "      <td>60代</td>\n",
              "      <td>女性</td>\n",
              "      <td>タクシー運転手</td>\n",
              "      <td>0</td>\n",
              "      <td>NaN</td>\n",
              "      <td>NaN</td>\n",
              "      <td>0.0</td>\n",
              "      <td>・２月１日 ：ダイヤモンドプリンセス号に乗船していた４名を乗車。\\n・２月５日 ：咳がひどく...</td>\n",
              "      <td>調査中</td>\n",
              "      <td>調査中</td>\n",
              "      <td>https://www.pref.okinawa.jp/site/hoken/chiikih...</td>\n",
              "      <td>NaN</td>\n",
              "      <td>NaN</td>\n",
              "      <td>NaN</td>\n",
              "      <td>NaN</td>\n",
              "      <td>NaN</td>\n",
              "      <td>NaN</td>\n",
              "    </tr>\n",
              "    <tr>\n",
              "      <th>1058</th>\n",
              "      <td>47-2</td>\n",
              "      <td>47.0</td>\n",
              "      <td>2.0</td>\n",
              "      <td>2020/02/10</td>\n",
              "      <td>2020/02/18</td>\n",
              "      <td>2020/02/19</td>\n",
              "      <td>NaN</td>\n",
              "      <td>NaN</td>\n",
              "      <td>沖縄県</td>\n",
              "      <td>NaN</td>\n",
              "      <td>NaN</td>\n",
              "      <td>那覇市</td>\n",
              "      <td>60代</td>\n",
              "      <td>男性</td>\n",
              "      <td>タクシー運転手</td>\n",
              "      <td>0</td>\n",
              "      <td>NaN</td>\n",
              "      <td>NaN</td>\n",
              "      <td>0.0</td>\n",
              "      <td>・２月１日 ：ダイヤモンドプリンセス号に乗船していた乗客を乗車。\\n・２月 10 日 ：倦怠...</td>\n",
              "      <td>調査中</td>\n",
              "      <td>調査中</td>\n",
              "      <td>https://www.pref.okinawa.jp/site/hoken/chiikih...</td>\n",
              "      <td>NaN</td>\n",
              "      <td>NaN</td>\n",
              "      <td>NaN</td>\n",
              "      <td>NaN</td>\n",
              "      <td>NaN</td>\n",
              "      <td>NaN</td>\n",
              "    </tr>\n",
              "    <tr>\n",
              "      <th>1059</th>\n",
              "      <td>47-3</td>\n",
              "      <td>47.0</td>\n",
              "      <td>3.0</td>\n",
              "      <td>2020/02/17</td>\n",
              "      <td>2020/02/20</td>\n",
              "      <td>2020/02/20</td>\n",
              "      <td>NaN</td>\n",
              "      <td>NaN</td>\n",
              "      <td>沖縄県</td>\n",
              "      <td>NaN</td>\n",
              "      <td>NaN</td>\n",
              "      <td>豊見城市</td>\n",
              "      <td>80代</td>\n",
              "      <td>男性</td>\n",
              "      <td>農業</td>\n",
              "      <td>0</td>\n",
              "      <td>NaN</td>\n",
              "      <td>NaN</td>\n",
              "      <td>0.0</td>\n",
              "      <td>・２月６日 ：微熱あり、咳なし、風邪気味。\\n・２月 17 日 ：発熱 36.8 ℃、倦怠感...</td>\n",
              "      <td>調査中</td>\n",
              "      <td>調査中</td>\n",
              "      <td>https://www.pref.okinawa.jp/site/hoken/chiikih...</td>\n",
              "      <td>NaN</td>\n",
              "      <td>NaN</td>\n",
              "      <td>NaN</td>\n",
              "      <td>NaN</td>\n",
              "      <td>NaN</td>\n",
              "      <td>NaN</td>\n",
              "    </tr>\n",
              "  </tbody>\n",
              "</table>\n",
              "<p>1060 rows × 29 columns</p>\n",
              "</div>"
            ],
            "text/plain": [
              "     罹患者id  ...                                              情報源_y\n",
              "0      1-1  ...                                                NaN\n",
              "1      1-2  ...                                                NaN\n",
              "2      1-3  ...  http://www.pref.hokkaido.lg.jp/hf/kth/kak/hass...\n",
              "3      1-4  ...  http://www.pref.hokkaido.lg.jp/hf/kth/kak/kisy...\n",
              "4      1-5  ...  http://www.pref.hokkaido.lg.jp/hf/kth/kak/hass...\n",
              "...    ...  ...                                                ...\n",
              "1055  45-2  ...                                                NaN\n",
              "1056  45-3  ...                                                NaN\n",
              "1057  47-1  ...                                                NaN\n",
              "1058  47-2  ...                                                NaN\n",
              "1059  47-3  ...                                                NaN\n",
              "\n",
              "[1060 rows x 29 columns]"
            ]
          },
          "metadata": {
            "tags": []
          },
          "execution_count": 64
        }
      ]
    },
    {
      "cell_type": "markdown",
      "metadata": {
        "id": "QAEbiOF4PphG",
        "colab_type": "text"
      },
      "source": [
        "# データ解析の例\n",
        "## 使うデータ\n",
        "\n",
        "- df: 単純に罹患者のデータ\n",
        "- df_merge: 罹患者との関係性を示すデータ。関係性のカラムにどういう関係があるかが書いてある。"
      ]
    },
    {
      "cell_type": "markdown",
      "metadata": {
        "id": "4fUocpLxonUY",
        "colab_type": "text"
      },
      "source": [
        "### 数を数えてみる"
      ]
    },
    {
      "cell_type": "code",
      "metadata": {
        "id": "wS_W0IaTPfQd",
        "colab_type": "code",
        "colab": {
          "base_uri": "https://localhost:8080/",
          "height": 295
        },
        "outputId": "be1da2ab-6534-4706-e324-0e74c4132d5f"
      },
      "source": [
        "sns.countplot(\"性別\", data=df) # 我々男性の方が感染してるぜ！"
      ],
      "execution_count": 67,
      "outputs": [
        {
          "output_type": "execute_result",
          "data": {
            "text/plain": [
              "<matplotlib.axes._subplots.AxesSubplot at 0x7f283311dda0>"
            ]
          },
          "metadata": {
            "tags": []
          },
          "execution_count": 67
        },
        {
          "output_type": "display_data",
          "data": {
            "image/png": "[encoded data removed]",
            "text/plain": [
              "<Figure size 432x288 with 1 Axes>"
            ]
          },
          "metadata": {
            "tags": []
          }
        }
      ]
    },
    {
      "cell_type": "code",
      "metadata": {
        "id": "XaUO-rMfQ11o",
        "colab_type": "code",
        "colab": {
          "base_uri": "https://localhost:8080/",
          "height": 295
        },
        "outputId": "505eb506-c98d-4f7f-9c80-5c2bac916fa6"
      },
      "source": [
        "sns.countplot(\"年代\", data=df, )# なんか見づらい。年代順に並んでいない。\n",
        "# 以下、年代順に並べ替えるけど、難しかったらスルーで。"
      ],
      "execution_count": 89,
      "outputs": [
        {
          "output_type": "execute_result",
          "data": {
            "text/plain": [
              "<matplotlib.axes._subplots.AxesSubplot at 0x7f28304d7e10>"
            ]
          },
          "metadata": {
            "tags": []
          },
          "execution_count": 89
        },
        {
          "output_type": "display_data",
          "data": {
            "image/png": "[encoded data removed]",
            "text/plain": [
              "<Figure size 432x288 with 1 Axes>"
            ]
          },
          "metadata": {
            "tags": []
          }
        }
      ]
    },
    {
      "cell_type": "code",
      "metadata": {
        "id": "nI_sbk14lhdI",
        "colab_type": "code",
        "colab": {
          "base_uri": "https://localhost:8080/",
          "height": 68
        },
        "outputId": "2f58221d-4695-486d-aecd-66920154cc24"
      },
      "source": [
        "df[\"年代\"].unique() # 年代の中にはどういうデータが入っているのか。"
      ],
      "execution_count": 87,
      "outputs": [
        {
          "output_type": "execute_result",
          "data": {
            "text/plain": [
              "array(['40代', '50代', '60代', '10歳未満', '10代', '70代', '80代', '30代', '20代',\n",
              "       '高齢者', '90代', '非公表', nan, '未就学児', '10歳未満（乳幼児）', 'その他・非公表'],\n",
              "      dtype=object)"
            ]
          },
          "metadata": {
            "tags": []
          },
          "execution_count": 87
        }
      ]
    },
    {
      "cell_type": "code",
      "metadata": {
        "id": "S-otlOPQl4fE",
        "colab_type": "code",
        "colab": {}
      },
      "source": [
        "generation_order = [\"その他・非公表\", \"非公表\", np.nan, '10歳未満(乳幼児)', '10歳未満'] + [str(gen) + \"代\" for gen in np.arange(10, 100, 10)]# これはフォーマットが泣く泣く手入力で。一部リストの内包表記（要検索）"
      ],
      "execution_count": 0,
      "outputs": []
    },
    {
      "cell_type": "code",
      "metadata": {
        "id": "NYVl7Nngnlhi",
        "colab_type": "code",
        "colab": {
          "base_uri": "https://localhost:8080/",
          "height": 255
        },
        "outputId": "5f878e9c-b65a-4e65-91bb-b9b5e1209201"
      },
      "source": [
        "generation_order"
      ],
      "execution_count": 91,
      "outputs": [
        {
          "output_type": "execute_result",
          "data": {
            "text/plain": [
              "['その他・非公表',\n",
              " '非公表',\n",
              " nan,\n",
              " '10歳未満(乳幼児)',\n",
              " '10歳未満',\n",
              " '10代',\n",
              " '20代',\n",
              " '30代',\n",
              " '40代',\n",
              " '50代',\n",
              " '60代',\n",
              " '70代',\n",
              " '80代',\n",
              " '90代']"
            ]
          },
          "metadata": {
            "tags": []
          },
          "execution_count": 91
        }
      ]
    },
    {
      "cell_type": "code",
      "metadata": {
        "id": "1qZqEWqmnmru",
        "colab_type": "code",
        "colab": {
          "base_uri": "https://localhost:8080/",
          "height": 295
        },
        "outputId": "da09c87f-bde1-45ee-abde-e1f61b289f90"
      },
      "source": [
        "sns.countplot(\"年代\", data=df, order=generation_order) # 年代が見づらい"
      ],
      "execution_count": 92,
      "outputs": [
        {
          "output_type": "execute_result",
          "data": {
            "text/plain": [
              "<matplotlib.axes._subplots.AxesSubplot at 0x7f2832b4c4e0>"
            ]
          },
          "metadata": {
            "tags": []
          },
          "execution_count": 92
        },
        {
          "output_type": "display_data",
          "data": {
            "image/png": "[encoded data removed]",
            "text/plain": [
              "<Figure size 432x288 with 1 Axes>"
            ]
          },
          "metadata": {
            "tags": []
          }
        }
      ]
    },
    {
      "cell_type": "code",
      "metadata": {
        "id": "bHdAEKwun0-K",
        "colab_type": "code",
        "colab": {
          "base_uri": "https://localhost:8080/",
          "height": 314
        },
        "outputId": "741ad0fa-058b-451d-fd7f-b9016c51c20a"
      },
      "source": [
        "fig = plt.figure(figsize=(8, 3), facecolor='white')\n",
        "ax = fig.add_subplot(111)\n",
        "sns.countplot(\"年代\", data=df, order=generation_order, ax=ax) # 年代が見づらい\n",
        "ax.tick_params(which='major', labelsize=12)\n",
        "ax.set_xticklabels(ax.get_xticklabels(), rotation=90)\n",
        "ax.xaxis.label.set_fontsize(15)\n",
        "ax.yaxis.label.set_fontsize(15)\n",
        "plt.show()\n",
        "plt.close()"
      ],
      "execution_count": 94,
      "outputs": [
        {
          "output_type": "display_data",
          "data": {
            "image/png": "[encoded data removed]",
            "text/plain": [
              "<Figure size 576x216 with 1 Axes>"
            ]
          },
          "metadata": {
            "tags": []
          }
        }
      ]
    },
    {
      "cell_type": "code",
      "metadata": {
        "id": "cxcLIi4coFO1",
        "colab_type": "code",
        "colab": {}
      },
      "source": [
        "# かねこもまだ20代です。"
      ],
      "execution_count": 0,
      "outputs": []
    },
    {
      "cell_type": "markdown",
      "metadata": {
        "id": "HmOWmMmjoiYQ",
        "colab_type": "text"
      },
      "source": [
        "### 時系列解析"
      ]
    },
    {
      "cell_type": "code",
      "metadata": {
        "id": "kbKBnCLRoUQX",
        "colab_type": "code",
        "colab": {}
      },
      "source": [
        "new_patient = df['発熱観察日'].value_counts().sort_index()"
      ],
      "execution_count": 0,
      "outputs": []
    },
    {
      "cell_type": "code",
      "metadata": {
        "id": "GpOA0ez0orHX",
        "colab_type": "code",
        "colab": {
          "base_uri": "https://localhost:8080/",
          "height": 1000
        },
        "outputId": "1ddf2b54-5bf9-4a4d-b290-a234ad918e37"
      },
      "source": [
        "new_patient # 2019年は恐らく誤記でしょう。"
      ],
      "execution_count": 98,
      "outputs": [
        {
          "output_type": "execute_result",
          "data": {
            "text/plain": [
              "2019/03/05     1\n",
              "2019/03/09     1\n",
              "2020/01/03     1\n",
              "2020/01/20     2\n",
              "2020/01/21     1\n",
              "2020/01/23     2\n",
              "2020/01/24     2\n",
              "2020/01/25     1\n",
              "2020/01/26     1\n",
              "2020/01/29     1\n",
              "2020/01/30     1\n",
              "2020/01/31     2\n",
              "2020/02/01     2\n",
              "2020/02/02     3\n",
              "2020/02/03     6\n",
              "2020/02/04     4\n",
              "2020/02/05     5\n",
              "2020/02/06     4\n",
              "2020/02/07     4\n",
              "2020/02/08     2\n",
              "2020/02/09     1\n",
              "2020/02/10     7\n",
              "2020/02/12     7\n",
              "2020/02/13     4\n",
              "2020/02/14     7\n",
              "2020/02/15     4\n",
              "2020/02/16    10\n",
              "2020/02/17    14\n",
              "2020/02/18    15\n",
              "2020/02/19    10\n",
              "2020/02/20    16\n",
              "2020/02/21    13\n",
              "2020/02/22    14\n",
              "2020/02/23    26\n",
              "2020/02/24    23\n",
              "2020/02/25    33\n",
              "2020/02/26    21\n",
              "2020/02/27    18\n",
              "2020/02/28    27\n",
              "2020/02/29    18\n",
              "2020/03/01    32\n",
              "2020/03/02    20\n",
              "2020/03/03    29\n",
              "2020/03/04    25\n",
              "2020/03/05    23\n",
              "2020/03/06    24\n",
              "2020/03/07    29\n",
              "2020/03/08    23\n",
              "2020/03/09    30\n",
              "2020/03/10    19\n",
              "2020/03/11    19\n",
              "2020/03/12    17\n",
              "2020/03/13    17\n",
              "2020/03/14     8\n",
              "2020/03/15    10\n",
              "2020/03/16     5\n",
              "2020/03/17     8\n",
              "2020/03/18     3\n",
              "2020/03/19     4\n",
              "Name: 発熱観察日, dtype: int64"
            ]
          },
          "metadata": {
            "tags": []
          },
          "execution_count": 98
        }
      ]
    },
    {
      "cell_type": "code",
      "metadata": {
        "id": "Vfn-SxUFor7w",
        "colab_type": "code",
        "colab": {
          "base_uri": "https://localhost:8080/",
          "height": 1000
        },
        "outputId": "195f5248-bc2a-41ff-9264-e8ef54bee1d6"
      },
      "source": [
        "new_patient.index = new_patient.index.str.replace(\"2019\", \"2020\")\n",
        "new_patient.sort_index(inplace=True)\n",
        "new_patient"
      ],
      "execution_count": 99,
      "outputs": [
        {
          "output_type": "execute_result",
          "data": {
            "text/plain": [
              "2020/01/03     1\n",
              "2020/01/20     2\n",
              "2020/01/21     1\n",
              "2020/01/23     2\n",
              "2020/01/24     2\n",
              "2020/01/25     1\n",
              "2020/01/26     1\n",
              "2020/01/29     1\n",
              "2020/01/30     1\n",
              "2020/01/31     2\n",
              "2020/02/01     2\n",
              "2020/02/02     3\n",
              "2020/02/03     6\n",
              "2020/02/04     4\n",
              "2020/02/05     5\n",
              "2020/02/06     4\n",
              "2020/02/07     4\n",
              "2020/02/08     2\n",
              "2020/02/09     1\n",
              "2020/02/10     7\n",
              "2020/02/12     7\n",
              "2020/02/13     4\n",
              "2020/02/14     7\n",
              "2020/02/15     4\n",
              "2020/02/16    10\n",
              "2020/02/17    14\n",
              "2020/02/18    15\n",
              "2020/02/19    10\n",
              "2020/02/20    16\n",
              "2020/02/21    13\n",
              "2020/02/22    14\n",
              "2020/02/23    26\n",
              "2020/02/24    23\n",
              "2020/02/25    33\n",
              "2020/02/26    21\n",
              "2020/02/27    18\n",
              "2020/02/28    27\n",
              "2020/02/29    18\n",
              "2020/03/01    32\n",
              "2020/03/02    20\n",
              "2020/03/03    29\n",
              "2020/03/04    25\n",
              "2020/03/05    23\n",
              "2020/03/05     1\n",
              "2020/03/06    24\n",
              "2020/03/07    29\n",
              "2020/03/08    23\n",
              "2020/03/09     1\n",
              "2020/03/09    30\n",
              "2020/03/10    19\n",
              "2020/03/11    19\n",
              "2020/03/12    17\n",
              "2020/03/13    17\n",
              "2020/03/14     8\n",
              "2020/03/15    10\n",
              "2020/03/16     5\n",
              "2020/03/17     8\n",
              "2020/03/18     3\n",
              "2020/03/19     4\n",
              "Name: 発熱観察日, dtype: int64"
            ]
          },
          "metadata": {
            "tags": []
          },
          "execution_count": 99
        }
      ]
    },
    {
      "cell_type": "code",
      "metadata": {
        "id": "NioPCAspo2uT",
        "colab_type": "code",
        "colab": {
          "base_uri": "https://localhost:8080/",
          "height": 1000
        },
        "outputId": "88d101d5-8efe-42cc-8db3-b22c7802431e"
      },
      "source": [
        "new_patient.index = pd.to_datetime(new_patient.index) # datetime型というのがあります。時系列データは基本的にこれに変換してから図化します。\n",
        "new_patient"
      ],
      "execution_count": 100,
      "outputs": [
        {
          "output_type": "execute_result",
          "data": {
            "text/plain": [
              "2020-01-03     1\n",
              "2020-01-20     2\n",
              "2020-01-21     1\n",
              "2020-01-23     2\n",
              "2020-01-24     2\n",
              "2020-01-25     1\n",
              "2020-01-26     1\n",
              "2020-01-29     1\n",
              "2020-01-30     1\n",
              "2020-01-31     2\n",
              "2020-02-01     2\n",
              "2020-02-02     3\n",
              "2020-02-03     6\n",
              "2020-02-04     4\n",
              "2020-02-05     5\n",
              "2020-02-06     4\n",
              "2020-02-07     4\n",
              "2020-02-08     2\n",
              "2020-02-09     1\n",
              "2020-02-10     7\n",
              "2020-02-12     7\n",
              "2020-02-13     4\n",
              "2020-02-14     7\n",
              "2020-02-15     4\n",
              "2020-02-16    10\n",
              "2020-02-17    14\n",
              "2020-02-18    15\n",
              "2020-02-19    10\n",
              "2020-02-20    16\n",
              "2020-02-21    13\n",
              "2020-02-22    14\n",
              "2020-02-23    26\n",
              "2020-02-24    23\n",
              "2020-02-25    33\n",
              "2020-02-26    21\n",
              "2020-02-27    18\n",
              "2020-02-28    27\n",
              "2020-02-29    18\n",
              "2020-03-01    32\n",
              "2020-03-02    20\n",
              "2020-03-03    29\n",
              "2020-03-04    25\n",
              "2020-03-05    23\n",
              "2020-03-05     1\n",
              "2020-03-06    24\n",
              "2020-03-07    29\n",
              "2020-03-08    23\n",
              "2020-03-09     1\n",
              "2020-03-09    30\n",
              "2020-03-10    19\n",
              "2020-03-11    19\n",
              "2020-03-12    17\n",
              "2020-03-13    17\n",
              "2020-03-14     8\n",
              "2020-03-15    10\n",
              "2020-03-16     5\n",
              "2020-03-17     8\n",
              "2020-03-18     3\n",
              "2020-03-19     4\n",
              "Name: 発熱観察日, dtype: int64"
            ]
          },
          "metadata": {
            "tags": []
          },
          "execution_count": 100
        }
      ]
    },
    {
      "cell_type": "code",
      "metadata": {
        "id": "UeywipY6pBoe",
        "colab_type": "code",
        "colab": {
          "base_uri": "https://localhost:8080/",
          "height": 287
        },
        "outputId": "cc657465-c3d9-41f8-e800-96a17e4f3fee"
      },
      "source": [
        "new_patient.plot()\n"
      ],
      "execution_count": 101,
      "outputs": [
        {
          "output_type": "execute_result",
          "data": {
            "text/plain": [
              "<matplotlib.axes._subplots.AxesSubplot at 0x7f283007c2e8>"
            ]
          },
          "metadata": {
            "tags": []
          },
          "execution_count": 101
        },
        {
          "output_type": "display_data",
          "data": {
            "image/png": "[encoded data removed]",
            "text/plain": [
              "<Figure size 432x288 with 1 Axes>"
            ]
          },
          "metadata": {
            "tags": []
          }
        }
      ]
    },
    {
      "cell_type": "code",
      "metadata": {
        "id": "wTPh0qj6pDv5",
        "colab_type": "code",
        "colab": {}
      },
      "source": [
        ""
      ],
      "execution_count": 0,
      "outputs": []
    }
  ]
}